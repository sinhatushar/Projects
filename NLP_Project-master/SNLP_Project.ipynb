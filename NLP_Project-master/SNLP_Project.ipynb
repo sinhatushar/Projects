{
 "cells": [
  {
   "cell_type": "markdown",
   "metadata": {},
   "source": [
    "#################################################################################################\n",
    "## STEP (1)\n",
    "##### The following code is used to create a control csv file. The control file specifies which\n",
    "##### articles are in the training set, along with their respective coding, and which articles are \n",
    "#####  in the test set. The csv file you read in should contain the ratings of the human coders and ## follow the same formatting as the example template. The code will aggregate and average the \n",
    "##### ratings for each article. You can specify which question you want to code the article by.\n",
    "##### Remember to create new control files for each question type, and whenever you change which\n",
    "#####  articles are contained in the training set.\n",
    "#################################################################################################"
   ]
  },
  {
   "cell_type": "code",
   "execution_count": null,
   "metadata": {
    "collapsed": true
   },
   "outputs": [],
   "source": [
    "import numpy as np\n",
    "import pandas as pd\n",
    "import os"
   ]
  },
  {
   "cell_type": "code",
   "execution_count": null,
   "metadata": {
    "collapsed": false
   },
   "outputs": [],
   "source": [
    "#Specify full set of articles\n",
    "filenames=list()\n",
    "for root, dirs, files in os.walk(r\"C:\\Users\\PUSHPENDRA\\Desktop\\Acads\\Autumn 2017-18\\snlp\\open data\\6. News articles\"):\n",
    "    for file in files:\n",
    "        filenames.append(file)\n",
    "        print(file)\n",
    "filedat=pd.DataFrame(filenames)\n"
   ]
  },
  {
   "cell_type": "code",
   "execution_count": null,
   "metadata": {
    "collapsed": false
   },
   "outputs": [],
   "source": [
    "# specify which coding document to use - complete list of human coders' responses\n",
    "# must be in correct format, otherwise errors will occur below\n",
    "dat=pd.read_csv(r\"C:\\Users\\PUSHPENDRA\\Desktop\\Acads\\Autumn 2017-18\\snlp\\open data\\Pandemics_Response.csv\") \n",
    "dat"
   ]
  },
  {
   "cell_type": "code",
   "execution_count": null,
   "metadata": {
    "collapsed": false
   },
   "outputs": [],
   "source": [
    "# function that averages human coders' inputs and creates a control .csv file\n",
    "def average_score(col,filename=\"\"):\n",
    "    dat_agg=pd.DataFrame()\n",
    "    dat_agg=dat.groupby('Newsarticle', as_index=False).mean()\n",
    "    \n",
    "    #print(dat_agg)\n",
    "    # pad article name with zeros so that it matches text file\n",
    "    dat_agg['Article_pad']=\"\"\n",
    "    for i in range(231):\n",
    "        \n",
    "        dat_agg['Article_pad'][i]= dat_agg['Newsarticle'][i][:9]+\".docx\"\n",
    "    # specify training articles\n",
    "    dat_agg['Train']= 1\n",
    "    dat_agg[\"Train\"][200:]=0\n",
    "    \n",
    "    # ignore blank cells\n",
    "    ##dat_agg.dropna()\n",
    "    #control=pd.DataFrame()\n",
    "    #control=pd.concat([filedat,dat_agg])\n",
    "    \n",
    "    ROWID=dat_agg[\"Article_pad\"]\n",
    "    TRUTH=dat_agg[col]\n",
    "    TRAININGSET=dat_agg[\"Train\"]\n",
    "\n",
    "    control=pd.DataFrame()\n",
    "    control=pd.concat([ROWID,TRUTH,TRAININGSET],axis=1)\n",
    "    \n",
    "    control.fillna(0)\n",
    "    control.columns=[\"ROWID\",\"TRUTH\", \"TRAININGSET\"]\n",
    "    print(control)\n",
    "    path=r\"C:\\Users\\PUSHPENDRA\\Desktop\\Acads\\Autumn 2017-18\\snlp\\open data\"\n",
    "    control.to_csv(os.path.join(path,filename))\n",
    "    \n",
    "\n",
    "    \n",
    "    \n",
    "    \n",
    "average_score(\"1\", filename = \"control_elig_500.docx\")\n",
    "average_score(\"2\", filename = \"control_A6_200.docx\")\n",
    "average_score(\"3\", filename = \"control_B12_MMNN.docx\")\n",
    "\n"
   ]
  },
  {
   "cell_type": "markdown",
   "metadata": {},
   "source": [
    "### STEP2\n",
    "#### The following code is to copy and paste certain files that you want into new folders. You will \n",
    "#### need to specify and create the folders you want to add files to. You can 1) create a folder of \n",
    "#### just training documents, 2) rename the training documents with \"training\" in front, 3) set up \n",
    "#### a random sample of articles, 4) copy files of a certain length to a new folder, 5) copy \n",
    "#### eligible files into a new folder 6) or read in a list of files to copy to a new folder. Only \n",
    "#### use which functions you need. In general, you will have to set up new training files when you \n",
    "#### start a new task, and copy the eligible files over to a new folder after you do the first \n",
    "#### round of MaxEnt.\n"
   ]
  },
  {
   "cell_type": "code",
   "execution_count": null,
   "metadata": {
    "collapsed": false
   },
   "outputs": [],
   "source": [
    "# specify which control file you are using in order to build a subset of the training files\n",
    "train_info = pd.read_csv(r\"C:\\Users\\PUSHPENDRA\\Desktop\\Acads\\Autumn 2017-18\\snlp\\open data\\control_A6_200.docx\")\n",
    "\n",
    "# set up subset with just training documents\n",
    "# only necessary when you add or subtract articles from the training set \n",
    "import shutil\n",
    "import os\n",
    "count=0\n",
    "for i in train_info[train_info[\"TRAININGSET\"] == 1][\"ROWID\"]:\n",
    "    count+=1\n",
    "    path=r\"C:\\Users\\PUSHPENDRA\\Desktop\\Acads\\Autumn 2017-18\\snlp\\open data\\6. News articles\"\n",
    "    dest=r\"C:\\Users\\PUSHPENDRA\\Desktop\\Acads\\Autumn 2017-18\\snlp\\open data\\Training\"\n",
    "    src=os.path.join(path,i)\n",
    "    dest1=os.path.join(dest,i)\n",
    "    \n",
    "    shutil.copyfile(src,dest1)\n",
    "    \n",
    "# rename training set files - add \"training\" to beginning of file name\n",
    "# only necessary when you change articles in training set \n",
    "training_dir=r\"C:\\Users\\PUSHPENDRA\\Desktop\\Acads\\Autumn 2017-18\\snlp\\open data\\Training\"\n",
    "filenames_training = os.listdir(training_dir)\n",
    "\n",
    "files = os.listdir(training_dir)\n",
    "\n",
    "for file in files:\n",
    "    os.rename(os.path.join(training_dir, file),os.path.join(training_dir, \"Training-\"+file))\n",
    "\n",
    "# now copy these files into big corpus folder\n",
    "\n",
    "# set up a random sampling of articles from the larger set\n",
    "# useful if you want to test before running MaxEnt of a huge number of articles\n",
    "#filenames_test <- list.files(\"/home/steven/longer_lexis/\") # full folder of articles\n",
    "#filenames_samp <- sample(filenames_test, size = 10000)\n",
    "#setwd(\"/home/steven/lexis/\")\n",
    "#file.copy(from = filenames_samp, to = \"/home/steven/10thous/\") # destination of subset\n",
    "        \n",
    "          \n",
    "\n",
    "\n",
    "\n"
   ]
  },
  {
   "cell_type": "code",
   "execution_count": null,
   "metadata": {
    "collapsed": false
   },
   "outputs": [],
   "source": [
    "# copy files that are longer than a certain length into a new folder\n",
    "import codecs\n",
    "import sys\n",
    "cutoff= 500 #needs to be more than this number of characters\n",
    "origin_folder=r\"C:\\Users\\PUSHPENDRA\\Desktop\\Acads\\Autumn 2017-18\\snlp\\open data\\6. News articles\"\n",
    "\n",
    "destination_folder =r\"C:\\Users\\PUSHPENDRA\\Desktop\\Acads\\Autumn 2017-18\\snlp\\open data\\longer_lexis\"\n",
    "def getUnicodeFileLength(filepath, charset= None):\n",
    "    if charset is None:\n",
    "        charset= sys.getfilesystemencoding()\n",
    "    readerclass= codecs.getreader(charset)\n",
    "    reader= readerclass(open(filepath, 'rb'), 'replace')\n",
    "    nchar= 0\n",
    "    while True:\n",
    "        chars= reader.read(1024*32)  # arbitrary chunk size\n",
    "        if chars=='':\n",
    "            break\n",
    "        nchar+= len(chars)\n",
    "    reader.close()\n",
    "    return nchar\n",
    "\n",
    "files=os.listdir(origin_folder)  \n",
    "for file in files:\n",
    "    nchar=getUnicodeFileLength(os.path.join(origin_folder,file))\n",
    "    if nchar  > cutoff :\n",
    "        shutil.copyfile(os.path.join(origin_folder,file),os.path.join(destination_folder,file))  \n",
    "  \n"
   ]
  },
  {
   "cell_type": "markdown",
   "metadata": {},
   "source": [
    "##### STEP (3)\n",
    "##### The following code is to run the MaxEnt model. Be sure to specify which control file to use,\n",
    "##### which file to read from (file contains all training articles - renamed with \"training\" in\n",
    "##### title - and all test articles). Remember that control files will be different for step 1 and\n",
    "##### step 2 of MaxEnt - eligibility step contains more training articles, but step 2 will only be\n",
    "##### using articles that are already eligible. Also specify what to call csv file where outputs are\n",
    "##### written. You can turn different options on/off for cleaning corpus, depending on what type of\n",
    "##### results you want."
   ]
  },
  {
   "cell_type": "code",
   "execution_count": null,
   "metadata": {
    "collapsed": false
   },
   "outputs": [],
   "source": [
    "# Converting docs to text format such that we can apply nltk tools for text mining purpose.\n",
    "\n",
    "import os,pandas as pd\n",
    "import nltk\n",
    "import os\n",
    "import win32com.client\n",
    "import nltk\n",
    "from nltk.corpus import PlaintextCorpusReader\n",
    " \n",
    "path=r\"C:\\Users\\PUSHPENDRA\\Desktop\\Acads\\Autumn 2017-18\\snlp\\open data\\6. News articles\"\n",
    "\n",
    "def docxtotxt(file,filepath):\n",
    "    doc = win32com.client.GetObject(filepath)\n",
    "    text = doc.Range().Text\n",
    "    #\n",
    "    # do something with the text...\n",
    "    #\n",
    "    name=file[0:9]+\".txt\"\n",
    "\n",
    "    newpath=r\"C:\\Users\\PUSHPENDRA\\Desktop\\Acads\\Autumn 2017-18\\snlp\\open data\\Text_News_articles\"\n",
    "    f= open(os.path.join(newpath,name),\"w+\")\n",
    "    f.write(text)\n",
    "    f.close()\n",
    "for file in os.listdir(path):\n",
    "    docxtotxt(file,os.path.join(path,file))"
   ]
  },
  {
   "cell_type": "markdown",
   "metadata": {},
   "source": [
    "#### Creating corpus\n"
   ]
  },
  {
   "cell_type": "code",
   "execution_count": 7,
   "metadata": {
    "collapsed": false
   },
   "outputs": [],
   "source": [
    "import nltk\n",
    "from nltk.corpus import PlaintextCorpusReader\n",
    "corpus_root = r\"C:\\Users\\PUSHPENDRA\\Desktop\\Acads\\Autumn 2017-18\\snlp\\open data\\Text_News_articles\"\n",
    "newcorpus = PlaintextCorpusReader(corpus_root, '.*')"
   ]
  },
  {
   "cell_type": "markdown",
   "metadata": {},
   "source": [
    "#### Cleaning Corpus"
   ]
  },
  {
   "cell_type": "code",
   "execution_count": 8,
   "metadata": {
    "collapsed": false
   },
   "outputs": [
    {
     "name": "stdout",
     "output_type": "stream",
     "text": [
      "<PlaintextCorpusReader in 'C:\\\\Users\\\\PUSHPENDRA\\\\Desktop\\\\Acads\\\\Autumn 2017-18\\\\snlp\\\\open data\\\\Text_News_articles'>\n"
     ]
    }
   ],
   "source": [
    "files=newcorpus.fileids()\n",
    "print(newcorpus)\n",
    "import re,os\n",
    "import string\n",
    "from nltk.corpus import stopwords\n",
    "from nltk.stem.porter import PorterStemmer\n",
    "from nltk.stem.snowball import SnowballStemmer\n",
    "from nltk.stem.wordnet import WordNetLemmatizer\n",
    "from sklearn.feature_extraction.text import TfidfVectorizer\n",
    "\n",
    "\n",
    "def clean_corpus(file):\n",
    "\n",
    "\n",
    "    f=open(file,'rb')\n",
    "    file_content=f.read().decode('utf8', 'ignore')\n",
    "    \n",
    "    file_content = re.sub(\"\\d+\", \"\", file_content) #removing numbers from text\n",
    "    \n",
    "    \n",
    "    tokens=nltk.word_tokenize(file_content)\n",
    "    f.close()\n",
    "    regex = re.compile('[%s]' % re.escape(string.punctuation)) #see documentation here: http://docs.python.org/2/library/string.html\n",
    "\n",
    "    tokenized_docs_no_punctuation = []\n",
    "\n",
    "    for token in tokens:\n",
    "    \n",
    "        new_review = []\n",
    "        \n",
    "        new_token = regex.sub(u'', token)\n",
    "        if not new_token == u'':\n",
    "                new_review.append(new_token)\n",
    "        \n",
    "        tokenized_docs_no_punctuation.append(new_review)\n",
    "    \n",
    "\n",
    "\n",
    "    tokenized_docs_no_stopwords = []\n",
    "    for doc in tokenized_docs_no_punctuation:\n",
    "        new_term_vector = []\n",
    "        for word in doc:\n",
    "            if not word in stopwords.words('english'):\n",
    "                new_term_vector.append(word)\n",
    "        tokenized_docs_no_stopwords.append(new_term_vector)\n",
    "            \n",
    "    porter = PorterStemmer()\n",
    "    snowball = SnowballStemmer('english')\n",
    "    wordnet = WordNetLemmatizer()\n",
    "    # stem words \n",
    "\n",
    "    # stemming using Snowball package (or SnowballC)\n",
    "\n",
    "    preprocessed_docs = []\n",
    "\n",
    "    for doc in tokenized_docs_no_stopwords:\n",
    "        final_doc = []\n",
    "        for word in doc:\n",
    "            #final_doc.append(porter.stem(word))\n",
    "            final_doc.append(snowball.stem(word))\n",
    "            #final_doc.append(wordnet.lemmatize(word)) #note that lemmatize() can also takes part of speech as an argument!\n",
    "        preprocessed_docs.append(final_doc)\n",
    "\n",
    "    #print(preprocessed_docs)\n",
    "\n",
    "    text=nltk.Text(preprocessed_docs)\n",
    "    mytext = ''.join(map(str, text))\n",
    "    mytext= mytext.translate(str.maketrans(' ', ' ', \"!@#$[]\"))\n",
    "    mytext=mytext.replace(\"''\",\" \")\n",
    "\n",
    "    path=r\"C:\\Users\\PUSHPENDRA\\Desktop\\Acads\\Autumn 2017-18\\snlp\\open data\\clean_corpus\"\n",
    "    \n",
    "    newfile=open(os.path.join(path,file[83:]),'w+')\n",
    "    newfile.write(mytext)\n",
    "    newfile.close()\n",
    "\n",
    "    \n",
    "    \n",
    "    \n",
    "for file in files:\n",
    "    clean_corpus(os.path.join(corpus_root,file))"
   ]
  },
  {
   "cell_type": "markdown",
   "metadata": {},
   "source": [
    "#### Creating cleaning corpus\n"
   ]
  },
  {
   "cell_type": "code",
   "execution_count": 2,
   "metadata": {
    "collapsed": false
   },
   "outputs": [
    {
     "data": {
      "text/plain": [
       "652"
      ]
     },
     "execution_count": 2,
     "metadata": {},
     "output_type": "execute_result"
    }
   ],
   "source": [
    "import nltk\n",
    "from nltk.corpus import PlaintextCorpusReader\n",
    "root = r\"C:\\Users\\PUSHPENDRA\\Desktop\\Acads\\Autumn 2017-18\\snlp\\open data\\clean_corpus\"\n",
    "cleancorpus = PlaintextCorpusReader(root, '.*')\n",
    "files=cleancorpus.fileids()\n",
    "len(files)\n"
   ]
  },
  {
   "cell_type": "code",
   "execution_count": 3,
   "metadata": {
    "collapsed": false
   },
   "outputs": [
    {
     "name": "stdout",
     "output_type": "stream",
     "text": [
      "0.771144278607\n",
      "             precision    recall  f1-score   support\n",
      "\n",
      "          0       0.80      0.94      0.87       160\n",
      "          1       0.31      0.10      0.15        41\n",
      "\n",
      "avg / total       0.70      0.77      0.72       201\n",
      "\n"
     ]
    },
    {
     "data": {
      "text/html": [
       "<div>\n",
       "<table border=\"1\" class=\"dataframe\">\n",
       "  <thead>\n",
       "    <tr style=\"text-align: right;\">\n",
       "      <th></th>\n",
       "      <th>P_01-11-</th>\n",
       "      <th>P_01-11-</th>\n",
       "      <th>P_01-11-</th>\n",
       "      <th>P_01-11-</th>\n",
       "      <th>P_01-11-</th>\n",
       "      <th>P_01-11-</th>\n",
       "      <th>P_01-11-</th>\n",
       "      <th>P_01-11-</th>\n",
       "      <th>P_01-11-</th>\n",
       "      <th>P_01-11-</th>\n",
       "      <th>...</th>\n",
       "      <th>P_20-11-</th>\n",
       "      <th>P_20-11-</th>\n",
       "      <th>P_20-11-</th>\n",
       "      <th>P_20-11-</th>\n",
       "      <th>P_20-11-</th>\n",
       "      <th>P_20-11-</th>\n",
       "      <th>P_20-11-</th>\n",
       "      <th>P_20-11-</th>\n",
       "      <th>P_20-11-</th>\n",
       "      <th>P_20-11-</th>\n",
       "    </tr>\n",
       "  </thead>\n",
       "  <tbody>\n",
       "    <tr>\n",
       "      <th>reduc</th>\n",
       "      <td>0</td>\n",
       "      <td>2</td>\n",
       "      <td>0</td>\n",
       "      <td>1</td>\n",
       "      <td>0</td>\n",
       "      <td>0</td>\n",
       "      <td>1</td>\n",
       "      <td>0</td>\n",
       "      <td>0</td>\n",
       "      <td>0</td>\n",
       "      <td>...</td>\n",
       "      <td>0</td>\n",
       "      <td>1</td>\n",
       "      <td>0</td>\n",
       "      <td>0</td>\n",
       "      <td>0</td>\n",
       "      <td>0</td>\n",
       "      <td>0</td>\n",
       "      <td>1</td>\n",
       "      <td>0</td>\n",
       "      <td>1</td>\n",
       "    </tr>\n",
       "    <tr>\n",
       "      <th>skyrocket</th>\n",
       "      <td>0</td>\n",
       "      <td>0</td>\n",
       "      <td>0</td>\n",
       "      <td>0</td>\n",
       "      <td>0</td>\n",
       "      <td>0</td>\n",
       "      <td>0</td>\n",
       "      <td>0</td>\n",
       "      <td>0</td>\n",
       "      <td>0</td>\n",
       "      <td>...</td>\n",
       "      <td>0</td>\n",
       "      <td>0</td>\n",
       "      <td>0</td>\n",
       "      <td>0</td>\n",
       "      <td>0</td>\n",
       "      <td>0</td>\n",
       "      <td>0</td>\n",
       "      <td>0</td>\n",
       "      <td>0</td>\n",
       "      <td>0</td>\n",
       "    </tr>\n",
       "    <tr>\n",
       "      <th>immedi</th>\n",
       "      <td>0</td>\n",
       "      <td>0</td>\n",
       "      <td>0</td>\n",
       "      <td>0</td>\n",
       "      <td>0</td>\n",
       "      <td>0</td>\n",
       "      <td>0</td>\n",
       "      <td>0</td>\n",
       "      <td>0</td>\n",
       "      <td>0</td>\n",
       "      <td>...</td>\n",
       "      <td>0</td>\n",
       "      <td>0</td>\n",
       "      <td>0</td>\n",
       "      <td>0</td>\n",
       "      <td>0</td>\n",
       "      <td>0</td>\n",
       "      <td>0</td>\n",
       "      <td>0</td>\n",
       "      <td>0</td>\n",
       "      <td>0</td>\n",
       "    </tr>\n",
       "    <tr>\n",
       "      <th>immin</th>\n",
       "      <td>0</td>\n",
       "      <td>0</td>\n",
       "      <td>0</td>\n",
       "      <td>0</td>\n",
       "      <td>0</td>\n",
       "      <td>0</td>\n",
       "      <td>0</td>\n",
       "      <td>0</td>\n",
       "      <td>0</td>\n",
       "      <td>0</td>\n",
       "      <td>...</td>\n",
       "      <td>0</td>\n",
       "      <td>0</td>\n",
       "      <td>0</td>\n",
       "      <td>0</td>\n",
       "      <td>0</td>\n",
       "      <td>0</td>\n",
       "      <td>0</td>\n",
       "      <td>0</td>\n",
       "      <td>0</td>\n",
       "      <td>0</td>\n",
       "    </tr>\n",
       "    <tr>\n",
       "      <th>doubt</th>\n",
       "      <td>0</td>\n",
       "      <td>0</td>\n",
       "      <td>0</td>\n",
       "      <td>0</td>\n",
       "      <td>0</td>\n",
       "      <td>0</td>\n",
       "      <td>0</td>\n",
       "      <td>0</td>\n",
       "      <td>0</td>\n",
       "      <td>0</td>\n",
       "      <td>...</td>\n",
       "      <td>0</td>\n",
       "      <td>0</td>\n",
       "      <td>0</td>\n",
       "      <td>0</td>\n",
       "      <td>0</td>\n",
       "      <td>0</td>\n",
       "      <td>0</td>\n",
       "      <td>0</td>\n",
       "      <td>0</td>\n",
       "      <td>0</td>\n",
       "    </tr>\n",
       "    <tr>\n",
       "      <th>uncertain</th>\n",
       "      <td>0</td>\n",
       "      <td>0</td>\n",
       "      <td>0</td>\n",
       "      <td>0</td>\n",
       "      <td>0</td>\n",
       "      <td>0</td>\n",
       "      <td>0</td>\n",
       "      <td>0</td>\n",
       "      <td>0</td>\n",
       "      <td>0</td>\n",
       "      <td>...</td>\n",
       "      <td>0</td>\n",
       "      <td>0</td>\n",
       "      <td>0</td>\n",
       "      <td>0</td>\n",
       "      <td>0</td>\n",
       "      <td>0</td>\n",
       "      <td>0</td>\n",
       "      <td>0</td>\n",
       "      <td>0</td>\n",
       "      <td>0</td>\n",
       "    </tr>\n",
       "    <tr>\n",
       "      <th>indecis</th>\n",
       "      <td>0</td>\n",
       "      <td>0</td>\n",
       "      <td>0</td>\n",
       "      <td>0</td>\n",
       "      <td>0</td>\n",
       "      <td>0</td>\n",
       "      <td>0</td>\n",
       "      <td>0</td>\n",
       "      <td>0</td>\n",
       "      <td>0</td>\n",
       "      <td>...</td>\n",
       "      <td>0</td>\n",
       "      <td>0</td>\n",
       "      <td>0</td>\n",
       "      <td>0</td>\n",
       "      <td>0</td>\n",
       "      <td>0</td>\n",
       "      <td>0</td>\n",
       "      <td>0</td>\n",
       "      <td>0</td>\n",
       "      <td>0</td>\n",
       "    </tr>\n",
       "    <tr>\n",
       "      <th>perplex</th>\n",
       "      <td>0</td>\n",
       "      <td>0</td>\n",
       "      <td>0</td>\n",
       "      <td>0</td>\n",
       "      <td>0</td>\n",
       "      <td>0</td>\n",
       "      <td>0</td>\n",
       "      <td>0</td>\n",
       "      <td>0</td>\n",
       "      <td>0</td>\n",
       "      <td>...</td>\n",
       "      <td>0</td>\n",
       "      <td>0</td>\n",
       "      <td>0</td>\n",
       "      <td>0</td>\n",
       "      <td>0</td>\n",
       "      <td>0</td>\n",
       "      <td>0</td>\n",
       "      <td>0</td>\n",
       "      <td>0</td>\n",
       "      <td>0</td>\n",
       "    </tr>\n",
       "    <tr>\n",
       "      <th>embarrass</th>\n",
       "      <td>0</td>\n",
       "      <td>0</td>\n",
       "      <td>0</td>\n",
       "      <td>0</td>\n",
       "      <td>0</td>\n",
       "      <td>0</td>\n",
       "      <td>0</td>\n",
       "      <td>0</td>\n",
       "      <td>0</td>\n",
       "      <td>0</td>\n",
       "      <td>...</td>\n",
       "      <td>0</td>\n",
       "      <td>0</td>\n",
       "      <td>0</td>\n",
       "      <td>0</td>\n",
       "      <td>0</td>\n",
       "      <td>0</td>\n",
       "      <td>0</td>\n",
       "      <td>0</td>\n",
       "      <td>0</td>\n",
       "      <td>0</td>\n",
       "    </tr>\n",
       "    <tr>\n",
       "      <th>hesit</th>\n",
       "      <td>0</td>\n",
       "      <td>0</td>\n",
       "      <td>0</td>\n",
       "      <td>0</td>\n",
       "      <td>0</td>\n",
       "      <td>0</td>\n",
       "      <td>0</td>\n",
       "      <td>0</td>\n",
       "      <td>0</td>\n",
       "      <td>0</td>\n",
       "      <td>...</td>\n",
       "      <td>0</td>\n",
       "      <td>0</td>\n",
       "      <td>0</td>\n",
       "      <td>0</td>\n",
       "      <td>0</td>\n",
       "      <td>0</td>\n",
       "      <td>0</td>\n",
       "      <td>0</td>\n",
       "      <td>0</td>\n",
       "      <td>0</td>\n",
       "    </tr>\n",
       "    <tr>\n",
       "      <th>disillus</th>\n",
       "      <td>0</td>\n",
       "      <td>0</td>\n",
       "      <td>0</td>\n",
       "      <td>0</td>\n",
       "      <td>0</td>\n",
       "      <td>0</td>\n",
       "      <td>0</td>\n",
       "      <td>0</td>\n",
       "      <td>0</td>\n",
       "      <td>0</td>\n",
       "      <td>...</td>\n",
       "      <td>0</td>\n",
       "      <td>0</td>\n",
       "      <td>0</td>\n",
       "      <td>0</td>\n",
       "      <td>0</td>\n",
       "      <td>0</td>\n",
       "      <td>0</td>\n",
       "      <td>0</td>\n",
       "      <td>0</td>\n",
       "      <td>0</td>\n",
       "    </tr>\n",
       "    <tr>\n",
       "      <th>distrust</th>\n",
       "      <td>0</td>\n",
       "      <td>0</td>\n",
       "      <td>0</td>\n",
       "      <td>0</td>\n",
       "      <td>0</td>\n",
       "      <td>0</td>\n",
       "      <td>0</td>\n",
       "      <td>0</td>\n",
       "      <td>0</td>\n",
       "      <td>0</td>\n",
       "      <td>...</td>\n",
       "      <td>0</td>\n",
       "      <td>0</td>\n",
       "      <td>0</td>\n",
       "      <td>0</td>\n",
       "      <td>0</td>\n",
       "      <td>0</td>\n",
       "      <td>0</td>\n",
       "      <td>0</td>\n",
       "      <td>0</td>\n",
       "      <td>0</td>\n",
       "    </tr>\n",
       "    <tr>\n",
       "      <th>misgiv</th>\n",
       "      <td>0</td>\n",
       "      <td>0</td>\n",
       "      <td>0</td>\n",
       "      <td>0</td>\n",
       "      <td>0</td>\n",
       "      <td>0</td>\n",
       "      <td>0</td>\n",
       "      <td>0</td>\n",
       "      <td>0</td>\n",
       "      <td>0</td>\n",
       "      <td>...</td>\n",
       "      <td>0</td>\n",
       "      <td>0</td>\n",
       "      <td>0</td>\n",
       "      <td>0</td>\n",
       "      <td>0</td>\n",
       "      <td>0</td>\n",
       "      <td>0</td>\n",
       "      <td>0</td>\n",
       "      <td>0</td>\n",
       "      <td>0</td>\n",
       "    </tr>\n",
       "    <tr>\n",
       "      <th>unsur</th>\n",
       "      <td>0</td>\n",
       "      <td>0</td>\n",
       "      <td>0</td>\n",
       "      <td>0</td>\n",
       "      <td>0</td>\n",
       "      <td>0</td>\n",
       "      <td>0</td>\n",
       "      <td>0</td>\n",
       "      <td>0</td>\n",
       "      <td>0</td>\n",
       "      <td>...</td>\n",
       "      <td>0</td>\n",
       "      <td>0</td>\n",
       "      <td>0</td>\n",
       "      <td>0</td>\n",
       "      <td>0</td>\n",
       "      <td>0</td>\n",
       "      <td>0</td>\n",
       "      <td>0</td>\n",
       "      <td>0</td>\n",
       "      <td>0</td>\n",
       "    </tr>\n",
       "    <tr>\n",
       "      <th>tens</th>\n",
       "      <td>0</td>\n",
       "      <td>0</td>\n",
       "      <td>0</td>\n",
       "      <td>0</td>\n",
       "      <td>0</td>\n",
       "      <td>0</td>\n",
       "      <td>0</td>\n",
       "      <td>0</td>\n",
       "      <td>0</td>\n",
       "      <td>0</td>\n",
       "      <td>...</td>\n",
       "      <td>0</td>\n",
       "      <td>0</td>\n",
       "      <td>0</td>\n",
       "      <td>0</td>\n",
       "      <td>0</td>\n",
       "      <td>0</td>\n",
       "      <td>0</td>\n",
       "      <td>0</td>\n",
       "      <td>0</td>\n",
       "      <td>0</td>\n",
       "    </tr>\n",
       "    <tr>\n",
       "      <th>stress</th>\n",
       "      <td>2</td>\n",
       "      <td>6</td>\n",
       "      <td>0</td>\n",
       "      <td>0</td>\n",
       "      <td>0</td>\n",
       "      <td>0</td>\n",
       "      <td>0</td>\n",
       "      <td>0</td>\n",
       "      <td>0</td>\n",
       "      <td>0</td>\n",
       "      <td>...</td>\n",
       "      <td>0</td>\n",
       "      <td>0</td>\n",
       "      <td>2</td>\n",
       "      <td>0</td>\n",
       "      <td>0</td>\n",
       "      <td>1</td>\n",
       "      <td>0</td>\n",
       "      <td>0</td>\n",
       "      <td>0</td>\n",
       "      <td>0</td>\n",
       "    </tr>\n",
       "    <tr>\n",
       "      <th>uncomfort</th>\n",
       "      <td>0</td>\n",
       "      <td>0</td>\n",
       "      <td>0</td>\n",
       "      <td>0</td>\n",
       "      <td>0</td>\n",
       "      <td>0</td>\n",
       "      <td>0</td>\n",
       "      <td>0</td>\n",
       "      <td>0</td>\n",
       "      <td>0</td>\n",
       "      <td>...</td>\n",
       "      <td>0</td>\n",
       "      <td>0</td>\n",
       "      <td>0</td>\n",
       "      <td>0</td>\n",
       "      <td>0</td>\n",
       "      <td>0</td>\n",
       "      <td>0</td>\n",
       "      <td>0</td>\n",
       "      <td>0</td>\n",
       "      <td>0</td>\n",
       "    </tr>\n",
       "    <tr>\n",
       "      <th>dishonest</th>\n",
       "      <td>0</td>\n",
       "      <td>0</td>\n",
       "      <td>0</td>\n",
       "      <td>0</td>\n",
       "      <td>0</td>\n",
       "      <td>0</td>\n",
       "      <td>0</td>\n",
       "      <td>0</td>\n",
       "      <td>0</td>\n",
       "      <td>0</td>\n",
       "      <td>...</td>\n",
       "      <td>0</td>\n",
       "      <td>0</td>\n",
       "      <td>0</td>\n",
       "      <td>0</td>\n",
       "      <td>0</td>\n",
       "      <td>0</td>\n",
       "      <td>0</td>\n",
       "      <td>0</td>\n",
       "      <td>0</td>\n",
       "      <td>0</td>\n",
       "    </tr>\n",
       "    <tr>\n",
       "      <th>disdain</th>\n",
       "      <td>0</td>\n",
       "      <td>0</td>\n",
       "      <td>0</td>\n",
       "      <td>0</td>\n",
       "      <td>0</td>\n",
       "      <td>0</td>\n",
       "      <td>0</td>\n",
       "      <td>0</td>\n",
       "      <td>0</td>\n",
       "      <td>0</td>\n",
       "      <td>...</td>\n",
       "      <td>0</td>\n",
       "      <td>0</td>\n",
       "      <td>0</td>\n",
       "      <td>0</td>\n",
       "      <td>0</td>\n",
       "      <td>0</td>\n",
       "      <td>0</td>\n",
       "      <td>0</td>\n",
       "      <td>0</td>\n",
       "      <td>0</td>\n",
       "    </tr>\n",
       "    <tr>\n",
       "      <th>manipul</th>\n",
       "      <td>0</td>\n",
       "      <td>0</td>\n",
       "      <td>0</td>\n",
       "      <td>0</td>\n",
       "      <td>0</td>\n",
       "      <td>0</td>\n",
       "      <td>0</td>\n",
       "      <td>0</td>\n",
       "      <td>0</td>\n",
       "      <td>0</td>\n",
       "      <td>...</td>\n",
       "      <td>0</td>\n",
       "      <td>0</td>\n",
       "      <td>0</td>\n",
       "      <td>0</td>\n",
       "      <td>0</td>\n",
       "      <td>0</td>\n",
       "      <td>0</td>\n",
       "      <td>0</td>\n",
       "      <td>2</td>\n",
       "      <td>2</td>\n",
       "    </tr>\n",
       "    <tr>\n",
       "      <th>judgment</th>\n",
       "      <td>0</td>\n",
       "      <td>0</td>\n",
       "      <td>0</td>\n",
       "      <td>0</td>\n",
       "      <td>0</td>\n",
       "      <td>0</td>\n",
       "      <td>0</td>\n",
       "      <td>0</td>\n",
       "      <td>0</td>\n",
       "      <td>0</td>\n",
       "      <td>...</td>\n",
       "      <td>0</td>\n",
       "      <td>0</td>\n",
       "      <td>0</td>\n",
       "      <td>0</td>\n",
       "      <td>0</td>\n",
       "      <td>0</td>\n",
       "      <td>0</td>\n",
       "      <td>0</td>\n",
       "      <td>0</td>\n",
       "      <td>0</td>\n",
       "    </tr>\n",
       "    <tr>\n",
       "      <th>argument</th>\n",
       "      <td>0</td>\n",
       "      <td>0</td>\n",
       "      <td>0</td>\n",
       "      <td>0</td>\n",
       "      <td>0</td>\n",
       "      <td>0</td>\n",
       "      <td>0</td>\n",
       "      <td>0</td>\n",
       "      <td>0</td>\n",
       "      <td>0</td>\n",
       "      <td>...</td>\n",
       "      <td>0</td>\n",
       "      <td>0</td>\n",
       "      <td>0</td>\n",
       "      <td>0</td>\n",
       "      <td>0</td>\n",
       "      <td>0</td>\n",
       "      <td>0</td>\n",
       "      <td>0</td>\n",
       "      <td>0</td>\n",
       "      <td>0</td>\n",
       "    </tr>\n",
       "    <tr>\n",
       "      <th>authorit</th>\n",
       "      <td>0</td>\n",
       "      <td>0</td>\n",
       "      <td>0</td>\n",
       "      <td>0</td>\n",
       "      <td>0</td>\n",
       "      <td>0</td>\n",
       "      <td>0</td>\n",
       "      <td>0</td>\n",
       "      <td>0</td>\n",
       "      <td>0</td>\n",
       "      <td>...</td>\n",
       "      <td>0</td>\n",
       "      <td>0</td>\n",
       "      <td>0</td>\n",
       "      <td>0</td>\n",
       "      <td>0</td>\n",
       "      <td>0</td>\n",
       "      <td>0</td>\n",
       "      <td>0</td>\n",
       "      <td>0</td>\n",
       "      <td>0</td>\n",
       "    </tr>\n",
       "    <tr>\n",
       "      <th>condescend</th>\n",
       "      <td>0</td>\n",
       "      <td>0</td>\n",
       "      <td>0</td>\n",
       "      <td>0</td>\n",
       "      <td>0</td>\n",
       "      <td>0</td>\n",
       "      <td>0</td>\n",
       "      <td>0</td>\n",
       "      <td>0</td>\n",
       "      <td>0</td>\n",
       "      <td>...</td>\n",
       "      <td>0</td>\n",
       "      <td>0</td>\n",
       "      <td>0</td>\n",
       "      <td>0</td>\n",
       "      <td>0</td>\n",
       "      <td>0</td>\n",
       "      <td>0</td>\n",
       "      <td>0</td>\n",
       "      <td>0</td>\n",
       "      <td>0</td>\n",
       "    </tr>\n",
       "    <tr>\n",
       "      <th>distract</th>\n",
       "      <td>0</td>\n",
       "      <td>0</td>\n",
       "      <td>0</td>\n",
       "      <td>0</td>\n",
       "      <td>0</td>\n",
       "      <td>0</td>\n",
       "      <td>0</td>\n",
       "      <td>0</td>\n",
       "      <td>0</td>\n",
       "      <td>0</td>\n",
       "      <td>...</td>\n",
       "      <td>0</td>\n",
       "      <td>0</td>\n",
       "      <td>0</td>\n",
       "      <td>0</td>\n",
       "      <td>0</td>\n",
       "      <td>0</td>\n",
       "      <td>0</td>\n",
       "      <td>0</td>\n",
       "      <td>0</td>\n",
       "      <td>0</td>\n",
       "    </tr>\n",
       "    <tr>\n",
       "      <th>disori</th>\n",
       "      <td>0</td>\n",
       "      <td>0</td>\n",
       "      <td>0</td>\n",
       "      <td>0</td>\n",
       "      <td>0</td>\n",
       "      <td>0</td>\n",
       "      <td>0</td>\n",
       "      <td>0</td>\n",
       "      <td>0</td>\n",
       "      <td>0</td>\n",
       "      <td>...</td>\n",
       "      <td>0</td>\n",
       "      <td>0</td>\n",
       "      <td>0</td>\n",
       "      <td>0</td>\n",
       "      <td>0</td>\n",
       "      <td>0</td>\n",
       "      <td>0</td>\n",
       "      <td>0</td>\n",
       "      <td>0</td>\n",
       "      <td>0</td>\n",
       "    </tr>\n",
       "    <tr>\n",
       "      <th>offkilt</th>\n",
       "      <td>0</td>\n",
       "      <td>0</td>\n",
       "      <td>0</td>\n",
       "      <td>0</td>\n",
       "      <td>0</td>\n",
       "      <td>0</td>\n",
       "      <td>0</td>\n",
       "      <td>0</td>\n",
       "      <td>0</td>\n",
       "      <td>0</td>\n",
       "      <td>...</td>\n",
       "      <td>0</td>\n",
       "      <td>0</td>\n",
       "      <td>0</td>\n",
       "      <td>0</td>\n",
       "      <td>0</td>\n",
       "      <td>0</td>\n",
       "      <td>0</td>\n",
       "      <td>0</td>\n",
       "      <td>0</td>\n",
       "      <td>0</td>\n",
       "    </tr>\n",
       "    <tr>\n",
       "      <th>frenzi</th>\n",
       "      <td>0</td>\n",
       "      <td>0</td>\n",
       "      <td>0</td>\n",
       "      <td>0</td>\n",
       "      <td>0</td>\n",
       "      <td>0</td>\n",
       "      <td>0</td>\n",
       "      <td>0</td>\n",
       "      <td>0</td>\n",
       "      <td>0</td>\n",
       "      <td>...</td>\n",
       "      <td>0</td>\n",
       "      <td>0</td>\n",
       "      <td>0</td>\n",
       "      <td>0</td>\n",
       "      <td>0</td>\n",
       "      <td>0</td>\n",
       "      <td>0</td>\n",
       "      <td>0</td>\n",
       "      <td>0</td>\n",
       "      <td>0</td>\n",
       "    </tr>\n",
       "    <tr>\n",
       "      <th>blush</th>\n",
       "      <td>0</td>\n",
       "      <td>0</td>\n",
       "      <td>0</td>\n",
       "      <td>0</td>\n",
       "      <td>0</td>\n",
       "      <td>0</td>\n",
       "      <td>0</td>\n",
       "      <td>0</td>\n",
       "      <td>0</td>\n",
       "      <td>0</td>\n",
       "      <td>...</td>\n",
       "      <td>0</td>\n",
       "      <td>0</td>\n",
       "      <td>0</td>\n",
       "      <td>0</td>\n",
       "      <td>0</td>\n",
       "      <td>0</td>\n",
       "      <td>0</td>\n",
       "      <td>0</td>\n",
       "      <td>0</td>\n",
       "      <td>0</td>\n",
       "    </tr>\n",
       "    <tr>\n",
       "      <th>awkward</th>\n",
       "      <td>0</td>\n",
       "      <td>0</td>\n",
       "      <td>0</td>\n",
       "      <td>0</td>\n",
       "      <td>0</td>\n",
       "      <td>0</td>\n",
       "      <td>0</td>\n",
       "      <td>0</td>\n",
       "      <td>0</td>\n",
       "      <td>0</td>\n",
       "      <td>...</td>\n",
       "      <td>0</td>\n",
       "      <td>0</td>\n",
       "      <td>0</td>\n",
       "      <td>0</td>\n",
       "      <td>0</td>\n",
       "      <td>0</td>\n",
       "      <td>0</td>\n",
       "      <td>0</td>\n",
       "      <td>0</td>\n",
       "      <td>0</td>\n",
       "    </tr>\n",
       "    <tr>\n",
       "      <th>...</th>\n",
       "      <td>...</td>\n",
       "      <td>...</td>\n",
       "      <td>...</td>\n",
       "      <td>...</td>\n",
       "      <td>...</td>\n",
       "      <td>...</td>\n",
       "      <td>...</td>\n",
       "      <td>...</td>\n",
       "      <td>...</td>\n",
       "      <td>...</td>\n",
       "      <td>...</td>\n",
       "      <td>...</td>\n",
       "      <td>...</td>\n",
       "      <td>...</td>\n",
       "      <td>...</td>\n",
       "      <td>...</td>\n",
       "      <td>...</td>\n",
       "      <td>...</td>\n",
       "      <td>...</td>\n",
       "      <td>...</td>\n",
       "      <td>...</td>\n",
       "    </tr>\n",
       "    <tr>\n",
       "      <th>calm</th>\n",
       "      <td>0</td>\n",
       "      <td>0</td>\n",
       "      <td>0</td>\n",
       "      <td>0</td>\n",
       "      <td>0</td>\n",
       "      <td>0</td>\n",
       "      <td>0</td>\n",
       "      <td>0</td>\n",
       "      <td>0</td>\n",
       "      <td>0</td>\n",
       "      <td>...</td>\n",
       "      <td>0</td>\n",
       "      <td>0</td>\n",
       "      <td>0</td>\n",
       "      <td>0</td>\n",
       "      <td>0</td>\n",
       "      <td>0</td>\n",
       "      <td>0</td>\n",
       "      <td>0</td>\n",
       "      <td>0</td>\n",
       "      <td>0</td>\n",
       "    </tr>\n",
       "    <tr>\n",
       "      <th>quiet</th>\n",
       "      <td>0</td>\n",
       "      <td>0</td>\n",
       "      <td>0</td>\n",
       "      <td>0</td>\n",
       "      <td>0</td>\n",
       "      <td>0</td>\n",
       "      <td>0</td>\n",
       "      <td>0</td>\n",
       "      <td>0</td>\n",
       "      <td>0</td>\n",
       "      <td>...</td>\n",
       "      <td>0</td>\n",
       "      <td>0</td>\n",
       "      <td>0</td>\n",
       "      <td>0</td>\n",
       "      <td>0</td>\n",
       "      <td>0</td>\n",
       "      <td>0</td>\n",
       "      <td>0</td>\n",
       "      <td>1</td>\n",
       "      <td>0</td>\n",
       "    </tr>\n",
       "    <tr>\n",
       "      <th>certain</th>\n",
       "      <td>1</td>\n",
       "      <td>0</td>\n",
       "      <td>0</td>\n",
       "      <td>0</td>\n",
       "      <td>0</td>\n",
       "      <td>0</td>\n",
       "      <td>0</td>\n",
       "      <td>0</td>\n",
       "      <td>0</td>\n",
       "      <td>0</td>\n",
       "      <td>...</td>\n",
       "      <td>0</td>\n",
       "      <td>0</td>\n",
       "      <td>0</td>\n",
       "      <td>0</td>\n",
       "      <td>0</td>\n",
       "      <td>0</td>\n",
       "      <td>0</td>\n",
       "      <td>0</td>\n",
       "      <td>0</td>\n",
       "      <td>0</td>\n",
       "    </tr>\n",
       "    <tr>\n",
       "      <th>radiant</th>\n",
       "      <td>0</td>\n",
       "      <td>0</td>\n",
       "      <td>0</td>\n",
       "      <td>0</td>\n",
       "      <td>0</td>\n",
       "      <td>0</td>\n",
       "      <td>0</td>\n",
       "      <td>0</td>\n",
       "      <td>0</td>\n",
       "      <td>0</td>\n",
       "      <td>...</td>\n",
       "      <td>0</td>\n",
       "      <td>0</td>\n",
       "      <td>0</td>\n",
       "      <td>0</td>\n",
       "      <td>0</td>\n",
       "      <td>0</td>\n",
       "      <td>0</td>\n",
       "      <td>0</td>\n",
       "      <td>0</td>\n",
       "      <td>0</td>\n",
       "    </tr>\n",
       "    <tr>\n",
       "      <th>beam</th>\n",
       "      <td>0</td>\n",
       "      <td>0</td>\n",
       "      <td>0</td>\n",
       "      <td>0</td>\n",
       "      <td>0</td>\n",
       "      <td>0</td>\n",
       "      <td>0</td>\n",
       "      <td>0</td>\n",
       "      <td>0</td>\n",
       "      <td>0</td>\n",
       "      <td>...</td>\n",
       "      <td>0</td>\n",
       "      <td>0</td>\n",
       "      <td>0</td>\n",
       "      <td>0</td>\n",
       "      <td>0</td>\n",
       "      <td>0</td>\n",
       "      <td>0</td>\n",
       "      <td>0</td>\n",
       "      <td>0</td>\n",
       "      <td>0</td>\n",
       "    </tr>\n",
       "    <tr>\n",
       "      <th>reflect</th>\n",
       "      <td>0</td>\n",
       "      <td>0</td>\n",
       "      <td>0</td>\n",
       "      <td>0</td>\n",
       "      <td>0</td>\n",
       "      <td>0</td>\n",
       "      <td>0</td>\n",
       "      <td>0</td>\n",
       "      <td>0</td>\n",
       "      <td>0</td>\n",
       "      <td>...</td>\n",
       "      <td>0</td>\n",
       "      <td>0</td>\n",
       "      <td>0</td>\n",
       "      <td>0</td>\n",
       "      <td>0</td>\n",
       "      <td>0</td>\n",
       "      <td>0</td>\n",
       "      <td>0</td>\n",
       "      <td>0</td>\n",
       "      <td>0</td>\n",
       "    </tr>\n",
       "    <tr>\n",
       "      <th>smile</th>\n",
       "      <td>0</td>\n",
       "      <td>0</td>\n",
       "      <td>0</td>\n",
       "      <td>0</td>\n",
       "      <td>0</td>\n",
       "      <td>0</td>\n",
       "      <td>0</td>\n",
       "      <td>0</td>\n",
       "      <td>0</td>\n",
       "      <td>0</td>\n",
       "      <td>...</td>\n",
       "      <td>0</td>\n",
       "      <td>0</td>\n",
       "      <td>0</td>\n",
       "      <td>0</td>\n",
       "      <td>0</td>\n",
       "      <td>0</td>\n",
       "      <td>0</td>\n",
       "      <td>0</td>\n",
       "      <td>0</td>\n",
       "      <td>0</td>\n",
       "    </tr>\n",
       "    <tr>\n",
       "      <th>ground</th>\n",
       "      <td>0</td>\n",
       "      <td>0</td>\n",
       "      <td>0</td>\n",
       "      <td>0</td>\n",
       "      <td>0</td>\n",
       "      <td>0</td>\n",
       "      <td>0</td>\n",
       "      <td>0</td>\n",
       "      <td>0</td>\n",
       "      <td>0</td>\n",
       "      <td>...</td>\n",
       "      <td>0</td>\n",
       "      <td>0</td>\n",
       "      <td>0</td>\n",
       "      <td>0</td>\n",
       "      <td>0</td>\n",
       "      <td>0</td>\n",
       "      <td>0</td>\n",
       "      <td>0</td>\n",
       "      <td>0</td>\n",
       "      <td>0</td>\n",
       "    </tr>\n",
       "    <tr>\n",
       "      <th>unhurri</th>\n",
       "      <td>0</td>\n",
       "      <td>0</td>\n",
       "      <td>0</td>\n",
       "      <td>0</td>\n",
       "      <td>0</td>\n",
       "      <td>0</td>\n",
       "      <td>0</td>\n",
       "      <td>0</td>\n",
       "      <td>0</td>\n",
       "      <td>0</td>\n",
       "      <td>...</td>\n",
       "      <td>0</td>\n",
       "      <td>0</td>\n",
       "      <td>0</td>\n",
       "      <td>0</td>\n",
       "      <td>0</td>\n",
       "      <td>0</td>\n",
       "      <td>0</td>\n",
       "      <td>0</td>\n",
       "      <td>0</td>\n",
       "      <td>0</td>\n",
       "    </tr>\n",
       "    <tr>\n",
       "      <th>openmind</th>\n",
       "      <td>0</td>\n",
       "      <td>0</td>\n",
       "      <td>0</td>\n",
       "      <td>0</td>\n",
       "      <td>0</td>\n",
       "      <td>0</td>\n",
       "      <td>0</td>\n",
       "      <td>0</td>\n",
       "      <td>0</td>\n",
       "      <td>0</td>\n",
       "      <td>...</td>\n",
       "      <td>0</td>\n",
       "      <td>0</td>\n",
       "      <td>0</td>\n",
       "      <td>0</td>\n",
       "      <td>0</td>\n",
       "      <td>0</td>\n",
       "      <td>0</td>\n",
       "      <td>0</td>\n",
       "      <td>0</td>\n",
       "      <td>0</td>\n",
       "    </tr>\n",
       "    <tr>\n",
       "      <th>effici</th>\n",
       "      <td>0</td>\n",
       "      <td>0</td>\n",
       "      <td>0</td>\n",
       "      <td>0</td>\n",
       "      <td>0</td>\n",
       "      <td>0</td>\n",
       "      <td>0</td>\n",
       "      <td>0</td>\n",
       "      <td>0</td>\n",
       "      <td>0</td>\n",
       "      <td>...</td>\n",
       "      <td>0</td>\n",
       "      <td>0</td>\n",
       "      <td>0</td>\n",
       "      <td>0</td>\n",
       "      <td>0</td>\n",
       "      <td>0</td>\n",
       "      <td>0</td>\n",
       "      <td>0</td>\n",
       "      <td>0</td>\n",
       "      <td>0</td>\n",
       "    </tr>\n",
       "    <tr>\n",
       "      <th>noncontrol</th>\n",
       "      <td>0</td>\n",
       "      <td>0</td>\n",
       "      <td>0</td>\n",
       "      <td>0</td>\n",
       "      <td>0</td>\n",
       "      <td>0</td>\n",
       "      <td>0</td>\n",
       "      <td>0</td>\n",
       "      <td>0</td>\n",
       "      <td>0</td>\n",
       "      <td>...</td>\n",
       "      <td>0</td>\n",
       "      <td>0</td>\n",
       "      <td>0</td>\n",
       "      <td>0</td>\n",
       "      <td>0</td>\n",
       "      <td>0</td>\n",
       "      <td>0</td>\n",
       "      <td>0</td>\n",
       "      <td>0</td>\n",
       "      <td>0</td>\n",
       "    </tr>\n",
       "    <tr>\n",
       "      <th>unassum</th>\n",
       "      <td>0</td>\n",
       "      <td>0</td>\n",
       "      <td>0</td>\n",
       "      <td>0</td>\n",
       "      <td>0</td>\n",
       "      <td>0</td>\n",
       "      <td>0</td>\n",
       "      <td>0</td>\n",
       "      <td>0</td>\n",
       "      <td>0</td>\n",
       "      <td>...</td>\n",
       "      <td>0</td>\n",
       "      <td>0</td>\n",
       "      <td>0</td>\n",
       "      <td>0</td>\n",
       "      <td>0</td>\n",
       "      <td>0</td>\n",
       "      <td>0</td>\n",
       "      <td>0</td>\n",
       "      <td>0</td>\n",
       "      <td>0</td>\n",
       "    </tr>\n",
       "    <tr>\n",
       "      <th>fluid</th>\n",
       "      <td>0</td>\n",
       "      <td>0</td>\n",
       "      <td>0</td>\n",
       "      <td>0</td>\n",
       "      <td>0</td>\n",
       "      <td>0</td>\n",
       "      <td>0</td>\n",
       "      <td>0</td>\n",
       "      <td>0</td>\n",
       "      <td>0</td>\n",
       "      <td>...</td>\n",
       "      <td>0</td>\n",
       "      <td>0</td>\n",
       "      <td>0</td>\n",
       "      <td>0</td>\n",
       "      <td>0</td>\n",
       "      <td>0</td>\n",
       "      <td>0</td>\n",
       "      <td>0</td>\n",
       "      <td>0</td>\n",
       "      <td>0</td>\n",
       "    </tr>\n",
       "    <tr>\n",
       "      <th>light</th>\n",
       "      <td>0</td>\n",
       "      <td>0</td>\n",
       "      <td>0</td>\n",
       "      <td>0</td>\n",
       "      <td>0</td>\n",
       "      <td>0</td>\n",
       "      <td>0</td>\n",
       "      <td>0</td>\n",
       "      <td>0</td>\n",
       "      <td>0</td>\n",
       "      <td>...</td>\n",
       "      <td>0</td>\n",
       "      <td>0</td>\n",
       "      <td>0</td>\n",
       "      <td>0</td>\n",
       "      <td>0</td>\n",
       "      <td>0</td>\n",
       "      <td>0</td>\n",
       "      <td>0</td>\n",
       "      <td>0</td>\n",
       "      <td>1</td>\n",
       "    </tr>\n",
       "    <tr>\n",
       "      <th>spontan</th>\n",
       "      <td>0</td>\n",
       "      <td>0</td>\n",
       "      <td>0</td>\n",
       "      <td>0</td>\n",
       "      <td>0</td>\n",
       "      <td>0</td>\n",
       "      <td>0</td>\n",
       "      <td>0</td>\n",
       "      <td>0</td>\n",
       "      <td>0</td>\n",
       "      <td>...</td>\n",
       "      <td>0</td>\n",
       "      <td>0</td>\n",
       "      <td>0</td>\n",
       "      <td>0</td>\n",
       "      <td>0</td>\n",
       "      <td>0</td>\n",
       "      <td>0</td>\n",
       "      <td>0</td>\n",
       "      <td>0</td>\n",
       "      <td>0</td>\n",
       "    </tr>\n",
       "    <tr>\n",
       "      <th>awar</th>\n",
       "      <td>0</td>\n",
       "      <td>0</td>\n",
       "      <td>0</td>\n",
       "      <td>0</td>\n",
       "      <td>0</td>\n",
       "      <td>0</td>\n",
       "      <td>0</td>\n",
       "      <td>0</td>\n",
       "      <td>0</td>\n",
       "      <td>0</td>\n",
       "      <td>...</td>\n",
       "      <td>0</td>\n",
       "      <td>1</td>\n",
       "      <td>0</td>\n",
       "      <td>0</td>\n",
       "      <td>0</td>\n",
       "      <td>0</td>\n",
       "      <td>0</td>\n",
       "      <td>0</td>\n",
       "      <td>2</td>\n",
       "      <td>1</td>\n",
       "    </tr>\n",
       "    <tr>\n",
       "      <th>healthi</th>\n",
       "      <td>2</td>\n",
       "      <td>6</td>\n",
       "      <td>0</td>\n",
       "      <td>1</td>\n",
       "      <td>0</td>\n",
       "      <td>0</td>\n",
       "      <td>0</td>\n",
       "      <td>0</td>\n",
       "      <td>0</td>\n",
       "      <td>0</td>\n",
       "      <td>...</td>\n",
       "      <td>0</td>\n",
       "      <td>0</td>\n",
       "      <td>0</td>\n",
       "      <td>0</td>\n",
       "      <td>0</td>\n",
       "      <td>0</td>\n",
       "      <td>0</td>\n",
       "      <td>0</td>\n",
       "      <td>0</td>\n",
       "      <td>0</td>\n",
       "    </tr>\n",
       "    <tr>\n",
       "      <th>medit</th>\n",
       "      <td>0</td>\n",
       "      <td>0</td>\n",
       "      <td>0</td>\n",
       "      <td>0</td>\n",
       "      <td>0</td>\n",
       "      <td>0</td>\n",
       "      <td>0</td>\n",
       "      <td>0</td>\n",
       "      <td>0</td>\n",
       "      <td>0</td>\n",
       "      <td>...</td>\n",
       "      <td>0</td>\n",
       "      <td>0</td>\n",
       "      <td>0</td>\n",
       "      <td>0</td>\n",
       "      <td>0</td>\n",
       "      <td>0</td>\n",
       "      <td>0</td>\n",
       "      <td>0</td>\n",
       "      <td>0</td>\n",
       "      <td>0</td>\n",
       "    </tr>\n",
       "    <tr>\n",
       "      <th>still</th>\n",
       "      <td>0</td>\n",
       "      <td>0</td>\n",
       "      <td>0</td>\n",
       "      <td>0</td>\n",
       "      <td>0</td>\n",
       "      <td>0</td>\n",
       "      <td>0</td>\n",
       "      <td>0</td>\n",
       "      <td>0</td>\n",
       "      <td>0</td>\n",
       "      <td>...</td>\n",
       "      <td>0</td>\n",
       "      <td>0</td>\n",
       "      <td>0</td>\n",
       "      <td>0</td>\n",
       "      <td>0</td>\n",
       "      <td>0</td>\n",
       "      <td>0</td>\n",
       "      <td>0</td>\n",
       "      <td>0</td>\n",
       "      <td>0</td>\n",
       "    </tr>\n",
       "    <tr>\n",
       "      <th>rest</th>\n",
       "      <td>0</td>\n",
       "      <td>0</td>\n",
       "      <td>0</td>\n",
       "      <td>0</td>\n",
       "      <td>0</td>\n",
       "      <td>0</td>\n",
       "      <td>0</td>\n",
       "      <td>0</td>\n",
       "      <td>0</td>\n",
       "      <td>0</td>\n",
       "      <td>...</td>\n",
       "      <td>0</td>\n",
       "      <td>0</td>\n",
       "      <td>0</td>\n",
       "      <td>0</td>\n",
       "      <td>0</td>\n",
       "      <td>0</td>\n",
       "      <td>0</td>\n",
       "      <td>0</td>\n",
       "      <td>0</td>\n",
       "      <td>0</td>\n",
       "    </tr>\n",
       "    <tr>\n",
       "      <th>wait</th>\n",
       "      <td>0</td>\n",
       "      <td>0</td>\n",
       "      <td>0</td>\n",
       "      <td>0</td>\n",
       "      <td>0</td>\n",
       "      <td>0</td>\n",
       "      <td>0</td>\n",
       "      <td>0</td>\n",
       "      <td>0</td>\n",
       "      <td>1</td>\n",
       "      <td>...</td>\n",
       "      <td>0</td>\n",
       "      <td>0</td>\n",
       "      <td>0</td>\n",
       "      <td>0</td>\n",
       "      <td>0</td>\n",
       "      <td>0</td>\n",
       "      <td>0</td>\n",
       "      <td>0</td>\n",
       "      <td>0</td>\n",
       "      <td>0</td>\n",
       "    </tr>\n",
       "    <tr>\n",
       "      <th>laugh</th>\n",
       "      <td>0</td>\n",
       "      <td>0</td>\n",
       "      <td>0</td>\n",
       "      <td>0</td>\n",
       "      <td>0</td>\n",
       "      <td>0</td>\n",
       "      <td>0</td>\n",
       "      <td>0</td>\n",
       "      <td>0</td>\n",
       "      <td>0</td>\n",
       "      <td>...</td>\n",
       "      <td>0</td>\n",
       "      <td>0</td>\n",
       "      <td>0</td>\n",
       "      <td>0</td>\n",
       "      <td>0</td>\n",
       "      <td>0</td>\n",
       "      <td>0</td>\n",
       "      <td>0</td>\n",
       "      <td>0</td>\n",
       "      <td>0</td>\n",
       "    </tr>\n",
       "    <tr>\n",
       "      <th>grace</th>\n",
       "      <td>0</td>\n",
       "      <td>0</td>\n",
       "      <td>0</td>\n",
       "      <td>0</td>\n",
       "      <td>0</td>\n",
       "      <td>0</td>\n",
       "      <td>0</td>\n",
       "      <td>0</td>\n",
       "      <td>0</td>\n",
       "      <td>0</td>\n",
       "      <td>...</td>\n",
       "      <td>0</td>\n",
       "      <td>0</td>\n",
       "      <td>0</td>\n",
       "      <td>0</td>\n",
       "      <td>0</td>\n",
       "      <td>0</td>\n",
       "      <td>0</td>\n",
       "      <td>0</td>\n",
       "      <td>0</td>\n",
       "      <td>0</td>\n",
       "    </tr>\n",
       "    <tr>\n",
       "      <th>natur</th>\n",
       "      <td>0</td>\n",
       "      <td>0</td>\n",
       "      <td>0</td>\n",
       "      <td>0</td>\n",
       "      <td>0</td>\n",
       "      <td>0</td>\n",
       "      <td>0</td>\n",
       "      <td>0</td>\n",
       "      <td>0</td>\n",
       "      <td>0</td>\n",
       "      <td>...</td>\n",
       "      <td>0</td>\n",
       "      <td>0</td>\n",
       "      <td>1</td>\n",
       "      <td>1</td>\n",
       "      <td>0</td>\n",
       "      <td>1</td>\n",
       "      <td>0</td>\n",
       "      <td>0</td>\n",
       "      <td>1</td>\n",
       "      <td>1</td>\n",
       "    </tr>\n",
       "    <tr>\n",
       "      <th>steadi</th>\n",
       "      <td>0</td>\n",
       "      <td>0</td>\n",
       "      <td>0</td>\n",
       "      <td>0</td>\n",
       "      <td>0</td>\n",
       "      <td>0</td>\n",
       "      <td>0</td>\n",
       "      <td>0</td>\n",
       "      <td>0</td>\n",
       "      <td>0</td>\n",
       "      <td>...</td>\n",
       "      <td>0</td>\n",
       "      <td>0</td>\n",
       "      <td>0</td>\n",
       "      <td>0</td>\n",
       "      <td>0</td>\n",
       "      <td>0</td>\n",
       "      <td>0</td>\n",
       "      <td>0</td>\n",
       "      <td>0</td>\n",
       "      <td>0</td>\n",
       "    </tr>\n",
       "    <tr>\n",
       "      <th>center</th>\n",
       "      <td>0</td>\n",
       "      <td>0</td>\n",
       "      <td>1</td>\n",
       "      <td>0</td>\n",
       "      <td>0</td>\n",
       "      <td>0</td>\n",
       "      <td>0</td>\n",
       "      <td>0</td>\n",
       "      <td>0</td>\n",
       "      <td>0</td>\n",
       "      <td>...</td>\n",
       "      <td>0</td>\n",
       "      <td>0</td>\n",
       "      <td>0</td>\n",
       "      <td>0</td>\n",
       "      <td>0</td>\n",
       "      <td>0</td>\n",
       "      <td>0</td>\n",
       "      <td>0</td>\n",
       "      <td>0</td>\n",
       "      <td>0</td>\n",
       "    </tr>\n",
       "    <tr>\n",
       "      <th>placid</th>\n",
       "      <td>0</td>\n",
       "      <td>0</td>\n",
       "      <td>0</td>\n",
       "      <td>0</td>\n",
       "      <td>0</td>\n",
       "      <td>0</td>\n",
       "      <td>0</td>\n",
       "      <td>0</td>\n",
       "      <td>0</td>\n",
       "      <td>0</td>\n",
       "      <td>...</td>\n",
       "      <td>0</td>\n",
       "      <td>0</td>\n",
       "      <td>0</td>\n",
       "      <td>0</td>\n",
       "      <td>0</td>\n",
       "      <td>0</td>\n",
       "      <td>0</td>\n",
       "      <td>0</td>\n",
       "      <td>0</td>\n",
       "      <td>0</td>\n",
       "    </tr>\n",
       "    <tr>\n",
       "      <th>stoic</th>\n",
       "      <td>0</td>\n",
       "      <td>0</td>\n",
       "      <td>0</td>\n",
       "      <td>0</td>\n",
       "      <td>0</td>\n",
       "      <td>0</td>\n",
       "      <td>0</td>\n",
       "      <td>0</td>\n",
       "      <td>0</td>\n",
       "      <td>0</td>\n",
       "      <td>...</td>\n",
       "      <td>0</td>\n",
       "      <td>0</td>\n",
       "      <td>0</td>\n",
       "      <td>0</td>\n",
       "      <td>0</td>\n",
       "      <td>0</td>\n",
       "      <td>0</td>\n",
       "      <td>0</td>\n",
       "      <td>0</td>\n",
       "      <td>0</td>\n",
       "    </tr>\n",
       "    <tr>\n",
       "      <th>align</th>\n",
       "      <td>0</td>\n",
       "      <td>0</td>\n",
       "      <td>0</td>\n",
       "      <td>0</td>\n",
       "      <td>0</td>\n",
       "      <td>0</td>\n",
       "      <td>0</td>\n",
       "      <td>0</td>\n",
       "      <td>0</td>\n",
       "      <td>0</td>\n",
       "      <td>...</td>\n",
       "      <td>0</td>\n",
       "      <td>0</td>\n",
       "      <td>0</td>\n",
       "      <td>0</td>\n",
       "      <td>0</td>\n",
       "      <td>0</td>\n",
       "      <td>0</td>\n",
       "      <td>0</td>\n",
       "      <td>0</td>\n",
       "      <td>0</td>\n",
       "    </tr>\n",
       "  </tbody>\n",
       "</table>\n",
       "<p>298 rows × 652 columns</p>\n",
       "</div>"
      ],
      "text/plain": [
       "            P_01-11-  P_01-11-  P_01-11-  P_01-11-  P_01-11-  P_01-11-  \\\n",
       "reduc              0         2         0         1         0         0   \n",
       "skyrocket          0         0         0         0         0         0   \n",
       "immedi             0         0         0         0         0         0   \n",
       "immin              0         0         0         0         0         0   \n",
       "doubt              0         0         0         0         0         0   \n",
       "uncertain          0         0         0         0         0         0   \n",
       "indecis            0         0         0         0         0         0   \n",
       "perplex            0         0         0         0         0         0   \n",
       "embarrass          0         0         0         0         0         0   \n",
       "hesit              0         0         0         0         0         0   \n",
       "disillus           0         0         0         0         0         0   \n",
       "distrust           0         0         0         0         0         0   \n",
       "misgiv             0         0         0         0         0         0   \n",
       "unsur              0         0         0         0         0         0   \n",
       "tens               0         0         0         0         0         0   \n",
       "stress             2         6         0         0         0         0   \n",
       "uncomfort          0         0         0         0         0         0   \n",
       "dishonest          0         0         0         0         0         0   \n",
       "disdain            0         0         0         0         0         0   \n",
       "manipul            0         0         0         0         0         0   \n",
       "judgment           0         0         0         0         0         0   \n",
       "argument           0         0         0         0         0         0   \n",
       "authorit           0         0         0         0         0         0   \n",
       "condescend         0         0         0         0         0         0   \n",
       "distract           0         0         0         0         0         0   \n",
       "disori             0         0         0         0         0         0   \n",
       "offkilt            0         0         0         0         0         0   \n",
       "frenzi             0         0         0         0         0         0   \n",
       "blush              0         0         0         0         0         0   \n",
       "awkward            0         0         0         0         0         0   \n",
       "...              ...       ...       ...       ...       ...       ...   \n",
       "calm               0         0         0         0         0         0   \n",
       "quiet              0         0         0         0         0         0   \n",
       "certain            1         0         0         0         0         0   \n",
       "radiant            0         0         0         0         0         0   \n",
       "beam               0         0         0         0         0         0   \n",
       "reflect            0         0         0         0         0         0   \n",
       "smile              0         0         0         0         0         0   \n",
       "ground             0         0         0         0         0         0   \n",
       "unhurri            0         0         0         0         0         0   \n",
       "openmind           0         0         0         0         0         0   \n",
       "effici             0         0         0         0         0         0   \n",
       "noncontrol         0         0         0         0         0         0   \n",
       "unassum            0         0         0         0         0         0   \n",
       "fluid              0         0         0         0         0         0   \n",
       "light              0         0         0         0         0         0   \n",
       "spontan            0         0         0         0         0         0   \n",
       "awar               0         0         0         0         0         0   \n",
       "healthi            2         6         0         1         0         0   \n",
       "medit              0         0         0         0         0         0   \n",
       "still              0         0         0         0         0         0   \n",
       "rest               0         0         0         0         0         0   \n",
       "wait               0         0         0         0         0         0   \n",
       "laugh              0         0         0         0         0         0   \n",
       "grace              0         0         0         0         0         0   \n",
       "natur              0         0         0         0         0         0   \n",
       "steadi             0         0         0         0         0         0   \n",
       "center             0         0         1         0         0         0   \n",
       "placid             0         0         0         0         0         0   \n",
       "stoic              0         0         0         0         0         0   \n",
       "align              0         0         0         0         0         0   \n",
       "\n",
       "            P_01-11-  P_01-11-  P_01-11-  P_01-11-    ...     P_20-11-  \\\n",
       "reduc              1         0         0         0    ...            0   \n",
       "skyrocket          0         0         0         0    ...            0   \n",
       "immedi             0         0         0         0    ...            0   \n",
       "immin              0         0         0         0    ...            0   \n",
       "doubt              0         0         0         0    ...            0   \n",
       "uncertain          0         0         0         0    ...            0   \n",
       "indecis            0         0         0         0    ...            0   \n",
       "perplex            0         0         0         0    ...            0   \n",
       "embarrass          0         0         0         0    ...            0   \n",
       "hesit              0         0         0         0    ...            0   \n",
       "disillus           0         0         0         0    ...            0   \n",
       "distrust           0         0         0         0    ...            0   \n",
       "misgiv             0         0         0         0    ...            0   \n",
       "unsur              0         0         0         0    ...            0   \n",
       "tens               0         0         0         0    ...            0   \n",
       "stress             0         0         0         0    ...            0   \n",
       "uncomfort          0         0         0         0    ...            0   \n",
       "dishonest          0         0         0         0    ...            0   \n",
       "disdain            0         0         0         0    ...            0   \n",
       "manipul            0         0         0         0    ...            0   \n",
       "judgment           0         0         0         0    ...            0   \n",
       "argument           0         0         0         0    ...            0   \n",
       "authorit           0         0         0         0    ...            0   \n",
       "condescend         0         0         0         0    ...            0   \n",
       "distract           0         0         0         0    ...            0   \n",
       "disori             0         0         0         0    ...            0   \n",
       "offkilt            0         0         0         0    ...            0   \n",
       "frenzi             0         0         0         0    ...            0   \n",
       "blush              0         0         0         0    ...            0   \n",
       "awkward            0         0         0         0    ...            0   \n",
       "...              ...       ...       ...       ...    ...          ...   \n",
       "calm               0         0         0         0    ...            0   \n",
       "quiet              0         0         0         0    ...            0   \n",
       "certain            0         0         0         0    ...            0   \n",
       "radiant            0         0         0         0    ...            0   \n",
       "beam               0         0         0         0    ...            0   \n",
       "reflect            0         0         0         0    ...            0   \n",
       "smile              0         0         0         0    ...            0   \n",
       "ground             0         0         0         0    ...            0   \n",
       "unhurri            0         0         0         0    ...            0   \n",
       "openmind           0         0         0         0    ...            0   \n",
       "effici             0         0         0         0    ...            0   \n",
       "noncontrol         0         0         0         0    ...            0   \n",
       "unassum            0         0         0         0    ...            0   \n",
       "fluid              0         0         0         0    ...            0   \n",
       "light              0         0         0         0    ...            0   \n",
       "spontan            0         0         0         0    ...            0   \n",
       "awar               0         0         0         0    ...            0   \n",
       "healthi            0         0         0         0    ...            0   \n",
       "medit              0         0         0         0    ...            0   \n",
       "still              0         0         0         0    ...            0   \n",
       "rest               0         0         0         0    ...            0   \n",
       "wait               0         0         0         1    ...            0   \n",
       "laugh              0         0         0         0    ...            0   \n",
       "grace              0         0         0         0    ...            0   \n",
       "natur              0         0         0         0    ...            0   \n",
       "steadi             0         0         0         0    ...            0   \n",
       "center             0         0         0         0    ...            0   \n",
       "placid             0         0         0         0    ...            0   \n",
       "stoic              0         0         0         0    ...            0   \n",
       "align              0         0         0         0    ...            0   \n",
       "\n",
       "            P_20-11-  P_20-11-  P_20-11-  P_20-11-  P_20-11-  P_20-11-  \\\n",
       "reduc              1         0         0         0         0         0   \n",
       "skyrocket          0         0         0         0         0         0   \n",
       "immedi             0         0         0         0         0         0   \n",
       "immin              0         0         0         0         0         0   \n",
       "doubt              0         0         0         0         0         0   \n",
       "uncertain          0         0         0         0         0         0   \n",
       "indecis            0         0         0         0         0         0   \n",
       "perplex            0         0         0         0         0         0   \n",
       "embarrass          0         0         0         0         0         0   \n",
       "hesit              0         0         0         0         0         0   \n",
       "disillus           0         0         0         0         0         0   \n",
       "distrust           0         0         0         0         0         0   \n",
       "misgiv             0         0         0         0         0         0   \n",
       "unsur              0         0         0         0         0         0   \n",
       "tens               0         0         0         0         0         0   \n",
       "stress             0         2         0         0         1         0   \n",
       "uncomfort          0         0         0         0         0         0   \n",
       "dishonest          0         0         0         0         0         0   \n",
       "disdain            0         0         0         0         0         0   \n",
       "manipul            0         0         0         0         0         0   \n",
       "judgment           0         0         0         0         0         0   \n",
       "argument           0         0         0         0         0         0   \n",
       "authorit           0         0         0         0         0         0   \n",
       "condescend         0         0         0         0         0         0   \n",
       "distract           0         0         0         0         0         0   \n",
       "disori             0         0         0         0         0         0   \n",
       "offkilt            0         0         0         0         0         0   \n",
       "frenzi             0         0         0         0         0         0   \n",
       "blush              0         0         0         0         0         0   \n",
       "awkward            0         0         0         0         0         0   \n",
       "...              ...       ...       ...       ...       ...       ...   \n",
       "calm               0         0         0         0         0         0   \n",
       "quiet              0         0         0         0         0         0   \n",
       "certain            0         0         0         0         0         0   \n",
       "radiant            0         0         0         0         0         0   \n",
       "beam               0         0         0         0         0         0   \n",
       "reflect            0         0         0         0         0         0   \n",
       "smile              0         0         0         0         0         0   \n",
       "ground             0         0         0         0         0         0   \n",
       "unhurri            0         0         0         0         0         0   \n",
       "openmind           0         0         0         0         0         0   \n",
       "effici             0         0         0         0         0         0   \n",
       "noncontrol         0         0         0         0         0         0   \n",
       "unassum            0         0         0         0         0         0   \n",
       "fluid              0         0         0         0         0         0   \n",
       "light              0         0         0         0         0         0   \n",
       "spontan            0         0         0         0         0         0   \n",
       "awar               1         0         0         0         0         0   \n",
       "healthi            0         0         0         0         0         0   \n",
       "medit              0         0         0         0         0         0   \n",
       "still              0         0         0         0         0         0   \n",
       "rest               0         0         0         0         0         0   \n",
       "wait               0         0         0         0         0         0   \n",
       "laugh              0         0         0         0         0         0   \n",
       "grace              0         0         0         0         0         0   \n",
       "natur              0         1         1         0         1         0   \n",
       "steadi             0         0         0         0         0         0   \n",
       "center             0         0         0         0         0         0   \n",
       "placid             0         0         0         0         0         0   \n",
       "stoic              0         0         0         0         0         0   \n",
       "align              0         0         0         0         0         0   \n",
       "\n",
       "            P_20-11-  P_20-11-  P_20-11-  \n",
       "reduc              1         0         1  \n",
       "skyrocket          0         0         0  \n",
       "immedi             0         0         0  \n",
       "immin              0         0         0  \n",
       "doubt              0         0         0  \n",
       "uncertain          0         0         0  \n",
       "indecis            0         0         0  \n",
       "perplex            0         0         0  \n",
       "embarrass          0         0         0  \n",
       "hesit              0         0         0  \n",
       "disillus           0         0         0  \n",
       "distrust           0         0         0  \n",
       "misgiv             0         0         0  \n",
       "unsur              0         0         0  \n",
       "tens               0         0         0  \n",
       "stress             0         0         0  \n",
       "uncomfort          0         0         0  \n",
       "dishonest          0         0         0  \n",
       "disdain            0         0         0  \n",
       "manipul            0         2         2  \n",
       "judgment           0         0         0  \n",
       "argument           0         0         0  \n",
       "authorit           0         0         0  \n",
       "condescend         0         0         0  \n",
       "distract           0         0         0  \n",
       "disori             0         0         0  \n",
       "offkilt            0         0         0  \n",
       "frenzi             0         0         0  \n",
       "blush              0         0         0  \n",
       "awkward            0         0         0  \n",
       "...              ...       ...       ...  \n",
       "calm               0         0         0  \n",
       "quiet              0         1         0  \n",
       "certain            0         0         0  \n",
       "radiant            0         0         0  \n",
       "beam               0         0         0  \n",
       "reflect            0         0         0  \n",
       "smile              0         0         0  \n",
       "ground             0         0         0  \n",
       "unhurri            0         0         0  \n",
       "openmind           0         0         0  \n",
       "effici             0         0         0  \n",
       "noncontrol         0         0         0  \n",
       "unassum            0         0         0  \n",
       "fluid              0         0         0  \n",
       "light              0         0         1  \n",
       "spontan            0         0         0  \n",
       "awar               0         2         1  \n",
       "healthi            0         0         0  \n",
       "medit              0         0         0  \n",
       "still              0         0         0  \n",
       "rest               0         0         0  \n",
       "wait               0         0         0  \n",
       "laugh              0         0         0  \n",
       "grace              0         0         0  \n",
       "natur              0         1         1  \n",
       "steadi             0         0         0  \n",
       "center             0         0         0  \n",
       "placid             0         0         0  \n",
       "stoic              0         0         0  \n",
       "align              0         0         0  \n",
       "\n",
       "[298 rows x 652 columns]"
      ]
     },
     "execution_count": 3,
     "metadata": {},
     "output_type": "execute_result"
    }
   ],
   "source": [
    "import pandas as pd\n",
    "import os \n",
    "import numpy as np\n",
    "import pandas as pd\n",
    "from nltk.classify import MaxentClassifier\n",
    "from sklearn.linear_model import LogisticRegression as logreg\n",
    "from sklearn import metrics\n",
    "from nltk.classify.maxent import MaxentClassifier as maxent\n",
    "files=cleancorpus.fileids()\n",
    "docs=[] #all words in corpus\n",
    "# create a control list for the DocumentTermMatrix function\n",
    "min_wordlength=4\n",
    "max_wordlength=20\n",
    "minDocfreq=15\n",
    "\n",
    "#Traversing through every file in corpus \n",
    "vocab=r\"C:\\Users\\PUSHPENDRA\\Desktop\\Acads\\Autumn 2017-18\\snlp\\open data\\Vocabulary\\Vocab_clean.txt\"\n",
    "for word in open(vocab).readlines():\n",
    "    vocabulary=word.split() \n",
    "'''    \n",
    "for file in files:\n",
    "    f=open(os.path.join(root,file))\n",
    "    file_content=f.read()\n",
    "    \n",
    "    \n",
    "\n",
    "    tokens=nltk.word_tokenize(file_content)\n",
    "    docs+=tokens\n",
    "   \n",
    "'''\n",
    "from sklearn.feature_extraction.text import CountVectorizer \n",
    "\n",
    "def fn_tdm_df(vocab,docs, xColNames = None):\n",
    "    ''' create a term document matrix as pandas DataFrame\n",
    "    with **kwargs you can pass arguments of CountVectorizer\n",
    "    if xColNames is given the dataframe gets columns Names'''\n",
    "\n",
    "    #initialize the  vectorizer\n",
    "    vectorizer = CountVectorizer(min_df=1,vocabulary=vocab)\n",
    "    x1 = vectorizer.fit_transform(docs)\n",
    "    #create dataFrame\n",
    "    df = pd.DataFrame(x1.toarray().transpose(), index = vectorizer.get_feature_names())\n",
    "    if xColNames is not None:\n",
    "        df.columns = xColNames\n",
    "\n",
    "    return df\n",
    "\n",
    "DIR = root\n",
    "DIR_V=r\"C:\\Users\\PUSHPENDRA\\Desktop\\Acads\\Autumn 2017-18\\snlp\\open data\\Vocabulary\"\n",
    "def fn_CorpusFromDIR(xDIR):\n",
    "    ''' functions to create corpus from a Directories\n",
    "    Input: Directory\n",
    "    Output: A dictionary with \n",
    "             Names of files ['ColNames']\n",
    "             the text in corpus ['docs']'''\n",
    "    import os\n",
    "    Res = dict(docs = [open(os.path.join(DIR,f)).read() for f in os.listdir(DIR)],\n",
    "               ColNames = map(lambda x: 'P_' + x[0:6], os.listdir(xDIR)))\n",
    "    return Res\n",
    "d1 = fn_tdm_df(vocabulary,docs = fn_CorpusFromDIR(DIR)['docs'],\n",
    "          xColNames = fn_CorpusFromDIR(DIR)['ColNames'])  \n",
    "\n",
    "\n",
    "\t\n",
    "# specify which coding document to use - complete list of human coders' responses\n",
    "# must be in correct format, otherwise errors will occur below\n",
    "dat=pd.read_csv(r\"C:\\Users\\PUSHPENDRA\\Desktop\\Acads\\Autumn 2017-18\\snlp\\open data\\Exaggeration.csv\")\n",
    "\n",
    "d=d1.T.as_matrix(columns=None)\n",
    "label=dat.as_matrix(columns=None)\n",
    "label=np.delete(label, [0], axis=1)\n",
    "d1.to_csv(r\"C:\\Users\\PUSHPENDRA\\Desktop\\Acads\\Autumn 2017-18\\snlp\\open data\\dtm.csv\")\n",
    "model=logreg()\n",
    "FS=dat['Advice'][:450]\n",
    "model.fit(d[:450],FS)\n",
    "preds =model.predict(X=d[451:])\n",
    "pd.crosstab(preds,dat['Advice'][451:])\n",
    "print(model.score(d[451:],dat['Advice'][451:]))\n",
    "print(metrics.classification_report(y_true=dat['Advice'][451:],y_pred=preds) )\n",
    "d1"
   ]
  },
  {
   "cell_type": "markdown",
   "metadata": {},
   "source": [
    "#### Similarily for Press Release"
   ]
  },
  {
   "cell_type": "code",
   "execution_count": null,
   "metadata": {
    "collapsed": true
   },
   "outputs": [],
   "source": [
    "# Converting docs to text format such that we can apply nltk tools for text mining purpose.\n",
    "\n",
    "import os,pandas as pd\n",
    "import nltk\n",
    "import os\n",
    "import win32com.client\n",
    "import nltk\n",
    "import io\n",
    "from nltk.corpus import PlaintextCorpusReader\n",
    " \n",
    "path1=r\"C:\\Users\\PUSHPENDRA\\Desktop\\Acads\\Autumn 2017-18\\snlp\\open data\\5. Press releases\"\n",
    "\n",
    "def docxtotxt(file,filepath):\n",
    "    doc = win32com.client.GetObject(filepath)\n",
    "    text = doc.Range().Text\n",
    "    #\n",
    "    # do something with the text...\n",
    "    #\n",
    "    name=file[0:9]+\".txt\"\n",
    "\n",
    "    #newpath=r\"C:\\Users\\PUSHPENDRA\\Desktop\\Acads\\Autumn 2017-18\\snlp\\open data\\Text_Press_releases\"\n",
    "    #f= open(os.path.join(newpath,name),\"w+\")\n",
    "    #f.write(text)\n",
    "    #f.close()\n",
    "for file in os.listdir(path1):\n",
    "    docxtotxt(file,os.path.join(path1,file))"
   ]
  },
  {
   "cell_type": "code",
   "execution_count": 84,
   "metadata": {
    "collapsed": false
   },
   "outputs": [
    {
     "data": {
      "text/plain": [
       "462"
      ]
     },
     "execution_count": 84,
     "metadata": {},
     "output_type": "execute_result"
    }
   ],
   "source": [
    "import nltk\n",
    "from nltk.corpus import PlaintextCorpusReader\n",
    "corpus_root = r\"C:\\Users\\PUSHPENDRA\\Desktop\\Acads\\Autumn 2017-18\\snlp\\open data\\Text_Press_releases\"\n",
    "newcorpus_press = PlaintextCorpusReader(corpus_root, '.*')\n",
    "files=newcorpus_press.fileids()\n",
    "len(files)"
   ]
  },
  {
   "cell_type": "markdown",
   "metadata": {},
   "source": [
    "#### Cleaning Press releases corpus"
   ]
  },
  {
   "cell_type": "code",
   "execution_count": 7,
   "metadata": {
    "collapsed": false
   },
   "outputs": [],
   "source": [
    "files=newcorpus_press.fileids()\n",
    "import re,os\n",
    "import string\n",
    "from nltk.corpus import stopwords\n",
    "from nltk.stem.porter import PorterStemmer\n",
    "from nltk.stem.snowball import SnowballStemmer\n",
    "from nltk.stem.wordnet import WordNetLemmatizer\n",
    "from sklearn.feature_extraction.text import TfidfVectorizer\n",
    "\n",
    "\n",
    "def clean_corpus(file):\n",
    "\n",
    "\n",
    "    f=open(file,'rb')\n",
    "    file_content=f.read().decode('utf8', 'ignore')\n",
    "    \n",
    "    file_content = re.sub(\"\\d+\", \"\", file_content) #removing numbers from text\n",
    "    \n",
    "    \n",
    "   \n",
    "    \n",
    "    tokens=nltk.word_tokenize(file_content)\n",
    "    f.close()\n",
    "    regex = re.compile('[%s]' % re.escape(string.punctuation)) #see documentation here: http://docs.python.org/2/library/string.html\n",
    "\n",
    "    tokenized_docs_no_punctuation = []\n",
    "\n",
    "    for token in tokens:\n",
    "    \n",
    "        new_review = []\n",
    "        \n",
    "        new_token = regex.sub(u'', token)\n",
    "        if not new_token == u'':\n",
    "                new_review.append(new_token)\n",
    "        \n",
    "        tokenized_docs_no_punctuation.append(new_review)\n",
    "    \n",
    "\n",
    "\n",
    "    tokenized_docs_no_stopwords = []\n",
    "    for doc in tokenized_docs_no_punctuation:\n",
    "        new_term_vector = []\n",
    "        for word in doc:\n",
    "            if not word in stopwords.words('english'):\n",
    "                new_term_vector.append(word)\n",
    "        tokenized_docs_no_stopwords.append(new_term_vector)\n",
    "            \n",
    "    porter = PorterStemmer()\n",
    "    snowball = SnowballStemmer('english')\n",
    "    wordnet = WordNetLemmatizer()\n",
    "    # stem words \n",
    "\n",
    "    # stemming using Snowball package (or SnowballC)\n",
    "\n",
    "    preprocessed_docs = []\n",
    "\n",
    "    for doc in tokenized_docs_no_stopwords:\n",
    "        final_doc = []\n",
    "        for word in doc:\n",
    "            #final_doc.append(porter.stem(word))\n",
    "            final_doc.append(snowball.stem(word))\n",
    "            #final_doc.append(wordnet.lemmatize(word)) #note that lemmatize() can also takes part of speech as an argument!\n",
    "        preprocessed_docs.append(final_doc)\n",
    "\n",
    "    # print(preprocessed_docs)\n",
    "\n",
    "    text=nltk.Text(preprocessed_docs)\n",
    "    mytext = ''.join(map(str, text))\n",
    "    mytext= mytext.translate(str.maketrans(' ', ' ', \"!@#$[]\"))\n",
    "    mytext=mytext.replace(\"''\",\" \")\n",
    "\n",
    "    path=r\"C:\\Users\\PUSHPENDRA\\Desktop\\Acads\\Autumn 2017-18\\snlp\\open data\\clean_presscorpus\"\n",
    "    \n",
    "    newfile=open(os.path.join(path,file[-13:]),'w+')\n",
    "    newfile.write(mytext)\n",
    "    newfile.close()\n",
    "    \n",
    "    \n",
    "    \n",
    "  \n",
    "for file in files:\n",
    "    clean_corpus(os.path.join(corpus_root,file))"
   ]
  },
  {
   "cell_type": "markdown",
   "metadata": {
    "collapsed": false
   },
   "source": [
    "####  Converting docs of cleaned corpus of News Articles into vector form"
   ]
  },
  {
   "cell_type": "code",
   "execution_count": 1,
   "metadata": {
    "collapsed": false
   },
   "outputs": [
    {
     "name": "stderr",
     "output_type": "stream",
     "text": [
      "C:\\Users\\PUSHPENDRA\\Anaconda3\\lib\\site-packages\\gensim\\utils.py:862: UserWarning: detected Windows; aliasing chunkize to chunkize_serial\n",
      "  warnings.warn(\"detected Windows; aliasing chunkize to chunkize_serial\")\n"
     ]
    }
   ],
   "source": [
    "#Import all the dependencies\n",
    "import gensim,os\n",
    "from nltk import RegexpTokenizer\n",
    "from nltk.corpus import stopwords\n",
    "from os import listdir\n",
    "from os.path import isfile, join\n",
    "\n",
    "docLabels = []\n",
    "docLabels = [f for f in listdir(r\"C:\\Users\\PUSHPENDRA\\Desktop\\Acads\\Autumn 2017-18\\snlp\\open data\\Corpus\") \n",
    "             if f.endswith(\".txt\")]\n",
    "#create a list data that stores the content of all text files in order of their names in docLabels\n",
    "data = []\n",
    "for doc in docLabels:\n",
    "    data.append(open(os.path.join(r\"C:\\Users\\PUSHPENDRA\\Desktop\\Acads\\Autumn 2017-18\\snlp\\open data\\Corpus\", doc)).read())\n"
   ]
  },
  {
   "cell_type": "code",
   "execution_count": 2,
   "metadata": {
    "collapsed": false
   },
   "outputs": [],
   "source": [
    "from gensim.models.doc2vec import TaggedDocument\n",
    "class LabeledLineSentence(object):\n",
    "    def __init__(self, doc_list, labels_list):\n",
    "        self.labels_list = labels_list\n",
    "        self.doc_list = doc_list\n",
    "    def __iter__(self):\n",
    "        for idx, doc in enumerate(self.doc_list):\n",
    "            yield TaggedDocument(doc.split(),[self.labels_list[idx]])\n",
    "\n",
    "#iterator returned over all documents\n",
    "it = LabeledLineSentence(data, docLabels)"
   ]
  },
  {
   "cell_type": "code",
   "execution_count": 3,
   "metadata": {
    "collapsed": false
   },
   "outputs": [
    {
     "name": "stdout",
     "output_type": "stream",
     "text": [
      "iteration1\n",
      "iteration2\n",
      "iteration3\n",
      "iteration4\n",
      "iteration5\n",
      "iteration6\n",
      "iteration7\n",
      "iteration8\n",
      "iteration9\n",
      "iteration10\n",
      "Iteration Completed\n"
     ]
    }
   ],
   "source": [
    "model = gensim.models.Doc2Vec(size=300, min_count=0, alpha=0.025, min_alpha=0.025)\n",
    "model.build_vocab(it)\n",
    "#training of model\n",
    "for epoch in range(10):\n",
    "    print('iteration' +str(epoch+1))\n",
    "    model.train(it,total_examples=model.corpus_count,epochs=model.iter)\n",
    "    model.alpha -= 0.002\n",
    "    model.min_alpha = model.alpha\n",
    "    model.train(it,total_examples=model.corpus_count,epochs=model.iter)\n",
    "#saving the created model\n",
    "print(\"Iteration Completed\")"
   ]
  },
  {
   "cell_type": "code",
   "execution_count": 30,
   "metadata": {
    "collapsed": false
   },
   "outputs": [
    {
     "name": "stdout",
     "output_type": "stream",
     "text": [
      "model saved\n"
     ]
    }
   ],
   "source": [
    "#loading the model\n",
    "from sklearn.metrics.pairwise import cosine_similarity\n",
    "model.save(\"doc2vec.model\")\n",
    "d2v_model = gensim.models.doc2vec.Doc2Vec.load('doc2vec.model')\n",
    "print(\"model saved\")"
   ]
  },
  {
   "cell_type": "markdown",
   "metadata": {},
   "source": [
    "#### Cosine Similarity for FS Exaggerated and Non Exaggerated articles"
   ]
  },
  {
   "cell_type": "code",
   "execution_count": null,
   "metadata": {
    "collapsed": true
   },
   "outputs": [],
   "source": [
    "import pandas as pd \n",
    "import csv\n",
    "news=pd.read_csv(r\"C:\\Users\\PUSHPENDRA\\Desktop\\Acads\\Autumn 2017-18\\snlp\\open data\\Exaggeration_new.csv\")\n",
    "news_ex=news[news['Exaggeration']==1]\n",
    "news_nonex=news[news['Exaggeration']==0]\n",
    "d2v_model = gensim.models.doc2vec.Doc2Vec.load('doc2vec.model')\n",
    "#Cosine Similarity for Exaggerated News Articles\n",
    "i=0\n",
    "tot=0\n",
    "with open(r\"C:\\Users\\PUSHPENDRA\\Desktop\\Acads\\Autumn 2017-18\\snlp\\open data\\cosine.csv\",'a') as f:\n",
    "    writer = csv.writer(f, dialect='excel')\n",
    "    for index,file in news_ex.iterrows():\n",
    "        press=file[0][:6]+'0'+file[0][8:]+\".txt\"\n",
    "        newsarticle=file[0][:6]+'0'+file[0][8:]+\"_\"+file[1]+\".txt\"\n",
    "       \n",
    "        docvec = d2v_model.docvecs[press]#if string tag used in training\n",
    "        docvec1= d2v_model.docvecs[newsarticle]\n",
    "        sim=cosine_similarity(docvec,docvec1)[0][0]\n",
    "        writer.writerow([press,newsarticle,1,sim])\n",
    "        \n",
    "\n",
    "            \n",
    "with open(r\"C:\\Users\\PUSHPENDRA\\Desktop\\Acads\\Autumn 2017-18\\snlp\\open data\\cosine.csv\",'a') as f:\n",
    "    writer = csv.writer(f, dialect='excel')\n",
    "    for index,file in news_nonex.iterrows():\n",
    "\n",
    "        press=file[0][:6]+'0'+file[0][8:]+\".txt\"\n",
    "        newsarticle=file[0][:6]+'0'+file[0][8:]+\"_\"+file[1]+\".txt\"\n",
    "        docvec = d2v_model.docvecs[press]#if string tag used in training\n",
    "        docvec1= d2v_model.docvecs[newsarticle]\n",
    "        sim=cosine_similarity(docvec,docvec1)[0][0]\n",
    "        tot=tot+sim\n",
    "        writer.writerow([press,newsarticle,0,sim])\n",
    "  "
   ]
  },
  {
   "cell_type": "code",
   "execution_count": null,
   "metadata": {
    "collapsed": true
   },
   "outputs": [],
   "source": [
    "news_fsexag=news[news['FS']==1]\n",
    "news_fsnonexag=news[news['FS']!=1]\n",
    "i=0\n",
    "with open(r\"C:\\Users\\PUSHPENDRA\\Desktop\\Acads\\Autumn 2017-18\\snlp\\open data\\cosine_FSexaggeration.csv\",'w') as f:\n",
    "    writer = csv.writer(f, dialect='excel')\n",
    "    for index,file in news_fsexag.iterrows():\n",
    "        press=file[0][:6]+'0'+file[0][8:]+\".txt\"\n",
    "        newsarticle=file[0][:6]+'0'+file[0][8:]+\"_\"+file[1]+\".txt\"\n",
    "        i=i+1\n",
    "        docvec = d2v_model.docvecs[press]#if string tag used in training\n",
    "        docvec1= d2v_model.docvecs[newsarticle]\n",
    "        sim=cosine_similarity(docvec,docvec1)[0][0]\n",
    "        writer.writerow([press,newsarticle,1,sim])\n",
    "with open(r\"C:\\Users\\PUSHPENDRA\\Desktop\\Acads\\Autumn 2017-18\\snlp\\open data\\cosine_FSexaggeration.csv\",'a') as f:\n",
    "    writer = csv.writer(f, dialect='excel')\n",
    "\n",
    "    for index,file in news_fsnonexag.iterrows():\n",
    "\n",
    "        press=file[0][:6]+'0'+file[0][8:]+\".txt\"\n",
    "        newsarticle=file[0][:6]+'0'+file[0][8:]+\"_\"+file[1]+\".txt\"\n",
    "        docvec = d2v_model.docvecs[press]#if string tag used in training\n",
    "        docvec1= d2v_model.docvecs[newsarticle]\n",
    "        sim=cosine_similarity(docvec,docvec1)[0][0]\n",
    "        writer.writerow([press,newsarticle,0,sim])"
   ]
  },
  {
   "cell_type": "markdown",
   "metadata": {},
   "source": [
    "#### Cosine Similarity for advice exaggerated and Non exagerated"
   ]
  },
  {
   "cell_type": "code",
   "execution_count": null,
   "metadata": {
    "collapsed": true
   },
   "outputs": [],
   "source": [
    "news_advex=news[news['Advice']==1]\n",
    "news_advnonex=news[news['Advice']!=1]\n",
    "\n",
    "i=0\n",
    "with open(r\"C:\\Users\\PUSHPENDRA\\Desktop\\Acads\\Autumn 2017-18\\snlp\\open data\\cosine_Advice_exaggeration.csv\",'w') as f:\n",
    "    writer = csv.writer(f, dialect='excel')\n",
    "    for index,file in news_advex.iterrows():\n",
    "        press=file[0][:6]+'0'+file[0][8:]+\".txt\"\n",
    "        newsarticle=file[0][:6]+'0'+file[0][8:]+\"_\"+file[1]+\".txt\"\n",
    "        i=i+1\n",
    "        docvec = d2v_model.docvecs[press]#if string tag used in training\n",
    "        docvec1= d2v_model.docvecs[newsarticle]\n",
    "        sim=cosine_similarity(docvec,docvec1)[0][0]\n",
    "        writer.writerow([press,newsarticle,1,sim])\n",
    "\n",
    "\n",
    "with open(r\"C:\\Users\\PUSHPENDRA\\Desktop\\Acads\\Autumn 2017-18\\snlp\\open data\\cosine_Advice_exaggeration.csv\",'a') as f:\n",
    "    writer = csv.writer(f, dialect='excel')\n",
    "    for index,file in news_advnonex.iterrows():\n",
    "\n",
    "        press=file[0][:6]+'0'+file[0][8:]+\".txt\"\n",
    "        newsarticle=file[0][:6]+'0'+file[0][8:]+\"_\"+file[1]+\".txt\"\n",
    "        docvec = d2v_model.docvecs[press]#if string tag used in training\n",
    "        docvec1= d2v_model.docvecs[newsarticle]\n",
    "        sim=cosine_similarity(docvec,docvec1)[0][0]\n",
    "        writer.writerow([press,newsarticle,0,sim])"
   ]
  },
  {
   "cell_type": "markdown",
   "metadata": {},
   "source": [
    "#### Cosine Similarity for Sample exaggerated and Non exagerated"
   ]
  },
  {
   "cell_type": "code",
   "execution_count": null,
   "metadata": {
    "collapsed": true
   },
   "outputs": [],
   "source": [
    "news_sampex=news[news['Sample']==1]\n",
    "news_sampnonex=news[news['Sample']!=1]\n",
    "\n",
    "i=0\n",
    "with open(r\"C:\\Users\\PUSHPENDRA\\Desktop\\Acads\\Autumn 2017-18\\snlp\\open data\\cosine_Sample_exaggeration.csv\",'w') as f:\n",
    "    writer = csv.writer(f, dialect='excel')\n",
    "    for index,file in news_sampex.iterrows():\n",
    "        press=file[0][:6]+'0'+file[0][8:]+\".txt\"\n",
    "        newsarticle=file[0][:6]+'0'+file[0][8:]+\"_\"+file[1]+\".txt\"\n",
    "        i=i+1\n",
    "        docvec = d2v_model.docvecs[press]#if string tag used in training\n",
    "        docvec1= d2v_model.docvecs[newsarticle]\n",
    "        sim=cosine_similarity(docvec,docvec1)[0][0]\n",
    "        writer.writerow([press,newsarticle,1,sim])\n",
    "\n",
    "\n",
    "with open(r\"C:\\Users\\PUSHPENDRA\\Desktop\\Acads\\Autumn 2017-18\\snlp\\open data\\cosine_Sample_exaggeration.csv\",'a') as f:\n",
    "    writer = csv.writer(f, dialect='excel')\n",
    "    for index,file in news_sampnonex.iterrows():\n",
    "\n",
    "        press=file[0][:6]+'0'+file[0][8:]+\".txt\"\n",
    "        newsarticle=file[0][:6]+'0'+file[0][8:]+\"_\"+file[1]+\".txt\"\n",
    "        docvec = d2v_model.docvecs[press]#if string tag used in training\n",
    "        docvec1= d2v_model.docvecs[newsarticle]\n",
    "        sim=cosine_similarity(docvec,docvec1)[0][0]\n",
    "        writer.writerow([press,newsarticle,0,sim])"
   ]
  },
  {
   "cell_type": "code",
   "execution_count": 103,
   "metadata": {
    "collapsed": false
   },
   "outputs": [
    {
     "data": {
      "image/png": "[encoded data removed]",
      "text/plain": [
       "<matplotlib.figure.Figure at 0x1c8d8755080>"
      ]
     },
     "metadata": {},
     "output_type": "display_data"
    }
   ],
   "source": [
    "import numpy as np\n",
    "import matplotlib.pyplot as plt\n",
    "import pandas as pd\n",
    "import seaborn as sns\n",
    "\n",
    "data = pd.read_csv(r\"C:\\Users\\PUSHPENDRA\\Desktop\\Acads\\Autumn 2017-18\\snlp\\open data\\cosine.csv\",dtype=float,usecols=(3,)) #loading 4th column of csv file into array named data. \n",
    "\n",
    "fig, ax = plt.subplots(figsize=(10,10),sharey=True)\n",
    "new=data['Cosine Similarity'][:336]\n",
    "new_nonex=data['Cosine Similarity'][336:][data['Cosine Similarity']>0]\n",
    "sns.distplot(new, hist_kws=dict(edgecolor=\"k\", linewidth=2),label=\"Exaggerated\")\n",
    "sns.distplot(new_nonex, hist_kws=dict(edgecolor=\"g\", linewidth=2),label=\"Non-Exaggerated\")\n",
    "plt.savefig(r'C:\\Users\\PUSHPENDRA\\Desktop\\Acads\\Autumn 2017-18\\snlp\\open data\\Cosine.jpg')\n",
    "plt.show()"
   ]
  },
  {
   "cell_type": "code",
   "execution_count": 104,
   "metadata": {
    "collapsed": false
   },
   "outputs": [
    {
     "data": {
      "image/png": "[encoded data removed]",
      "text/plain": [
       "<matplotlib.figure.Figure at 0x1c8d8b92208>"
      ]
     },
     "metadata": {},
     "output_type": "display_data"
    }
   ],
   "source": [
    "import numpy as np\n",
    "import matplotlib.pyplot as plt\n",
    "import pandas as pd\n",
    "import seaborn as sns\n",
    "\n",
    "data = pd.read_csv(r\"C:\\Users\\PUSHPENDRA\\Desktop\\Acads\\Autumn 2017-18\\snlp\\open data\\cosine_Advice_exaggeration.csv\") #loading 4th column of csv file into array named data. \n",
    "\n",
    "fig, ax = plt.subplots(figsize=(10,10),sharey=True)\n",
    "new=data['Cosine Similarity'][data['Advice_Exaggeration']==1]\n",
    "\n",
    "new_nonex=data['Cosine Similarity'][data['Advice_Exaggeration']==0]\n",
    "sns.distplot(new, hist_kws=dict(edgecolor=\"k\", linewidth=2),label=\"Exaggerated\")\n",
    "sns.distplot(new_nonex, hist_kws=dict(edgecolor=\"g\", linewidth=2),label=\"Non-Exaggerated\")\n",
    "plt.savefig(r'C:\\Users\\PUSHPENDRA\\Desktop\\Acads\\Autumn 2017-18\\snlp\\open data\\Cosine_Advice_Exaggeration.jpg')\n",
    "plt.show()"
   ]
  },
  {
   "cell_type": "code",
   "execution_count": 107,
   "metadata": {
    "collapsed": false
   },
   "outputs": [
    {
     "data": {
      "image/png": "[encoded data removed]",
      "text/plain": [
       "<matplotlib.figure.Figure at 0x1c8d8b92c50>"
      ]
     },
     "metadata": {},
     "output_type": "display_data"
    }
   ],
   "source": [
    "import numpy as np\n",
    "import matplotlib.pyplot as plt\n",
    "import pandas as pd\n",
    "import seaborn as sns\n",
    "\n",
    "data = pd.read_csv(r\"C:\\Users\\PUSHPENDRA\\Desktop\\Acads\\Autumn 2017-18\\snlp\\open data\\cosine_FSexaggeration.csv\") #loading 4th column of csv file into array named data. \n",
    "\n",
    "fig, ax = plt.subplots(figsize=(10,10),sharey=True)\n",
    "new=data['Cosine Similarity'][data['FS_exaggeration']==1]\n",
    "\n",
    "new_nonex=data['Cosine Similarity'][data['FS_exaggeration']==0]\n",
    "sns.distplot(new, hist_kws=dict(edgecolor=\"k\", linewidth=2),label=\"Exaggerated\")\n",
    "sns.distplot(new_nonex, hist_kws=dict(edgecolor=\"g\", linewidth=2),label=\"Non-Exaggerated\")\n",
    "plt.savefig(r'C:\\Users\\PUSHPENDRA\\Desktop\\Acads\\Autumn 2017-18\\snlp\\open data\\Cosine_FSexaggeration.jpg')\n",
    "plt.show()"
   ]
  },
  {
   "cell_type": "code",
   "execution_count": 110,
   "metadata": {
    "collapsed": false
   },
   "outputs": [
    {
     "data": {
      "image/png": "[encoded data removed]",
      "text/plain": [
       "<matplotlib.figure.Figure at 0x1c8d8ce7780>"
      ]
     },
     "metadata": {},
     "output_type": "display_data"
    }
   ],
   "source": [
    "import numpy as np\n",
    "import matplotlib.pyplot as plt\n",
    "import pandas as pd\n",
    "import seaborn as sns\n",
    "\n",
    "data = pd.read_csv(r\"C:\\Users\\PUSHPENDRA\\Desktop\\Acads\\Autumn 2017-18\\snlp\\open data\\cosine_Sample_exaggeration.csv\") #loading 4th column of csv file into array named data. \n",
    "\n",
    "fig, ax = plt.subplots(figsize=(10,10),sharey=True)\n",
    "new=data['Cosine Similarity'][data['Sample_exaggeration']==1]\n",
    "\n",
    "new_nonex=data['Cosine Similarity'][data['Sample_exaggeration']==0]\n",
    "sns.distplot(new, hist_kws=dict(edgecolor=\"k\", linewidth=2),label=\"Exaggerated\")\n",
    "sns.distplot(new_nonex, hist_kws=dict(edgecolor=\"g\", linewidth=2),label=\"Non-Exaggerated\")\n",
    "plt.savefig(r'C:\\Users\\PUSHPENDRA\\Desktop\\Acads\\Autumn 2017-18\\snlp\\open data\\Cosine_Sample_exaggeration.jpg')\n",
    "plt.show()"
   ]
  },
  {
   "cell_type": "markdown",
   "metadata": {},
   "source": [
    "#### Analyzing other datsets"
   ]
  },
  {
   "cell_type": "code",
   "execution_count": 131,
   "metadata": {
    "collapsed": false
   },
   "outputs": [],
   "source": [
    "token='EAAVFiIe3NUIBAGTwdFm5n56QJzILX7Yvr7KR8GkTnn53biGzcr5EwtCeiA7nGaFRtRr6IVBrOZCei1bmU4YYgtlm1TebukrqOh9T8D7ryK4womGVMEShGuYy7dlnXhNCqGKOKfiuuNromVir0yeIVUv5AF7hNdOZAmUZALDgZBQKMm6UHMvmUVDFx603aWiVCPAJZBwY2dwZDZD'"
   ]
  },
  {
   "cell_type": "code",
   "execution_count": 132,
   "metadata": {
    "collapsed": false
   },
   "outputs": [
    {
     "name": "stdout",
     "output_type": "stream",
     "text": [
      "ABC News Politics shared Good Morning America's video.\n"
     ]
    }
   ],
   "source": [
    "import urllib3\n",
    "import facebook\n",
    "\n",
    "graph = facebook.GraphAPI(access_token=token, version=2.10)\n",
    "post = graph.get_object(id='184096565021911_1035057923259100', fields='story')\n",
    "print(post['story'])\n"
   ]
  },
  {
   "cell_type": "markdown",
   "metadata": {},
   "source": [
    "## Running Machine Learning Algorithms on input features as doc vectors"
   ]
  },
  {
   "cell_type": "code",
   "execution_count": 25,
   "metadata": {
    "collapsed": false
   },
   "outputs": [],
   "source": [
    "import pandas as pd \n",
    "import numpy as np\n",
    "import csv\n",
    "from sklearn.linear_model import LogisticRegression as logreg\n",
    "from sklearn import metrics\n",
    "news=pd.read_csv(r\"C:\\Users\\PUSHPENDRA\\Desktop\\Acads\\Autumn 2017-18\\snlp\\open data\\Exaggeration_new.csv\")\n",
    "d2v_model = gensim.models.doc2vec.Doc2Vec.load('doc2vec.model')\n",
    "i=0\n",
    "feature=np.zeros(shape=(652,300))\n",
    "feature_all=np.zeros(shape=(652,600))\n",
    "for index,file in news.iterrows():\n",
    "        press=file[0][:6]+'0'+file[0][8:]+\".txt\"\n",
    "        newsarticle=file[0][:6]+'0'+file[0][8:]+\"_\"+file[1]+\".txt\"\n",
    "       \n",
    "        docvec = d2v_model.docvecs[press]#if string tag used in training\n",
    "        docvec1= d2v_model.docvecs[newsarticle]\n",
    "        tot=np.concatenate((docvec,docvec1))\n",
    "        feature[i]=docvec1.T\n",
    "        feature_all[i]=tot.T\n",
    "    \n",
    "        \n",
    "        \n",
    "        i=i+1\n",
    "\n",
    "feature_df=pd.DataFrame(feature)\n",
    "feature_all_df=pd.DataFrame(feature_all)\n",
    "feature_df.to_csv(r\"C:\\Users\\PUSHPENDRA\\Desktop\\Acads\\Autumn 2017-18\\snlp\\open data\\feature.csv\")\n",
    "feature_all_df.to_csv(r\"C:\\Users\\PUSHPENDRA\\Desktop\\Acads\\Autumn 2017-18\\snlp\\open data\\feature_all.csv\")"
   ]
  },
  {
   "cell_type": "code",
   "execution_count": 26,
   "metadata": {
    "collapsed": false
   },
   "outputs": [
    {
     "name": "stdout",
     "output_type": "stream",
     "text": [
      "[ -5.87624252e-01  -1.24810982e+00  -3.80648345e-01   1.43174386e+00\n",
      "  -1.02823436e+00   5.04723668e-01  -2.22158027e+00   6.21829629e-01\n",
      "   1.89199492e-01  -1.34718406e+00  -3.47852260e-01   6.14132762e-01\n",
      "  -2.01317596e+00   7.43881643e-01   6.74505293e-01  -4.52624917e-01\n",
      "  -9.68875051e-01  -8.48520279e-01   8.07033405e-02  -1.00910544e+00\n",
      "  -3.30144405e-01  -1.29717076e+00   2.60563517e+00   9.33609009e-01\n",
      "  -2.86031151e+00   9.94192302e-01  -7.70316184e-01  -7.68248260e-01\n",
      "  -2.62049168e-01  -2.62143898e+00   9.79904294e-01  -1.31102562e+00\n",
      "  -2.32445657e-01  -6.93344712e-01   1.86231405e-01  -1.67043734e+00\n",
      "  -1.63447487e+00  -1.18591642e+00   2.16381693e+00  -1.04858327e+00\n",
      "   8.16839218e-01   6.92717582e-02  -6.97775841e-01   1.01728868e+00\n",
      "  -3.25492954e+00   5.47282577e-01  -7.49145091e-01   3.37777197e-01\n",
      "  -6.91581547e-01   7.23083198e-01   3.13893050e-01   6.96843386e-01\n",
      "   2.05566660e-01   2.08569431e+00  -9.99843180e-02   1.58859771e-02\n",
      "   5.70059754e-02   3.44743788e-01   1.24025226e-01  -2.33978128e+00\n",
      "  -1.79895908e-01  -5.01446724e-01   6.73581898e-01  -1.59639716e+00\n",
      "  -7.37091601e-01  -8.18599045e-01  -1.78988409e+00   7.30046391e-01\n",
      "   6.59050882e-01   2.68183768e-01   1.65116519e-01  -2.32588935e+00\n",
      "  -6.14379108e-01  -8.03883016e-01  -1.14563704e+00  -1.79658622e-01\n",
      "  -5.72019339e-01  -2.01684022e+00  -6.87264949e-02   7.59463608e-01\n",
      "   1.58268952e+00  -2.37545419e+00  -4.79641140e-01  -1.43672550e+00\n",
      "   2.19845474e-01   2.04211497e+00  -2.16771469e-01   1.09934485e+00\n",
      "   9.42107618e-01  -1.24746513e+00  -1.16630375e+00  -7.31682241e-01\n",
      "  -1.13193683e-01  -1.30765557e-01   4.59635556e-01   3.74345213e-01\n",
      "  -4.10519809e-01  -1.77124429e+00   1.15343904e+00   1.40749693e+00\n",
      "   1.17059433e+00  -1.27390534e-01   7.22406983e-01   3.96819524e-02\n",
      "  -7.96676278e-01   2.79269218e-01   4.39000428e-01   3.96064937e-01\n",
      "   8.01116899e-02   3.10297513e+00   1.54199421e+00  -8.11937213e-01\n",
      "  -9.51399684e-01  -1.73938298e+00   9.15023983e-01  -3.24558020e-02\n",
      "   1.77202284e-01  -8.54591966e-01  -1.72539011e-01   2.61953354e-01\n",
      "  -1.86561453e+00   1.47837019e+00  -6.55765310e-02   6.20346308e-01\n",
      "   2.36192155e+00  -3.18450421e-01  -5.04322588e-01   2.90380120e-01\n",
      "  -9.89183486e-01   1.70833397e+00  -8.11848760e-01   1.20096958e+00\n",
      "   1.11516178e+00  -2.45328695e-01   1.40350544e+00  -2.71519665e-02\n",
      "   5.93189932e-02  -1.98351592e-01  -4.71652672e-02   2.98944235e-01\n",
      "   9.70527411e-01   5.41632533e-01   4.79449749e-01  -1.69661474e+00\n",
      "   1.51130354e+00   1.12593138e+00   2.25775242e-01   9.12591696e-01\n",
      "  -2.08453655e-01  -7.78127968e-01   1.77073872e+00  -1.39891133e-01\n",
      "  -1.45363897e-01  -3.01070476e+00   1.12028293e-01  -9.94495630e-01\n",
      "  -7.07000308e-03   3.63459080e-01  -7.38863707e-01   2.08105147e-01\n",
      "  -2.83146352e-01   8.57646316e-02  -8.79670203e-01  -7.46311009e-01\n",
      "   5.63021600e-01   7.89586663e-01  -3.90269071e-01   2.36426875e-01\n",
      "   9.74044502e-01   3.22260141e-01  -1.45048010e+00  -9.24237594e-02\n",
      "  -3.90433520e-01  -1.48390794e+00  -3.26314211e-01  -2.63092928e-02\n",
      "  -1.06048000e+00   1.02510536e+00  -8.29575956e-01  -1.28154218e+00\n",
      "   1.15959489e+00   1.34197354e-01  -4.49919462e-01   1.26378477e-01\n",
      "   6.29517734e-01  -2.28952885e+00   1.12648055e-01  -7.38485396e-01\n",
      "  -7.39963710e-01  -1.57114065e+00  -1.88252985e+00   9.65059161e-01\n",
      "   1.99996877e+00  -1.32547486e+00   1.18273437e+00  -6.23457074e-01\n",
      "  -9.97888669e-02   1.08658779e+00  -2.69487888e-01   4.47330236e-01\n",
      "  -6.54101372e-01   1.08735752e+00  -6.62198007e-01  -2.62399495e-01\n",
      "  -3.01586777e-01  -2.04046801e-01   4.61519629e-01  -3.74005556e-01\n",
      "   1.03700972e+00  -1.75122201e+00  -1.20692205e+00   3.02698791e-01\n",
      "  -1.51441127e-01  -5.89327291e-02   5.59265167e-02   2.60549545e+00\n",
      "   5.43792248e-01   1.67183995e+00   1.90259337e-01  -1.07069016e+00\n",
      "  -1.03231084e+00   5.15415549e-01  -1.18652666e+00  -8.57128561e-01\n",
      "   1.04237449e+00   1.70514691e+00   4.83142585e-01   8.21424961e-01\n",
      "   1.32672310e-01   7.05169320e-01   8.47029209e-01  -1.90735054e+00\n",
      "  -5.06277680e-01  -3.62703294e-01  -1.32282710e+00   4.08092290e-01\n",
      "   3.67078096e-01  -4.37900007e-01  -2.76144505e-01  -4.48435605e-01\n",
      "  -6.04172349e-01   1.29838216e+00   8.19837928e-01  -7.19970942e-01\n",
      "  -1.03695869e+00   1.41943300e+00   2.25888801e+00   7.54203558e-01\n",
      "   1.12992942e+00  -2.94321746e-01  -6.23518461e-03   1.25722837e+00\n",
      "   5.20910621e-01   1.18504189e-01  -4.53449279e-01   1.71023309e-01\n",
      "  -3.91582549e-01  -1.76575884e-01  -1.04959595e+00  -2.20078483e-01\n",
      "  -8.96615326e-01  -6.47387028e-01  -3.07780821e-02   6.55921340e-01\n",
      "  -6.50534451e-01  -5.06292462e-01   5.40048599e-01  -2.46257514e-01\n",
      "   1.97579995e-01  -1.81346810e+00  -1.41040370e-01  -1.46827352e+00\n",
      "  -2.54986376e-01   1.29277754e+00  -2.46523881e+00  -4.15321529e-01\n",
      "  -1.33023846e+00   1.07591428e-01   1.43194234e+00   2.57444954e+00\n",
      "  -1.01719379e-01   2.16286972e-01   9.61989999e-01   7.55394936e-01\n",
      "  -6.33888066e-01   2.09280801e+00  -7.50126421e-01  -1.18983120e-01\n",
      "   2.81480908e-01   6.93942189e-01  -1.40248370e+00   9.43291634e-02\n",
      "   1.51036486e-01   2.42940292e-01   2.37736455e-03  -1.90807974e+00\n",
      "   3.35405558e-01   1.61597228e+00  -1.32972062e-01   8.37839663e-01]\n"
     ]
    }
   ],
   "source": [
    "print(feature[0])"
   ]
  },
  {
   "cell_type": "markdown",
   "metadata": {},
   "source": [
    "### Logistic regression on feature vectors"
   ]
  },
  {
   "cell_type": "code",
   "execution_count": 27,
   "metadata": {
    "collapsed": false
   },
   "outputs": [
    {
     "name": "stdout",
     "output_type": "stream",
     "text": [
      "Accuracy: \n",
      "0.766169154229\n",
      "\n",
      "classification_report :\n",
      "             precision    recall  f1-score   support\n",
      "\n",
      "          0       0.85      0.86      0.86       161\n",
      "          1       0.41      0.38      0.39        40\n",
      "\n",
      "avg / total       0.76      0.77      0.76       201\n",
      "\n"
     ]
    }
   ],
   "source": [
    "dat=pd.read_csv(r\"C:\\Users\\PUSHPENDRA\\Desktop\\Acads\\Autumn 2017-18\\snlp\\open data\\Exaggeration_new.csv\")\n",
    "\n",
    "model=logreg()\n",
    "FS=dat['Advice'][:450]\n",
    "model.fit(feature[:450],FS)\n",
    "preds =model.predict(X=feature[451:])\n",
    "pd.crosstab(preds,dat['Advice'][451:])\n",
    "print(\"Accuracy: \")\n",
    "print(model.score(feature[451:],dat['Advice'][451:]))\n",
    "print()\n",
    "print(\"classification_report :\")\n",
    "print( metrics.classification_report(y_true=dat['Advice'][451:],y_pred=preds) )\n"
   ]
  },
  {
   "cell_type": "code",
   "execution_count": 7,
   "metadata": {
    "collapsed": false,
    "scrolled": true
   },
   "outputs": [
    {
     "name": "stdout",
     "output_type": "stream",
     "text": [
      "Accuracy: \n",
      "0.706467661692\n",
      "\n",
      "classification_report :\n",
      "             precision    recall  f1-score   support\n",
      "\n",
      "          0       0.82      0.78      0.80       149\n",
      "          1       0.44      0.50      0.47        52\n",
      "\n",
      "avg / total       0.72      0.71      0.71       201\n",
      "\n"
     ]
    }
   ],
   "source": [
    "dat=dat=pd.read_csv(r\"C:\\Users\\PUSHPENDRA\\Desktop\\Acads\\Autumn 2017-18\\snlp\\open data\\Exaggeration_new.csv\")\n",
    "\n",
    "model=logreg()\n",
    "FS=dat['FS'][:450]\n",
    "model.fit(feature[:450],FS)\n",
    "preds =model.predict(X=feature[451:])\n",
    "pd.crosstab(preds,dat['FS'][451:])\n",
    "print(\"Accuracy: \")\n",
    "print(model.score(feature[451:],dat['FS'][451:]))\n",
    "print\n",
    "print(\"classification_report :\")\n",
    "print( metrics.classification_report(y_true=dat['FS'][451:],y_pred=preds) )"
   ]
  },
  {
   "cell_type": "code",
   "execution_count": 8,
   "metadata": {
    "collapsed": false
   },
   "outputs": [
    {
     "name": "stdout",
     "output_type": "stream",
     "text": [
      "Accuracy: \n",
      "0.870646766169\n",
      "\n",
      "classification_report :\n",
      "             precision    recall  f1-score   support\n",
      "\n",
      "          0       0.91      0.94      0.93       172\n",
      "          1       0.57      0.45      0.50        29\n",
      "\n",
      "avg / total       0.86      0.87      0.86       201\n",
      "\n"
     ]
    }
   ],
   "source": [
    "dat=dat=pd.read_csv(r\"C:\\Users\\PUSHPENDRA\\Desktop\\Acads\\Autumn 2017-18\\snlp\\open data\\Exaggeration_new.csv\")\n",
    "\n",
    "model=logreg()\n",
    "FS=dat['Sample'][:450]\n",
    "model.fit(feature[:450],FS)\n",
    "preds =model.predict(X=feature[451:])\n",
    "pd.crosstab(preds,dat['Sample'][451:])\n",
    "print(\"Accuracy: \")\n",
    "print(model.score(feature[451:],dat['Sample'][451:]))\n",
    "print()\n",
    "print(\"classification_report :\")\n",
    "print( metrics.classification_report(y_true=dat['Sample'][451:],y_pred=preds) )"
   ]
  },
  {
   "cell_type": "code",
   "execution_count": 35,
   "metadata": {
    "collapsed": false
   },
   "outputs": [
    {
     "name": "stdout",
     "output_type": "stream",
     "text": [
      "Accuracy: \n",
      "0.592039800995\n",
      "\n",
      "classification_report :\n",
      "             precision    recall  f1-score   support\n",
      "\n",
      "          0       0.60      0.56      0.58       101\n",
      "          1       0.58      0.62      0.60       100\n",
      "\n",
      "avg / total       0.59      0.59      0.59       201\n",
      "\n"
     ]
    }
   ],
   "source": [
    "dat=pd.read_csv(r\"C:\\Users\\PUSHPENDRA\\Desktop\\Acads\\Autumn 2017-18\\snlp\\open data\\Exaggeration_new.csv\")\n",
    "\n",
    "model=logreg()\n",
    "FS=dat['Exaggeration'][:450]\n",
    "model.fit(feature[:450],FS)\n",
    "preds =model.predict(X=feature[451:])\n",
    "pd.crosstab(preds,dat['Exaggeration'][451:])\n",
    "print(\"Accuracy: \")\n",
    "print(model.score(feature[451:],dat['Exaggeration'][451:]))\n",
    "print()\n",
    "print(\"classification_report :\")\n",
    "print( metrics.classification_report(y_true=dat['Exaggeration'][451:],y_pred=preds) )"
   ]
  },
  {
   "cell_type": "markdown",
   "metadata": {},
   "source": [
    "##### Considering press + newsarticle"
   ]
  },
  {
   "cell_type": "code",
   "execution_count": 10,
   "metadata": {
    "collapsed": false
   },
   "outputs": [
    {
     "name": "stdout",
     "output_type": "stream",
     "text": [
      "Accuracy: \n",
      "0.810945273632\n",
      "\n",
      "classification_report :\n",
      "             precision    recall  f1-score   support\n",
      "\n",
      "          0       0.87      0.90      0.88       161\n",
      "          1       0.53      0.45      0.49        40\n",
      "\n",
      "avg / total       0.80      0.81      0.81       201\n",
      "\n"
     ]
    }
   ],
   "source": [
    "model=logreg()\n",
    "FS=dat['Advice'][:450]\n",
    "model.fit(feature_all[:450],FS)\n",
    "preds =model.predict(X=feature_all[451:])\n",
    "pd.crosstab(preds,dat['Advice'][451:])\n",
    "print(\"Accuracy: \")\n",
    "print(model.score(feature_all[451:],dat['Advice'][451:]))\n",
    "print()\n",
    "print(\"classification_report :\")\n",
    "print( metrics.classification_report(y_true=dat['Advice'][451:],y_pred=preds) )"
   ]
  },
  {
   "cell_type": "code",
   "execution_count": 11,
   "metadata": {
    "collapsed": false
   },
   "outputs": [
    {
     "name": "stdout",
     "output_type": "stream",
     "text": [
      "Accuracy: \n",
      "0.825870646766\n",
      "\n",
      "classification_report :\n",
      "             precision    recall  f1-score   support\n",
      "\n",
      "          0       0.86      0.92      0.89       149\n",
      "          1       0.71      0.56      0.62        52\n",
      "\n",
      "avg / total       0.82      0.83      0.82       201\n",
      "\n"
     ]
    }
   ],
   "source": [
    "model=logreg()\n",
    "FS=dat['FS'][:450]\n",
    "model.fit(feature_all[:450],FS)\n",
    "preds =model.predict(X=feature_all[451:])\n",
    "pd.crosstab(preds,dat['FS'][451:])\n",
    "print(\"Accuracy: \")\n",
    "print(model.score(feature_all[451:],dat['FS'][451:]))\n",
    "print()\n",
    "print(\"classification_report :\")\n",
    "print( metrics.classification_report(y_true=dat['FS'][451:],y_pred=preds) )"
   ]
  },
  {
   "cell_type": "code",
   "execution_count": 12,
   "metadata": {
    "collapsed": false
   },
   "outputs": [
    {
     "name": "stdout",
     "output_type": "stream",
     "text": [
      "Accuracy: \n",
      "0.940298507463\n",
      "\n",
      "classification_report :\n",
      "             precision    recall  f1-score   support\n",
      "\n",
      "          0       0.96      0.97      0.97       172\n",
      "          1       0.81      0.76      0.79        29\n",
      "\n",
      "avg / total       0.94      0.94      0.94       201\n",
      "\n"
     ]
    }
   ],
   "source": [
    "model=logreg()\n",
    "FS=dat['Sample'][:450]\n",
    "model.fit(feature_all[:450],FS)\n",
    "preds =model.predict(X=feature_all[451:])\n",
    "pd.crosstab(preds,dat['Sample'][451:])\n",
    "print(\"Accuracy: \")\n",
    "print(model.score(feature_all[451:],dat['Sample'][451:]))\n",
    "print()\n",
    "print(\"classification_report :\")\n",
    "print( metrics.classification_report(y_true=dat['Sample'][451:],y_pred=preds) )"
   ]
  },
  {
   "cell_type": "code",
   "execution_count": 13,
   "metadata": {
    "collapsed": false
   },
   "outputs": [
    {
     "name": "stdout",
     "output_type": "stream",
     "text": [
      "Accuracy: \n",
      "0.71144278607\n",
      "\n",
      "classification_report :\n",
      "             precision    recall  f1-score   support\n",
      "\n",
      "          0       0.71      0.71      0.71       101\n",
      "          1       0.71      0.71      0.71       100\n",
      "\n",
      "avg / total       0.71      0.71      0.71       201\n",
      "\n"
     ]
    }
   ],
   "source": [
    "model=logreg()\n",
    "FS=dat['Exaggeration'][:450]\n",
    "model.fit(feature_all[:450],FS)\n",
    "preds =model.predict(X=feature_all[451:])\n",
    "pd.crosstab(preds,dat['Exaggeration'][451:])\n",
    "print(\"Accuracy: \")\n",
    "print(model.score(feature_all[451:],dat['Exaggeration'][451:]))\n",
    "print()\n",
    "print(\"classification_report :\")\n",
    "print( metrics.classification_report(y_true=dat['Exaggeration'][451:],y_pred=preds) )"
   ]
  },
  {
   "cell_type": "markdown",
   "metadata": {},
   "source": [
    "### Naive Bayes Algorithm on feature set"
   ]
  },
  {
   "cell_type": "code",
   "execution_count": 14,
   "metadata": {
    "collapsed": true
   },
   "outputs": [],
   "source": [
    "from sklearn.naive_bayes import GaussianNB\n",
    "#Create a Gaussian Classifier\n",
    "model = GaussianNB()\n",
    "dat=pd.read_csv(r\"C:\\Users\\PUSHPENDRA\\Desktop\\Acads\\Autumn 2017-18\\snlp\\open data\\Exaggeration_new.csv\")"
   ]
  },
  {
   "cell_type": "code",
   "execution_count": 15,
   "metadata": {
    "collapsed": false
   },
   "outputs": [
    {
     "name": "stdout",
     "output_type": "stream",
     "text": [
      "Accuracy: \n",
      "0.71144278607\n",
      "\n",
      "classification_report :\n",
      "             precision    recall  f1-score   support\n",
      "\n",
      "          0       0.88      0.75      0.81       161\n",
      "          1       0.36      0.57      0.44        40\n",
      "\n",
      "avg / total       0.77      0.71      0.73       201\n",
      "\n"
     ]
    }
   ],
   "source": [
    "FS=dat['Advice'][:450]\n",
    "model.fit(feature[:450],FS)\n",
    "preds =model.predict(X=feature[451:])\n",
    "pd.crosstab(preds,dat['Advice'][451:])\n",
    "print(\"Accuracy: \")\n",
    "print(model.score(feature[451:],dat['Advice'][451:]))\n",
    "print()\n",
    "print(\"classification_report :\")\n",
    "print( metrics.classification_report(y_true=dat['Advice'][451:],y_pred=preds) )"
   ]
  },
  {
   "cell_type": "code",
   "execution_count": 16,
   "metadata": {
    "collapsed": false
   },
   "outputs": [
    {
     "name": "stdout",
     "output_type": "stream",
     "text": [
      "Accuracy: \n",
      "0.721393034826\n",
      "\n",
      "classification_report :\n",
      "             precision    recall  f1-score   support\n",
      "\n",
      "          0       0.83      0.78      0.81       149\n",
      "          1       0.47      0.56      0.51        52\n",
      "\n",
      "avg / total       0.74      0.72      0.73       201\n",
      "\n"
     ]
    }
   ],
   "source": [
    "FS=dat['FS'][:450]\n",
    "model.fit(feature[:450],FS)\n",
    "preds =model.predict(X=feature[451:])\n",
    "pd.crosstab(preds,dat['FS'][451:])\n",
    "print(\"Accuracy: \")\n",
    "print(model.score(feature[451:],dat['FS'][451:]))\n",
    "print()\n",
    "print(\"classification_report :\")\n",
    "print( metrics.classification_report(y_true=dat['FS'][451:],y_pred=preds) )"
   ]
  },
  {
   "cell_type": "code",
   "execution_count": 17,
   "metadata": {
    "collapsed": false,
    "scrolled": true
   },
   "outputs": [
    {
     "name": "stdout",
     "output_type": "stream",
     "text": [
      "Accuracy: \n",
      "0.746268656716\n",
      "\n",
      "classification_report :\n",
      "             precision    recall  f1-score   support\n",
      "\n",
      "          0       0.93      0.76      0.84       172\n",
      "          1       0.32      0.66      0.43        29\n",
      "\n",
      "avg / total       0.84      0.75      0.78       201\n",
      "\n"
     ]
    }
   ],
   "source": [
    "FS=dat['Sample'][:450]\n",
    "model.fit(feature[:450],FS)\n",
    "preds =model.predict(X=feature[451:])\n",
    "pd.crosstab(preds,dat['Sample'][451:])\n",
    "print(\"Accuracy: \")\n",
    "print(model.score(feature[451:],dat['Sample'][451:]))\n",
    "print()\n",
    "print(\"classification_report :\")\n",
    "print( metrics.classification_report(y_true=dat['Sample'][451:],y_pred=preds) )"
   ]
  },
  {
   "cell_type": "code",
   "execution_count": 18,
   "metadata": {
    "collapsed": false
   },
   "outputs": [
    {
     "name": "stdout",
     "output_type": "stream",
     "text": [
      "Accuracy: \n",
      "0.601990049751\n",
      "\n",
      "classification_report :\n",
      "             precision    recall  f1-score   support\n",
      "\n",
      "          0       0.59      0.65      0.62       101\n",
      "          1       0.61      0.55      0.58       100\n",
      "\n",
      "avg / total       0.60      0.60      0.60       201\n",
      "\n"
     ]
    }
   ],
   "source": [
    "FS=dat['Exaggeration'][:450]\n",
    "model.fit(feature[:450],FS)\n",
    "preds =model.predict(X=feature[451:])\n",
    "pd.crosstab(preds,dat['Exaggeration'][451:])\n",
    "print(\"Accuracy: \")\n",
    "print(model.score(feature[451:],dat['Exaggeration'][451:]))\n",
    "print()\n",
    "print(\"classification_report :\")\n",
    "print( metrics.classification_report(y_true=dat['Exaggeration'][451:],y_pred=preds) )"
   ]
  },
  {
   "cell_type": "markdown",
   "metadata": {},
   "source": [
    "##### Considerng news article and press vector both"
   ]
  },
  {
   "cell_type": "code",
   "execution_count": 19,
   "metadata": {
    "collapsed": false
   },
   "outputs": [
    {
     "name": "stdout",
     "output_type": "stream",
     "text": [
      "Accuracy: \n",
      "0.786069651741\n",
      "\n",
      "classification_report :\n",
      "             precision    recall  f1-score   support\n",
      "\n",
      "          0       0.90      0.83      0.86       161\n",
      "          1       0.47      0.62      0.54        40\n",
      "\n",
      "avg / total       0.81      0.79      0.80       201\n",
      "\n"
     ]
    }
   ],
   "source": [
    "FS=dat['Advice'][:450]\n",
    "model.fit(feature_all[:450],FS)\n",
    "preds =model.predict(X=feature_all[451:])\n",
    "pd.crosstab(preds,dat['Advice'][451:])\n",
    "print(\"Accuracy: \")\n",
    "print(model.score(feature_all[451:],dat['Advice'][451:]))\n",
    "print()\n",
    "print(\"classification_report :\")\n",
    "print( metrics.classification_report(y_true=dat['Advice'][451:],y_pred=preds) )"
   ]
  },
  {
   "cell_type": "code",
   "execution_count": 20,
   "metadata": {
    "collapsed": false
   },
   "outputs": [
    {
     "name": "stdout",
     "output_type": "stream",
     "text": [
      "Accuracy: \n",
      "0.800995024876\n",
      "\n",
      "classification_report :\n",
      "             precision    recall  f1-score   support\n",
      "\n",
      "          0       0.85      0.89      0.87       149\n",
      "          1       0.63      0.56      0.59        52\n",
      "\n",
      "avg / total       0.79      0.80      0.80       201\n",
      "\n"
     ]
    }
   ],
   "source": [
    "FS=dat['FS'][:450]\n",
    "model.fit(feature_all[:450],FS)\n",
    "preds =model.predict(X=feature_all[451:])\n",
    "pd.crosstab(preds,dat['FS'][451:])\n",
    "print(\"Accuracy: \")\n",
    "print(model.score(feature_all[451:],dat['FS'][451:]))\n",
    "print()\n",
    "print(\"classification_report :\")\n",
    "print( metrics.classification_report(y_true=dat['FS'][451:],y_pred=preds) )"
   ]
  },
  {
   "cell_type": "code",
   "execution_count": 21,
   "metadata": {
    "collapsed": false
   },
   "outputs": [
    {
     "name": "stdout",
     "output_type": "stream",
     "text": [
      "Accuracy: \n",
      "0.880597014925\n",
      "\n",
      "classification_report :\n",
      "             precision    recall  f1-score   support\n",
      "\n",
      "          0       0.99      0.87      0.93       172\n",
      "          1       0.55      0.93      0.69        29\n",
      "\n",
      "avg / total       0.92      0.88      0.89       201\n",
      "\n"
     ]
    }
   ],
   "source": [
    "FS=dat['Sample'][:450]\n",
    "model.fit(feature_all[:450],FS)\n",
    "preds =model.predict(X=feature_all[451:])\n",
    "pd.crosstab(preds,dat['Sample'][451:])\n",
    "print(\"Accuracy: \")\n",
    "print(model.score(feature_all[451:],dat['Sample'][451:]))\n",
    "print()\n",
    "print(\"classification_report :\")\n",
    "print( metrics.classification_report(y_true=dat['Sample'][451:],y_pred=preds) )"
   ]
  },
  {
   "cell_type": "code",
   "execution_count": 22,
   "metadata": {
    "collapsed": false
   },
   "outputs": [
    {
     "name": "stdout",
     "output_type": "stream",
     "text": [
      "Accuracy: \n",
      "0.661691542289\n",
      "\n",
      "classification_report :\n",
      "             precision    recall  f1-score   support\n",
      "\n",
      "          0       0.65      0.69      0.67       101\n",
      "          1       0.67      0.63      0.65       100\n",
      "\n",
      "avg / total       0.66      0.66      0.66       201\n",
      "\n"
     ]
    }
   ],
   "source": [
    "FS=dat['Exaggeration'][:450]\n",
    "model.fit(feature_all[:450],FS)\n",
    "preds =model.predict(X=feature_all[451:])\n",
    "pd.crosstab(preds,dat['Exaggeration'][451:])\n",
    "print(\"Accuracy: \")\n",
    "print(model.score(feature_all[451:],dat['Exaggeration'][451:]))\n",
    "print()\n",
    "print(\"classification_report :\")\n",
    "print( metrics.classification_report(y_true=dat['Exaggeration'][451:],y_pred=preds) )"
   ]
  },
  {
   "cell_type": "markdown",
   "metadata": {},
   "source": [
    "### Random Forest Algorithm"
   ]
  },
  {
   "cell_type": "code",
   "execution_count": 23,
   "metadata": {
    "collapsed": false
   },
   "outputs": [],
   "source": [
    "from sklearn.ensemble import RandomForestClassifier\n",
    "model=RandomForestClassifier(max_depth=2, random_state=0)\n",
    "dat=pd.read_csv(r\"C:\\Users\\PUSHPENDRA\\Desktop\\Acads\\Autumn 2017-18\\snlp\\open data\\Exaggeration_new.csv\")"
   ]
  },
  {
   "cell_type": "code",
   "execution_count": 24,
   "metadata": {
    "collapsed": false
   },
   "outputs": [
    {
     "name": "stdout",
     "output_type": "stream",
     "text": [
      "Accuracy: \n",
      "0.805970149254\n",
      "\n",
      "classification_report :\n",
      "             precision    recall  f1-score   support\n",
      "\n",
      "          0       0.81      1.00      0.89       161\n",
      "          1       1.00      0.03      0.05        40\n",
      "\n",
      "avg / total       0.84      0.81      0.72       201\n",
      "\n"
     ]
    }
   ],
   "source": [
    "FS=dat['Advice'][:450]\n",
    "model.fit(feature[:450],FS)\n",
    "preds =model.predict(X=feature[451:])\n",
    "pd.crosstab(preds,dat['Advice'][451:])\n",
    "print(\"Accuracy: \")\n",
    "print(model.score(feature[451:],dat['Advice'][451:]))\n",
    "print()\n",
    "print(\"classification_report :\")\n",
    "print( metrics.classification_report(y_true=dat['Advice'][451:],y_pred=preds) )"
   ]
  },
  {
   "cell_type": "code",
   "execution_count": 25,
   "metadata": {
    "collapsed": false
   },
   "outputs": [
    {
     "name": "stdout",
     "output_type": "stream",
     "text": [
      "Accuracy: \n",
      "0.741293532338\n",
      "\n",
      "classification_report :\n",
      "             precision    recall  f1-score   support\n",
      "\n",
      "          0       0.74      1.00      0.85       149\n",
      "          1       0.00      0.00      0.00        52\n",
      "\n",
      "avg / total       0.55      0.74      0.63       201\n",
      "\n"
     ]
    },
    {
     "name": "stderr",
     "output_type": "stream",
     "text": [
      "C:\\Users\\PUSHPENDRA\\Anaconda3\\lib\\site-packages\\sklearn\\metrics\\classification.py:1135: UndefinedMetricWarning: Precision and F-score are ill-defined and being set to 0.0 in labels with no predicted samples.\n",
      "  'precision', 'predicted', average, warn_for)\n"
     ]
    }
   ],
   "source": [
    "FS=dat['FS'][:450]\n",
    "model.fit(feature[:450],FS)\n",
    "preds =model.predict(X=feature[451:])\n",
    "pd.crosstab(preds,dat['FS'][451:])\n",
    "print(\"Accuracy: \")\n",
    "print(model.score(feature[451:],dat['FS'][451:]))\n",
    "print()\n",
    "print(\"classification_report :\")\n",
    "print( metrics.classification_report(y_true=dat['FS'][451:],y_pred=preds) )"
   ]
  },
  {
   "cell_type": "code",
   "execution_count": 26,
   "metadata": {
    "collapsed": false
   },
   "outputs": [
    {
     "name": "stdout",
     "output_type": "stream",
     "text": [
      "Accuracy: \n",
      "0.855721393035\n",
      "\n",
      "classification_report :\n",
      "             precision    recall  f1-score   support\n",
      "\n",
      "          0       0.86      1.00      0.92       172\n",
      "          1       0.00      0.00      0.00        29\n",
      "\n",
      "avg / total       0.73      0.86      0.79       201\n",
      "\n"
     ]
    },
    {
     "name": "stderr",
     "output_type": "stream",
     "text": [
      "C:\\Users\\PUSHPENDRA\\Anaconda3\\lib\\site-packages\\sklearn\\metrics\\classification.py:1135: UndefinedMetricWarning: Precision and F-score are ill-defined and being set to 0.0 in labels with no predicted samples.\n",
      "  'precision', 'predicted', average, warn_for)\n"
     ]
    }
   ],
   "source": [
    "FS=dat['Sample'][:450]\n",
    "model.fit(feature[:450],FS)\n",
    "preds =model.predict(X=feature[451:])\n",
    "pd.crosstab(preds,dat['Sample'][451:])\n",
    "print(\"Accuracy: \")\n",
    "print(model.score(feature[451:],dat['Sample'][451:]))\n",
    "print()\n",
    "print(\"classification_report :\")\n",
    "print( metrics.classification_report(y_true=dat['Sample'][451:],y_pred=preds) )"
   ]
  },
  {
   "cell_type": "code",
   "execution_count": 27,
   "metadata": {
    "collapsed": false
   },
   "outputs": [
    {
     "name": "stdout",
     "output_type": "stream",
     "text": [
      "Accuracy: \n",
      "0.562189054726\n",
      "\n",
      "classification_report :\n",
      "             precision    recall  f1-score   support\n",
      "\n",
      "          0       0.57      0.50      0.53       101\n",
      "          1       0.55      0.63      0.59       100\n",
      "\n",
      "avg / total       0.56      0.56      0.56       201\n",
      "\n"
     ]
    }
   ],
   "source": [
    "FS=dat['Exaggeration'][:450]\n",
    "model.fit(feature[:450],FS)\n",
    "preds =model.predict(X=feature[451:])\n",
    "pd.crosstab(preds,dat['Exaggeration'][451:])\n",
    "print(\"Accuracy: \")\n",
    "print(model.score(feature[451:],dat['Exaggeration'][451:]))\n",
    "print()\n",
    "print(\"classification_report :\")\n",
    "print( metrics.classification_report(y_true=dat['Exaggeration'][451:],y_pred=preds) )"
   ]
  },
  {
   "cell_type": "code",
   "execution_count": 28,
   "metadata": {
    "collapsed": false
   },
   "outputs": [
    {
     "name": "stdout",
     "output_type": "stream",
     "text": [
      "Accuracy: \n",
      "0.805970149254\n",
      "\n",
      "classification_report :\n",
      "             precision    recall  f1-score   support\n",
      "\n",
      "          0       0.81      1.00      0.89       161\n",
      "          1       1.00      0.03      0.05        40\n",
      "\n",
      "avg / total       0.84      0.81      0.72       201\n",
      "\n"
     ]
    }
   ],
   "source": [
    "FS=dat['Advice'][:450]\n",
    "model.fit(feature_all[:450],FS)\n",
    "preds =model.predict(X=feature_all[451:])\n",
    "pd.crosstab(preds,dat['Advice'][451:])\n",
    "print(\"Accuracy: \")\n",
    "\n",
    "print(model.score(feature_all[451:],dat['Advice'][451:]))\n",
    "print()\n",
    "print(\"classification_report :\")\n",
    "print( metrics.classification_report(y_true=dat['Advice'][451:],y_pred=preds) )"
   ]
  },
  {
   "cell_type": "code",
   "execution_count": 29,
   "metadata": {
    "collapsed": false
   },
   "outputs": [
    {
     "name": "stdout",
     "output_type": "stream",
     "text": [
      "Accuracy: \n",
      "0.756218905473\n",
      "\n",
      "classification_report :\n",
      "             precision    recall  f1-score   support\n",
      "\n",
      "          0       0.76      0.97      0.86       149\n",
      "          1       0.64      0.13      0.22        52\n",
      "\n",
      "avg / total       0.73      0.76      0.69       201\n",
      "\n"
     ]
    }
   ],
   "source": [
    "FS=dat['FS'][:450]\n",
    "model.fit(feature_all[:450],FS)\n",
    "preds =model.predict(X=feature_all[451:])\n",
    "pd.crosstab(preds,dat['FS'][451:])\n",
    "print(\"Accuracy: \")\n",
    "print(model.score(feature_all[451:],dat['FS'][451:]))\n",
    "print()\n",
    "print(\"classification_report :\")\n",
    "print( metrics.classification_report(y_true=dat['FS'][451:],y_pred=preds) )"
   ]
  },
  {
   "cell_type": "code",
   "execution_count": 30,
   "metadata": {
    "collapsed": false
   },
   "outputs": [
    {
     "name": "stdout",
     "output_type": "stream",
     "text": [
      "Accuracy: \n",
      "0.855721393035\n",
      "\n",
      "classification_report :\n",
      "             precision    recall  f1-score   support\n",
      "\n",
      "          0       0.86      1.00      0.92       172\n",
      "          1       0.00      0.00      0.00        29\n",
      "\n",
      "avg / total       0.73      0.86      0.79       201\n",
      "\n"
     ]
    },
    {
     "name": "stderr",
     "output_type": "stream",
     "text": [
      "C:\\Users\\PUSHPENDRA\\Anaconda3\\lib\\site-packages\\sklearn\\metrics\\classification.py:1135: UndefinedMetricWarning: Precision and F-score are ill-defined and being set to 0.0 in labels with no predicted samples.\n",
      "  'precision', 'predicted', average, warn_for)\n"
     ]
    }
   ],
   "source": [
    "FS=dat['Sample'][:450]\n",
    "model.fit(feature_all[:450],FS)\n",
    "preds =model.predict(X=feature_all[451:])\n",
    "pd.crosstab(preds,dat['Sample'][451:])\n",
    "print(\"Accuracy: \")\n",
    "print(model.score(feature_all[451:],dat['Sample'][451:]))\n",
    "print()\n",
    "print(\"classification_report :\")\n",
    "print( metrics.classification_report(y_true=dat['Sample'][451:],y_pred=preds) )"
   ]
  },
  {
   "cell_type": "code",
   "execution_count": 31,
   "metadata": {
    "collapsed": false,
    "scrolled": true
   },
   "outputs": [
    {
     "name": "stdout",
     "output_type": "stream",
     "text": [
      "Accuracy: \n",
      "0.641791044776\n",
      "\n",
      "classification_report :\n",
      "             precision    recall  f1-score   support\n",
      "\n",
      "          0       0.64      0.67      0.65       101\n",
      "          1       0.65      0.61      0.63       100\n",
      "\n",
      "avg / total       0.64      0.64      0.64       201\n",
      "\n"
     ]
    }
   ],
   "source": [
    "FS=dat['Exaggeration'][:450]\n",
    "model.fit(feature_all[:450],FS)\n",
    "preds =model.predict(X=feature_all[451:])\n",
    "pd.crosstab(preds,dat['Exaggeration'][451:])\n",
    "print(\"Accuracy: \")\n",
    "print(model.score(feature_all[451:],dat['Exaggeration'][451:]))\n",
    "print()\n",
    "print(\"classification_report :\")\n",
    "print( metrics.classification_report(y_true=dat['Exaggeration'][451:],y_pred=preds) )"
   ]
  },
  {
   "cell_type": "markdown",
   "metadata": {},
   "source": [
    "### Decision tree Classifier"
   ]
  },
  {
   "cell_type": "code",
   "execution_count": 32,
   "metadata": {
    "collapsed": true
   },
   "outputs": [],
   "source": [
    "from sklearn.tree import DecisionTreeClassifier\n",
    "from sklearn.model_selection import cross_val_score\n",
    "\n",
    "model= DecisionTreeClassifier(random_state=0)\n",
    "dat=pd.read_csv(r\"C:\\Users\\PUSHPENDRA\\Desktop\\Acads\\Autumn 2017-18\\snlp\\open data\\Exaggeration_new.csv\")"
   ]
  },
  {
   "cell_type": "code",
   "execution_count": 87,
   "metadata": {
    "collapsed": false
   },
   "outputs": [
    {
     "name": "stdout",
     "output_type": "stream",
     "text": [
      "Accuracy: \n",
      "0.791044776119\n",
      "\n",
      "classification_report :\n",
      "             precision    recall  f1-score   support\n",
      "\n",
      "          0       0.81      0.96      0.88       161\n",
      "          1       0.40      0.10      0.16        40\n",
      "\n",
      "avg / total       0.73      0.79      0.74       201\n",
      "\n",
      "0.775952380952\n"
     ]
    }
   ],
   "source": [
    "FS=dat['Advice'][:450]\n",
    "model.fit(feature[:450],FS)\n",
    "preds =model.predict(X=feature[451:])\n",
    "pd.crosstab(preds,dat['Advice'][451:])\n",
    "print(\"Accuracy: \")\n",
    "print(model.score(feature[451:],dat['Advice'][451:]))\n",
    "print()\n",
    "print(\"classification_report :\")\n",
    "print( metrics.classification_report(y_true=dat['Advice'][451:],y_pred=preds) )\n",
    "x=cross_val_score(model,feature[451:],dat['Advice'][451:], cv=10)\n",
    "print(x.mean())"
   ]
  },
  {
   "cell_type": "code",
   "execution_count": 88,
   "metadata": {
    "collapsed": false
   },
   "outputs": [
    {
     "name": "stdout",
     "output_type": "stream",
     "text": [
      "Accuracy: \n",
      "0.71144278607\n",
      "\n",
      "classification_report :\n",
      "             precision    recall  f1-score   support\n",
      "\n",
      "          0       0.75      0.93      0.83       149\n",
      "          1       0.31      0.10      0.15        52\n",
      "\n",
      "avg / total       0.63      0.71      0.65       201\n",
      "\n"
     ]
    }
   ],
   "source": [
    "FS=dat['FS'][:450]\n",
    "model.fit(feature[:450],FS)\n",
    "preds =model.predict(X=feature[451:])\n",
    "pd.crosstab(preds,dat['FS'][451:])\n",
    "print(\"Accuracy: \")\n",
    "print(model.score(feature[451:],dat['FS'][451:]))\n",
    "print()\n",
    "print(\"classification_report :\")\n",
    "print( metrics.classification_report(y_true=dat['FS'][451:],y_pred=preds) )"
   ]
  },
  {
   "cell_type": "code",
   "execution_count": 89,
   "metadata": {
    "collapsed": false
   },
   "outputs": [
    {
     "name": "stdout",
     "output_type": "stream",
     "text": [
      "Accuracy: \n",
      "0.850746268657\n",
      "\n",
      "classification_report :\n",
      "             precision    recall  f1-score   support\n",
      "\n",
      "          0       0.86      0.98      0.92       172\n",
      "          1       0.40      0.07      0.12        29\n",
      "\n",
      "avg / total       0.80      0.85      0.80       201\n",
      "\n"
     ]
    }
   ],
   "source": [
    "FS=dat['Sample'][:450]\n",
    "model.fit(feature[:450],FS)\n",
    "preds =model.predict(X=feature[451:])\n",
    "pd.crosstab(preds,dat['Sample'][451:])\n",
    "print(\"Accuracy: \")\n",
    "print(model.score(feature[451:],dat['Sample'][451:]))\n",
    "print()\n",
    "print(\"classification_report :\")\n",
    "print( metrics.classification_report(y_true=dat['Sample'][451:],y_pred=preds) )"
   ]
  },
  {
   "cell_type": "code",
   "execution_count": 91,
   "metadata": {
    "collapsed": false
   },
   "outputs": [
    {
     "name": "stdout",
     "output_type": "stream",
     "text": [
      "Accuracy: \n",
      "0.592039800995\n",
      "\n",
      "classification_report :\n",
      "             precision    recall  f1-score   support\n",
      "\n",
      "          0       0.58      0.67      0.62       101\n",
      "          1       0.61      0.51      0.55       100\n",
      "\n",
      "avg / total       0.59      0.59      0.59       201\n",
      "\n"
     ]
    }
   ],
   "source": [
    "FS=dat['Exaggeration'][:450]\n",
    "model.fit(feature[:450],FS)\n",
    "preds =model.predict(X=feature[451:])\n",
    "pd.crosstab(preds,dat['Exaggeration'][451:])\n",
    "print(\"Accuracy: \")\n",
    "print(model.score(feature[451:],dat['Exaggeration'][451:]))\n",
    "print()\n",
    "print(\"classification_report :\")\n",
    "print( metrics.classification_report(y_true=dat['Exaggeration'][451:],y_pred=preds) )"
   ]
  },
  {
   "cell_type": "code",
   "execution_count": 38,
   "metadata": {
    "collapsed": false
   },
   "outputs": [
    {
     "name": "stdout",
     "output_type": "stream",
     "text": [
      "Accuracy: \n",
      "0.800995024876\n",
      "\n",
      "classification_report :\n",
      "             precision    recall  f1-score   support\n",
      "\n",
      "          0       0.90      0.85      0.87       161\n",
      "          1       0.50      0.60      0.55        40\n",
      "\n",
      "avg / total       0.82      0.80      0.81       201\n",
      "\n"
     ]
    }
   ],
   "source": [
    "FS=dat['Advice'][:450]\n",
    "model.fit(feature_all[:450],FS)\n",
    "preds =model.predict(X=feature_all[451:])\n",
    "pd.crosstab(preds,dat['Advice'][451:])\n",
    "print(\"Accuracy: \")\n",
    "print(model.score(feature_all[451:],dat['Advice'][451:]))\n",
    "print()\n",
    "print(\"classification_report :\")\n",
    "print( metrics.classification_report(y_true=dat['Advice'][451:],y_pred=preds) )"
   ]
  },
  {
   "cell_type": "code",
   "execution_count": 39,
   "metadata": {
    "collapsed": false
   },
   "outputs": [
    {
     "name": "stdout",
     "output_type": "stream",
     "text": [
      "Accuracy: \n",
      "0.830845771144\n",
      "\n",
      "classification_report :\n",
      "             precision    recall  f1-score   support\n",
      "\n",
      "          0       0.89      0.88      0.89       149\n",
      "          1       0.67      0.69      0.68        52\n",
      "\n",
      "avg / total       0.83      0.83      0.83       201\n",
      "\n"
     ]
    }
   ],
   "source": [
    "FS=dat['FS'][:450]\n",
    "model.fit(feature_all[:450],FS)\n",
    "preds =model.predict(X=feature_all[451:])\n",
    "pd.crosstab(preds,dat['FS'][451:])\n",
    "print(\"Accuracy: \")\n",
    "print(model.score(feature_all[451:],dat['FS'][451:]))\n",
    "print()\n",
    "print(\"classification_report :\")\n",
    "print( metrics.classification_report(y_true=dat['FS'][451:],y_pred=preds) )"
   ]
  },
  {
   "cell_type": "code",
   "execution_count": 40,
   "metadata": {
    "collapsed": false
   },
   "outputs": [
    {
     "name": "stdout",
     "output_type": "stream",
     "text": [
      "Accuracy: \n",
      "0.855721393035\n",
      "\n",
      "classification_report :\n",
      "             precision    recall  f1-score   support\n",
      "\n",
      "          0       0.95      0.88      0.91       172\n",
      "          1       0.50      0.72      0.59        29\n",
      "\n",
      "avg / total       0.88      0.86      0.87       201\n",
      "\n"
     ]
    }
   ],
   "source": [
    "FS=dat['Sample'][:450]\n",
    "model.fit(feature_all[:450],FS)\n",
    "preds =model.predict(X=feature_all[451:])\n",
    "pd.crosstab(preds,dat['Sample'][451:])\n",
    "print(\"Accuracy: \")\n",
    "print(model.score(feature_all[451:],dat['Sample'][451:]))\n",
    "print()\n",
    "print(\"classification_report :\")\n",
    "print( metrics.classification_report(y_true=dat['Sample'][451:],y_pred=preds) )"
   ]
  },
  {
   "cell_type": "code",
   "execution_count": 92,
   "metadata": {
    "collapsed": false
   },
   "outputs": [
    {
     "name": "stdout",
     "output_type": "stream",
     "text": [
      "Accuracy: \n",
      "0.731343283582\n",
      "\n",
      "classification_report :\n",
      "             precision    recall  f1-score   support\n",
      "\n",
      "          0       0.73      0.73      0.73       101\n",
      "          1       0.73      0.73      0.73       100\n",
      "\n",
      "avg / total       0.73      0.73      0.73       201\n",
      "\n"
     ]
    }
   ],
   "source": [
    "FS=dat['Exaggeration'][:450]\n",
    "model.fit(feature_all[:450],FS)\n",
    "preds =model.predict(X=feature_all[451:])\n",
    "pd.crosstab(preds,dat['Exaggeration'][451:])\n",
    "print(\"Accuracy: \")\n",
    "print(model.score(feature_all[451:],dat['Exaggeration'][451:]))\n",
    "print()\n",
    "print(\"classification_report :\")\n",
    "print( metrics.classification_report(y_true=dat['Exaggeration'][451:],y_pred=preds) )"
   ]
  },
  {
   "cell_type": "markdown",
   "metadata": {},
   "source": [
    "### Adaboost Classifier"
   ]
  },
  {
   "cell_type": "code",
   "execution_count": 36,
   "metadata": {
    "collapsed": true
   },
   "outputs": [],
   "source": [
    "from sklearn.ensemble import AdaBoostClassifier\n",
    "from sklearn.tree import DecisionTreeClassifier\n",
    "from sklearn.model_selection import cross_val_score\n",
    "\n",
    "clf= DecisionTreeClassifier(random_state=0)\n",
    "model=AdaBoostClassifier(n_estimators=100, base_estimator=clf,learning_rate=1)\n",
    "dat=pd.read_csv(r\"C:\\Users\\PUSHPENDRA\\Desktop\\Acads\\Autumn 2017-18\\snlp\\open data\\Exaggeration_new.csv\")"
   ]
  },
  {
   "cell_type": "code",
   "execution_count": 37,
   "metadata": {
    "collapsed": false
   },
   "outputs": [
    {
     "name": "stdout",
     "output_type": "stream",
     "text": [
      "Accuracy: \n",
      "0.716417910448\n",
      "\n",
      "classification_report :\n",
      "             precision    recall  f1-score   support\n",
      "\n",
      "          0       0.84      0.80      0.82       161\n",
      "          1       0.32      0.38      0.34        40\n",
      "\n",
      "avg / total       0.73      0.72      0.72       201\n",
      "\n"
     ]
    }
   ],
   "source": [
    "FS=dat['Advice'][:450]\n",
    "model.fit(feature[:450],FS)\n",
    "preds =model.predict(X=feature[451:])\n",
    "pd.crosstab(preds,dat['Advice'][451:])\n",
    "print(\"Accuracy: \")\n",
    "print(model.score(feature[451:],dat['Advice'][451:]))\n",
    "print()\n",
    "print(\"classification_report :\")\n",
    "print( metrics.classification_report(y_true=dat['Advice'][451:],y_pred=preds) )"
   ]
  },
  {
   "cell_type": "code",
   "execution_count": 38,
   "metadata": {
    "collapsed": false
   },
   "outputs": [
    {
     "name": "stdout",
     "output_type": "stream",
     "text": [
      "Accuracy: \n",
      "0.706467661692\n",
      "\n",
      "classification_report :\n",
      "             precision    recall  f1-score   support\n",
      "\n",
      "          0       0.81      0.79      0.80       149\n",
      "          1       0.44      0.48      0.46        52\n",
      "\n",
      "avg / total       0.72      0.71      0.71       201\n",
      "\n"
     ]
    }
   ],
   "source": [
    "FS=dat['FS'][:450]\n",
    "model.fit(feature[:450],FS)\n",
    "preds =model.predict(X=feature[451:])\n",
    "pd.crosstab(preds,dat['FS'][451:])\n",
    "print(\"Accuracy: \")\n",
    "print(model.score(feature[451:],dat['FS'][451:]))\n",
    "print()\n",
    "print(\"classification_report :\")\n",
    "print( metrics.classification_report(y_true=dat['FS'][451:],y_pred=preds) )"
   ]
  },
  {
   "cell_type": "code",
   "execution_count": 41,
   "metadata": {
    "collapsed": false
   },
   "outputs": [
    {
     "name": "stdout",
     "output_type": "stream",
     "text": [
      "Accuracy: \n",
      "0.805970149254\n",
      "\n",
      "classification_report :\n",
      "             precision    recall  f1-score   support\n",
      "\n",
      "          0       0.88      0.90      0.89       172\n",
      "          1       0.31      0.28      0.29        29\n",
      "\n",
      "avg / total       0.80      0.81      0.80       201\n",
      "\n"
     ]
    }
   ],
   "source": [
    "FS=dat['Sample'][:450]\n",
    "model.fit(feature[:450],FS)\n",
    "preds =model.predict(X=feature[451:])\n",
    "pd.crosstab(preds,dat['Sample'][451:])\n",
    "print(\"Accuracy: \")\n",
    "print(model.score(feature[451:],dat['Sample'][451:]))\n",
    "print()\n",
    "print(\"classification_report :\")\n",
    "print( metrics.classification_report(y_true=dat['Sample'][451:],y_pred=preds) )"
   ]
  },
  {
   "cell_type": "code",
   "execution_count": 42,
   "metadata": {
    "collapsed": false
   },
   "outputs": [
    {
     "name": "stdout",
     "output_type": "stream",
     "text": [
      "Accuracy: \n",
      "0.587064676617\n",
      "\n",
      "classification_report :\n",
      "             precision    recall  f1-score   support\n",
      "\n",
      "          0       0.59      0.56      0.58       101\n",
      "          1       0.58      0.61      0.60       100\n",
      "\n",
      "avg / total       0.59      0.59      0.59       201\n",
      "\n"
     ]
    }
   ],
   "source": [
    "FS=dat['Exaggeration'][:450]\n",
    "model.fit(feature[:450],FS)\n",
    "preds =model.predict(X=feature[451:])\n",
    "pd.crosstab(preds,dat['Exaggeration'][451:])\n",
    "print(\"Accuracy: \")\n",
    "print(model.score(feature[451:],dat['Exaggeration'][451:]))\n",
    "print()\n",
    "print(\"classification_report :\")\n",
    "print( metrics.classification_report(y_true=dat['Exaggeration'][451:],y_pred=preds) )"
   ]
  },
  {
   "cell_type": "code",
   "execution_count": 43,
   "metadata": {
    "collapsed": false
   },
   "outputs": [
    {
     "name": "stdout",
     "output_type": "stream",
     "text": [
      "Accuracy: \n",
      "0.746268656716\n",
      "\n",
      "classification_report :\n",
      "             precision    recall  f1-score   support\n",
      "\n",
      "          0       0.85      0.83      0.84       161\n",
      "          1       0.37      0.40      0.39        40\n",
      "\n",
      "avg / total       0.75      0.75      0.75       201\n",
      "\n"
     ]
    }
   ],
   "source": [
    "FS=dat['Advice'][:450]\n",
    "model.fit(feature_all[:450],FS)\n",
    "preds =model.predict(X=feature_all[451:])\n",
    "pd.crosstab(preds,dat['Advice'][451:])\n",
    "print(\"Accuracy: \")\n",
    "print(model.score(feature_all[451:],dat['Advice'][451:]))\n",
    "print()\n",
    "print(\"classification_report :\")\n",
    "print( metrics.classification_report(y_true=dat['Advice'][451:],y_pred=preds) )"
   ]
  },
  {
   "cell_type": "code",
   "execution_count": 44,
   "metadata": {
    "collapsed": false
   },
   "outputs": [
    {
     "name": "stdout",
     "output_type": "stream",
     "text": [
      "Accuracy: \n",
      "0.820895522388\n",
      "\n",
      "classification_report :\n",
      "             precision    recall  f1-score   support\n",
      "\n",
      "          0       0.86      0.90      0.88       149\n",
      "          1       0.67      0.60      0.63        52\n",
      "\n",
      "avg / total       0.82      0.82      0.82       201\n",
      "\n"
     ]
    }
   ],
   "source": [
    "FS=dat['FS'][:450]\n",
    "model.fit(feature_all[:450],FS)\n",
    "preds =model.predict(X=feature_all[451:])\n",
    "pd.crosstab(preds,dat['FS'][451:])\n",
    "print(\"Accuracy: \")\n",
    "print(model.score(feature_all[451:],dat['FS'][451:]))\n",
    "print()\n",
    "print(\"classification_report :\")\n",
    "print( metrics.classification_report(y_true=dat['FS'][451:],y_pred=preds) )"
   ]
  },
  {
   "cell_type": "code",
   "execution_count": 45,
   "metadata": {
    "collapsed": false
   },
   "outputs": [
    {
     "name": "stdout",
     "output_type": "stream",
     "text": [
      "Accuracy: \n",
      "0.890547263682\n",
      "\n",
      "classification_report :\n",
      "             precision    recall  f1-score   support\n",
      "\n",
      "          0       0.95      0.92      0.93       172\n",
      "          1       0.60      0.72      0.66        29\n",
      "\n",
      "avg / total       0.90      0.89      0.89       201\n",
      "\n"
     ]
    }
   ],
   "source": [
    "FS=dat['Sample'][:450]\n",
    "model.fit(feature_all[:450],FS)\n",
    "preds =model.predict(X=feature_all[451:])\n",
    "pd.crosstab(preds,dat['Sample'][451:])\n",
    "print(\"Accuracy: \")\n",
    "print(model.score(feature_all[451:],dat['Sample'][451:]))\n",
    "print()\n",
    "print(\"classification_report :\")\n",
    "print( metrics.classification_report(y_true=dat['Sample'][451:],y_pred=preds) )"
   ]
  },
  {
   "cell_type": "code",
   "execution_count": 64,
   "metadata": {
    "collapsed": false
   },
   "outputs": [
    {
     "name": "stdout",
     "output_type": "stream",
     "text": [
      "Accuracy: \n",
      "0.641791044776\n",
      "\n",
      "classification_report :\n",
      "             precision    recall  f1-score   support\n",
      "\n",
      "          0       0.64      0.64      0.64       101\n",
      "          1       0.64      0.64      0.64       100\n",
      "\n",
      "avg / total       0.64      0.64      0.64       201\n",
      "\n"
     ]
    }
   ],
   "source": [
    "FS=dat['Exaggeration'][:450]\n",
    "model.fit(feature_all[:450],FS)\n",
    "preds =model.predict(X=feature_all[451:])\n",
    "pd.crosstab(preds,dat['Exaggeration'][451:])\n",
    "print(\"Accuracy: \")\n",
    "print(model.score(feature_all[451:],dat['Exaggeration'][451:]))\n",
    "print()\n",
    "print(\"classification_report :\")\n",
    "print( metrics.classification_report(y_true=dat['Exaggeration'][451:],y_pred=preds) )"
   ]
  },
  {
   "cell_type": "markdown",
   "metadata": {},
   "source": [
    "### KNN"
   ]
  },
  {
   "cell_type": "code",
   "execution_count": 51,
   "metadata": {
    "collapsed": false
   },
   "outputs": [],
   "source": [
    "from sklearn import neighbors\n",
    "model=neighbors.KNeighborsClassifier()\n",
    "dat=pd.read_csv(r\"C:\\Users\\PUSHPENDRA\\Desktop\\Acads\\Autumn 2017-18\\snlp\\open data\\Exaggeration_new.csv\")"
   ]
  },
  {
   "cell_type": "code",
   "execution_count": 52,
   "metadata": {
    "collapsed": false
   },
   "outputs": [
    {
     "name": "stdout",
     "output_type": "stream",
     "text": [
      "Accuracy: \n",
      "0.810945273632\n",
      "\n",
      "classification_report :\n",
      "             precision    recall  f1-score   support\n",
      "\n",
      "          0       0.81      0.99      0.89       161\n",
      "          1       0.75      0.07      0.14        40\n",
      "\n",
      "avg / total       0.80      0.81      0.74       201\n",
      "\n"
     ]
    }
   ],
   "source": [
    "FS=dat['Advice'][:450]\n",
    "model.fit(feature[:450],FS)\n",
    "preds =model.predict(X=feature[451:])\n",
    "pd.crosstab(preds,dat['Advice'][451:])\n",
    "print(\"Accuracy: \")\n",
    "print(model.score(feature[451:],dat['Advice'][451:]))\n",
    "print()\n",
    "print(\"classification_report :\")\n",
    "print( metrics.classification_report(y_true=dat['Advice'][451:],y_pred=preds) )"
   ]
  },
  {
   "cell_type": "code",
   "execution_count": 53,
   "metadata": {
    "collapsed": false
   },
   "outputs": [
    {
     "name": "stdout",
     "output_type": "stream",
     "text": [
      "Accuracy: \n",
      "0.756218905473\n",
      "\n",
      "classification_report :\n",
      "             precision    recall  f1-score   support\n",
      "\n",
      "          0       0.80      0.89      0.84       149\n",
      "          1       0.54      0.38      0.45        52\n",
      "\n",
      "avg / total       0.74      0.76      0.74       201\n",
      "\n"
     ]
    }
   ],
   "source": [
    "FS=dat['FS'][:450]\n",
    "model.fit(feature[:450],FS)\n",
    "preds =model.predict(X=feature[451:])\n",
    "pd.crosstab(preds,dat['FS'][451:])\n",
    "print(\"Accuracy: \")\n",
    "print(model.score(feature[451:],dat['FS'][451:]))\n",
    "print()\n",
    "print(\"classification_report :\")\n",
    "print( metrics.classification_report(y_true=dat['FS'][451:],y_pred=preds) )"
   ]
  },
  {
   "cell_type": "code",
   "execution_count": 54,
   "metadata": {
    "collapsed": false
   },
   "outputs": [
    {
     "name": "stdout",
     "output_type": "stream",
     "text": [
      "Accuracy: \n",
      "0.860696517413\n",
      "\n",
      "classification_report :\n",
      "             precision    recall  f1-score   support\n",
      "\n",
      "          0       0.86      0.99      0.92       172\n",
      "          1       0.67      0.07      0.12        29\n",
      "\n",
      "avg / total       0.84      0.86      0.81       201\n",
      "\n"
     ]
    }
   ],
   "source": [
    "FS=dat['Sample'][:450]\n",
    "model.fit(feature[:450],FS)\n",
    "preds =model.predict(X=feature[451:])\n",
    "pd.crosstab(preds,dat['Sample'][451:])\n",
    "print(\"Accuracy: \")\n",
    "print(model.score(feature[451:],dat['Sample'][451:]))\n",
    "print()\n",
    "print(\"classification_report :\")\n",
    "print( metrics.classification_report(y_true=dat['Sample'][451:],y_pred=preds) )"
   ]
  },
  {
   "cell_type": "code",
   "execution_count": 139,
   "metadata": {
    "collapsed": false
   },
   "outputs": [
    {
     "name": "stdout",
     "output_type": "stream",
     "text": [
      "Accuracy: \n",
      "0.621890547264\n",
      "\n",
      "classification_report :\n",
      "             precision    recall  f1-score   support\n",
      "\n",
      "          0       0.61      0.66      0.64       101\n",
      "          1       0.63      0.58      0.60       100\n",
      "\n",
      "avg / total       0.62      0.62      0.62       201\n",
      "\n"
     ]
    }
   ],
   "source": [
    "FS=dat['Exaggeration'][:450]\n",
    "model.fit(feature[:450],FS)\n",
    "preds =model.predict(X=feature[451:])\n",
    "pd.crosstab(preds,dat['Exaggeration'][451:])\n",
    "print(\"Accuracy: \")\n",
    "print(model.score(feature[451:],dat['Exaggeration'][451:]))\n",
    "print()\n",
    "print(\"classification_report :\")\n",
    "print( metrics.classification_report(y_true=dat['Exaggeration'][451:],y_pred=preds) )\n"
   ]
  },
  {
   "cell_type": "code",
   "execution_count": 56,
   "metadata": {
    "collapsed": false
   },
   "outputs": [
    {
     "name": "stdout",
     "output_type": "stream",
     "text": [
      "Accuracy: \n",
      "0.860696517413\n",
      "\n",
      "classification_report :\n",
      "             precision    recall  f1-score   support\n",
      "\n",
      "          0       0.88      0.96      0.92       161\n",
      "          1       0.75      0.45      0.56        40\n",
      "\n",
      "avg / total       0.85      0.86      0.85       201\n",
      "\n"
     ]
    }
   ],
   "source": [
    "FS=dat['Advice'][:450]\n",
    "model.fit(feature_all[:450],FS)\n",
    "preds =model.predict(X=feature_all[451:])\n",
    "pd.crosstab(preds,dat['Advice'][451:])\n",
    "print(\"Accuracy: \")\n",
    "print(model.score(feature_all[451:],dat['Advice'][451:]))\n",
    "print()\n",
    "print(\"classification_report :\")\n",
    "print( metrics.classification_report(y_true=dat['Advice'][451:],y_pred=preds) )"
   ]
  },
  {
   "cell_type": "code",
   "execution_count": 57,
   "metadata": {
    "collapsed": false
   },
   "outputs": [
    {
     "name": "stdout",
     "output_type": "stream",
     "text": [
      "Accuracy: \n",
      "0.805970149254\n",
      "\n",
      "classification_report :\n",
      "             precision    recall  f1-score   support\n",
      "\n",
      "          0       0.82      0.95      0.88       149\n",
      "          1       0.72      0.40      0.52        52\n",
      "\n",
      "avg / total       0.80      0.81      0.79       201\n",
      "\n"
     ]
    }
   ],
   "source": [
    "FS=dat['FS'][:450]\n",
    "model.fit(feature_all[:450],FS)\n",
    "preds =model.predict(X=feature_all[451:])\n",
    "pd.crosstab(preds,dat['FS'][451:])\n",
    "print(\"Accuracy: \")\n",
    "print(model.score(feature_all[451:],dat['FS'][451:]))\n",
    "print()\n",
    "print(\"classification_report :\")\n",
    "print( metrics.classification_report(y_true=dat['FS'][451:],y_pred=preds) )"
   ]
  },
  {
   "cell_type": "code",
   "execution_count": 58,
   "metadata": {
    "collapsed": false
   },
   "outputs": [
    {
     "name": "stdout",
     "output_type": "stream",
     "text": [
      "Accuracy: \n",
      "0.855721393035\n",
      "\n",
      "classification_report :\n",
      "             precision    recall  f1-score   support\n",
      "\n",
      "          0       0.93      0.90      0.91       172\n",
      "          1       0.50      0.59      0.54        29\n",
      "\n",
      "avg / total       0.87      0.86      0.86       201\n",
      "\n"
     ]
    }
   ],
   "source": [
    "FS=dat['Sample'][:450]\n",
    "model.fit(feature_all[:450],FS)\n",
    "preds =model.predict(X=feature_all[451:])\n",
    "pd.crosstab(preds,dat['Sample'][451:])\n",
    "print(\"Accuracy: \")\n",
    "print(model.score(feature_all[451:],dat['Sample'][451:]))\n",
    "print()\n",
    "print(\"classification_report :\")\n",
    "print( metrics.classification_report(y_true=dat['Sample'][451:],y_pred=preds) )"
   ]
  },
  {
   "cell_type": "code",
   "execution_count": 60,
   "metadata": {
    "collapsed": false
   },
   "outputs": [
    {
     "name": "stdout",
     "output_type": "stream",
     "text": [
      "Accuracy: \n",
      "0.73631840796\n",
      "\n",
      "classification_report :\n",
      "             precision    recall  f1-score   support\n",
      "\n",
      "          0       0.73      0.75      0.74       101\n",
      "          1       0.74      0.72      0.73       100\n",
      "\n",
      "avg / total       0.74      0.74      0.74       201\n",
      "\n"
     ]
    }
   ],
   "source": [
    "FS=dat['Exaggeration'][:450]\n",
    "model.fit(feature_all[:450],FS)\n",
    "preds =model.predict(X=feature_all[451:])\n",
    "pd.crosstab(preds,dat['Exaggeration'][451:])\n",
    "print(\"Accuracy: \")\n",
    "print(model.score(feature_all[451:],dat['Exaggeration'][451:]))\n",
    "print()\n",
    "print(\"classification_report :\")\n",
    "print( metrics.classification_report(y_true=dat['Exaggeration'][451:],y_pred=preds) )"
   ]
  },
  {
   "cell_type": "markdown",
   "metadata": {},
   "source": [
    "### XGBoost Classifer"
   ]
  },
  {
   "cell_type": "code",
   "execution_count": 65,
   "metadata": {
    "collapsed": false
   },
   "outputs": [
    {
     "name": "stderr",
     "output_type": "stream",
     "text": [
      "C:\\Users\\PUSHPENDRA\\Anaconda3\\lib\\site-packages\\sklearn\\cross_validation.py:41: DeprecationWarning: This module was deprecated in version 0.18 in favor of the model_selection module into which all the refactored classes and functions are moved. Also note that the interface of the new CV iterators are different from that of this module. This module will be removed in 0.20.\n",
      "  \"This module will be removed in 0.20.\", DeprecationWarning)\n"
     ]
    }
   ],
   "source": [
    "import xgboost as xgb\n",
    "from sklearn.metrics import confusion_matrix\n",
    "model=xgb.XGBClassifier(max_depth=3, n_estimators=300, learning_rate=0.01)\n",
    "dat=pd.read_csv(r\"C:\\Users\\PUSHPENDRA\\Desktop\\Acads\\Autumn 2017-18\\snlp\\open data\\Exaggeration_new.csv\")"
   ]
  },
  {
   "cell_type": "code",
   "execution_count": 66,
   "metadata": {
    "collapsed": false
   },
   "outputs": [
    {
     "name": "stdout",
     "output_type": "stream",
     "text": [
      "Accuracy: \n",
      "0.796019900498\n",
      "\n",
      "classification_report :\n",
      "             precision    recall  f1-score   support\n",
      "\n",
      "          0       0.83      0.94      0.88       161\n",
      "          1       0.47      0.20      0.28        40\n",
      "\n",
      "avg / total       0.76      0.80      0.76       201\n",
      "\n",
      "[[152   9]\n",
      " [ 32   8]]\n"
     ]
    }
   ],
   "source": [
    "FS=dat['Advice'][:450]\n",
    "model.fit(feature[:450],FS)\n",
    "preds =model.predict(feature[451:])\n",
    "pd.crosstab(preds,dat['Advice'][451:])\n",
    "print(\"Accuracy: \")\n",
    "print(model.score(feature[451:],dat['Advice'][451:]))\n",
    "print()\n",
    "print(\"classification_report :\")\n",
    "print( metrics.classification_report(y_true=dat['Advice'][451:],y_pred=preds) )\n",
    "print(confusion_matrix(dat['Advice'][451:], preds))"
   ]
  },
  {
   "cell_type": "code",
   "execution_count": 180,
   "metadata": {
    "collapsed": false
   },
   "outputs": [
    {
     "name": "stdout",
     "output_type": "stream",
     "text": [
      "Accuracy: \n",
      "0.751243781095\n",
      "\n",
      "classification_report :\n",
      "             precision    recall  f1-score   support\n",
      "\n",
      "          0       0.76      0.96      0.85       149\n",
      "          1       0.57      0.15      0.24        52\n",
      "\n",
      "avg / total       0.71      0.75      0.69       201\n",
      "\n",
      "[[143   6]\n",
      " [ 44   8]]\n"
     ]
    }
   ],
   "source": [
    "FS=dat['FS'][:450]\n",
    "model.fit(feature[:450],FS)\n",
    "preds =model.predict(feature[451:])\n",
    "pd.crosstab(preds,dat['FS'][451:])\n",
    "print(\"Accuracy: \")\n",
    "print(model.score(feature[451:],dat['FS'][451:]))\n",
    "print()\n",
    "print(\"classification_report :\")\n",
    "print( metrics.classification_report(y_true=dat['FS'][451:],y_pred=preds) )\n",
    "print(confusion_matrix(dat['FS'][451:], preds))"
   ]
  },
  {
   "cell_type": "code",
   "execution_count": 181,
   "metadata": {
    "collapsed": false
   },
   "outputs": [
    {
     "name": "stdout",
     "output_type": "stream",
     "text": [
      "Accuracy: \n",
      "0.855721393035\n",
      "\n",
      "classification_report :\n",
      "             precision    recall  f1-score   support\n",
      "\n",
      "          0       0.86      1.00      0.92       172\n",
      "          1       0.00      0.00      0.00        29\n",
      "\n",
      "avg / total       0.73      0.86      0.79       201\n",
      "\n",
      "[[172   0]\n",
      " [ 29   0]]\n"
     ]
    },
    {
     "name": "stderr",
     "output_type": "stream",
     "text": [
      "C:\\Users\\PUSHPENDRA\\Anaconda3\\lib\\site-packages\\sklearn\\metrics\\classification.py:1135: UndefinedMetricWarning: Precision and F-score are ill-defined and being set to 0.0 in labels with no predicted samples.\n",
      "  'precision', 'predicted', average, warn_for)\n"
     ]
    }
   ],
   "source": [
    "FS=dat['Sample'][:450]\n",
    "model.fit(feature[:450],FS)\n",
    "preds =model.predict(feature[451:])\n",
    "pd.crosstab(preds,dat['Sample'][451:])\n",
    "print(\"Accuracy: \")\n",
    "print(model.score(feature[451:],dat['Sample'][451:]))\n",
    "print()\n",
    "print(\"classification_report :\")\n",
    "print( metrics.classification_report(y_true=dat['Sample'][451:],y_pred=preds) )\n",
    "print(confusion_matrix(dat['Sample'][451:], preds))"
   ]
  },
  {
   "cell_type": "code",
   "execution_count": 73,
   "metadata": {
    "collapsed": false
   },
   "outputs": [
    {
     "name": "stdout",
     "output_type": "stream",
     "text": [
      "Accuracy: \n",
      "0.636815920398\n",
      "\n",
      "classification_report :\n",
      "             precision    recall  f1-score   support\n",
      "\n",
      "          0       0.62      0.70      0.66       101\n",
      "          1       0.66      0.57      0.61       100\n",
      "\n",
      "avg / total       0.64      0.64      0.64       201\n",
      "\n",
      "[[71 30]\n",
      " [43 57]]\n"
     ]
    }
   ],
   "source": [
    "FS=dat['Exaggeration'][:450]\n",
    "model.fit(feature[:450],FS)\n",
    "preds =model.predict(feature[451:])\n",
    "pd.crosstab(preds,dat['Exaggeration'][451:])\n",
    "print(\"Accuracy: \")\n",
    "print(model.score(feature[451:],dat['Exaggeration'][451:]))\n",
    "print()\n",
    "print(\"classification_report :\")\n",
    "print( metrics.classification_report(y_true=dat['Exaggeration'][451:],y_pred=preds) )\n",
    "print(confusion_matrix(dat['Exaggeration'][451:], preds))"
   ]
  },
  {
   "cell_type": "code",
   "execution_count": 187,
   "metadata": {
    "collapsed": false
   },
   "outputs": [
    {
     "name": "stdout",
     "output_type": "stream",
     "text": [
      "Accuracy: \n",
      "0.845771144279\n",
      "\n",
      "classification_report :\n",
      "             precision    recall  f1-score   support\n",
      "\n",
      "          0       0.85      0.98      0.91       161\n",
      "          1       0.80      0.30      0.44        40\n",
      "\n",
      "avg / total       0.84      0.85      0.82       201\n",
      "\n",
      "[[158   3]\n",
      " [ 28  12]]\n"
     ]
    }
   ],
   "source": [
    "FS=dat['Advice'][:450]\n",
    "model.fit(feature_all[:450],FS)\n",
    "preds =model.predict(feature_all[451:])\n",
    "pd.crosstab(preds,dat['Advice'][451:])\n",
    "print(\"Accuracy: \")\n",
    "print(model.score(feature_all[451:],dat['Advice'][451:]))\n",
    "print()\n",
    "print(\"classification_report :\")\n",
    "print( metrics.classification_report(y_true=dat['Advice'][451:],y_pred=preds) )\n",
    "print(confusion_matrix(dat['Advice'][451:], preds))"
   ]
  },
  {
   "cell_type": "code",
   "execution_count": 186,
   "metadata": {
    "collapsed": false
   },
   "outputs": [
    {
     "name": "stdout",
     "output_type": "stream",
     "text": [
      "Accuracy: \n",
      "0.8407960199\n",
      "\n",
      "classification_report :\n",
      "             precision    recall  f1-score   support\n",
      "\n",
      "          0       0.84      0.97      0.90       149\n",
      "          1       0.83      0.48      0.61        52\n",
      "\n",
      "avg / total       0.84      0.84      0.82       201\n",
      "\n",
      "[[144   5]\n",
      " [ 27  25]]\n"
     ]
    }
   ],
   "source": [
    "FS=dat['FS'][:450]\n",
    "model.fit(feature_all[:450],FS)\n",
    "preds =model.predict(feature_all[451:])\n",
    "pd.crosstab(preds,dat['FS'][451:])\n",
    "print(\"Accuracy: \")\n",
    "print(model.score(feature_all[451:],dat['FS'][451:]))\n",
    "print()\n",
    "print(\"classification_report :\")\n",
    "print( metrics.classification_report(y_true=dat['FS'][451:],y_pred=preds) )\n",
    "print(confusion_matrix(dat['FS'][451:], preds))"
   ]
  },
  {
   "cell_type": "code",
   "execution_count": 185,
   "metadata": {
    "collapsed": false
   },
   "outputs": [
    {
     "name": "stdout",
     "output_type": "stream",
     "text": [
      "Accuracy: \n",
      "0.92039800995\n",
      "\n",
      "classification_report :\n",
      "             precision    recall  f1-score   support\n",
      "\n",
      "          0       0.94      0.97      0.95       172\n",
      "          1       0.78      0.62      0.69        29\n",
      "\n",
      "avg / total       0.92      0.92      0.92       201\n",
      "\n",
      "[[167   5]\n",
      " [ 11  18]]\n"
     ]
    }
   ],
   "source": [
    "FS=dat['Sample'][:450]\n",
    "model.fit(feature_all[:450],FS)\n",
    "preds =model.predict(feature_all[451:])\n",
    "pd.crosstab(preds,dat['Sample'][451:])\n",
    "print(\"Accuracy: \")\n",
    "print(model.score(feature_all[451:],dat['Sample'][451:]))\n",
    "print()\n",
    "print(\"classification_report :\")\n",
    "print( metrics.classification_report(y_true=dat['Sample'][451:],y_pred=preds) )\n",
    "print(confusion_matrix(dat['Sample'][451:], preds))"
   ]
  },
  {
   "cell_type": "code",
   "execution_count": 83,
   "metadata": {
    "collapsed": false
   },
   "outputs": [
    {
     "name": "stdout",
     "output_type": "stream",
     "text": [
      "Accuracy: \n",
      "0.716417910448\n",
      "\n",
      "classification_report :\n",
      "             precision    recall  f1-score   support\n",
      "\n",
      "          0       0.70      0.75      0.73       101\n",
      "          1       0.73      0.68      0.70       100\n",
      "\n",
      "avg / total       0.72      0.72      0.72       201\n",
      "\n",
      "[[76 25]\n",
      " [32 68]]\n"
     ]
    }
   ],
   "source": [
    "FS=dat['Exaggeration'][:450]\n",
    "model.fit(feature_all[:450],FS)\n",
    "preds =model.predict(feature_all[451:])\n",
    "pd.crosstab(preds,dat['Exaggeration'][451:])\n",
    "print(\"Accuracy: \")\n",
    "print(model.score(feature_all[451:],dat['Exaggeration'][451:]))\n",
    "print()\n",
    "print(\"classification_report :\")\n",
    "print( metrics.classification_report(y_true=dat['Exaggeration'][451:],y_pred=preds) )\n",
    "print(confusion_matrix(dat['Exaggeration'][451:], preds))"
   ]
  },
  {
   "cell_type": "markdown",
   "metadata": {},
   "source": [
    "### SVM"
   ]
  },
  {
   "cell_type": "code",
   "execution_count": 73,
   "metadata": {
    "collapsed": true
   },
   "outputs": [],
   "source": [
    "from sklearn import svm\n",
    "from sklearn.model_selection import GridSearchCV \n",
    "parameters = {'kernel':('linear', 'rbf'), 'C':[1,2,3,4,5,6,7,8,9,10], 'gamma': \n",
    "              [0.01,0.02,0.03,0.04,0.05,0.10,0.2,0.3,0.4,0.5]}\n",
    "svr = svm.SVC()\n",
    "model=GridSearchCV(svr, parameters)\n",
    "dat=pd.read_csv(r\"C:\\Users\\PUSHPENDRA\\Desktop\\Acads\\Autumn 2017-18\\snlp\\open data\\Exaggeration_new.csv\")"
   ]
  },
  {
   "cell_type": "code",
   "execution_count": 74,
   "metadata": {
    "collapsed": false
   },
   "outputs": [
    {
     "name": "stdout",
     "output_type": "stream",
     "text": [
      "Accuracy: \n",
      "0.805970149254\n",
      "\n",
      "classification_report :\n",
      "             precision    recall  f1-score   support\n",
      "\n",
      "          0       0.81      0.98      0.89       161\n",
      "          1       0.57      0.10      0.17        40\n",
      "\n",
      "avg / total       0.77      0.81      0.75       201\n",
      "\n"
     ]
    }
   ],
   "source": [
    "FS=dat['Advice'][:450]\n",
    "model.fit(feature[:450],FS)\n",
    "preds =model.predict(feature[451:])\n",
    "pd.crosstab(preds,dat['Advice'][451:])\n",
    "print(\"Accuracy: \")\n",
    "print(model.score(feature[451:],dat['Advice'][451:]))\n",
    "print()\n",
    "print(\"classification_report :\")\n",
    "print( metrics.classification_report(y_true=dat['Advice'][451:],y_pred=preds) )"
   ]
  },
  {
   "cell_type": "code",
   "execution_count": 75,
   "metadata": {
    "collapsed": false
   },
   "outputs": [
    {
     "name": "stdout",
     "output_type": "stream",
     "text": [
      "Accuracy: \n",
      "0.776119402985\n",
      "\n",
      "classification_report :\n",
      "             precision    recall  f1-score   support\n",
      "\n",
      "          0       0.77      0.99      0.87       149\n",
      "          1       0.89      0.15      0.26        52\n",
      "\n",
      "avg / total       0.80      0.78      0.71       201\n",
      "\n"
     ]
    }
   ],
   "source": [
    "FS=dat['FS'][:450]\n",
    "model.fit(feature[:450],FS)\n",
    "preds =model.predict(feature[451:])\n",
    "pd.crosstab(preds,dat['FS'][451:])\n",
    "print(\"Accuracy: \")\n",
    "print(model.score(feature[451:],dat['FS'][451:]))\n",
    "print()\n",
    "print(\"classification_report :\")\n",
    "print( metrics.classification_report(y_true=dat['FS'][451:],y_pred=preds) )"
   ]
  },
  {
   "cell_type": "code",
   "execution_count": 76,
   "metadata": {
    "collapsed": false
   },
   "outputs": [
    {
     "name": "stdout",
     "output_type": "stream",
     "text": [
      "Accuracy: \n",
      "0.870646766169\n",
      "\n",
      "classification_report :\n",
      "             precision    recall  f1-score   support\n",
      "\n",
      "          0       0.87      1.00      0.93       172\n",
      "          1       1.00      0.10      0.19        29\n",
      "\n",
      "avg / total       0.89      0.87      0.82       201\n",
      "\n"
     ]
    }
   ],
   "source": [
    "FS=dat['Sample'][:450]\n",
    "model.fit(feature[:450],FS)\n",
    "preds =model.predict(feature[451:])\n",
    "pd.crosstab(preds,dat['Sample'][451:])\n",
    "print(\"Accuracy: \")\n",
    "print(model.score(feature[451:],dat['Sample'][451:]))\n",
    "print()\n",
    "print(\"classification_report :\")\n",
    "print( metrics.classification_report(y_true=dat['Sample'][451:],y_pred=preds) )"
   ]
  },
  {
   "cell_type": "code",
   "execution_count": 143,
   "metadata": {
    "collapsed": false
   },
   "outputs": [
    {
     "name": "stdout",
     "output_type": "stream",
     "text": [
      "Accuracy: \n",
      "0.567164179104\n",
      "\n",
      "classification_report :\n",
      "             precision    recall  f1-score   support\n",
      "\n",
      "          0       0.56      0.69      0.62       101\n",
      "          1       0.59      0.44      0.50       100\n",
      "\n",
      "avg / total       0.57      0.57      0.56       201\n",
      "\n"
     ]
    }
   ],
   "source": [
    "FS=dat['Exaggeration'][:450]\n",
    "model.fit(feature[:450],FS)\n",
    "preds =model.predict(feature[451:])\n",
    "pd.crosstab(preds,dat['Exaggeration'][451:])\n",
    "print(\"Accuracy: \")\n",
    "print(model.score(feature[451:],dat['Exaggeration'][451:]))\n",
    "print()\n",
    "print(\"classification_report :\")\n",
    "print( metrics.classification_report(y_true=dat['Exaggeration'][451:],y_pred=preds) )"
   ]
  },
  {
   "cell_type": "code",
   "execution_count": 144,
   "metadata": {
    "collapsed": true
   },
   "outputs": [],
   "source": [
    "import pandas as pd \n",
    "import numpy as np\n",
    "import csv\n",
    "from sklearn.linear_model import LogisticRegression as logreg\n",
    "from sklearn import metrics\n",
    "news=pd.read_csv(r\"C:\\Users\\PUSHPENDRA\\Desktop\\Acads\\Autumn 2017-18\\snlp\\open data\\Exaggeration_new.csv\")\n",
    "d2v_model = gensim.models.doc2vec.Doc2Vec.load('doc2vec.model')\n",
    "i=0\n",
    "feature_diff=np.zeros(shape=(652,300))\n",
    "for index,file in news.iterrows():\n",
    "        press=file[0][:6]+'0'+file[0][8:]+\".txt\"\n",
    "        newsarticle=file[0][:6]+'0'+file[0][8:]+\"_\"+file[1]+\".txt\"\n",
    "       \n",
    "        docvec = d2v_model.docvecs[press]#if string tag used in training\n",
    "        docvec1= d2v_model.docvecs[newsarticle]\n",
    "        tot=docvec-docvec1\n",
    "        feature_diff[i]=tot.T\n",
    "    \n",
    "        \n",
    "        \n",
    "        i=i+1\n"
   ]
  },
  {
   "cell_type": "code",
   "execution_count": 145,
   "metadata": {
    "collapsed": false
   },
   "outputs": [
    {
     "name": "stdout",
     "output_type": "stream",
     "text": [
      "Accuracy: \n",
      "0.805970149254\n",
      "\n",
      "classification_report :\n",
      "             precision    recall  f1-score   support\n",
      "\n",
      "          0       0.82      0.97      0.89       161\n",
      "          1       0.55      0.15      0.24        40\n",
      "\n",
      "avg / total       0.77      0.81      0.76       201\n",
      "\n"
     ]
    }
   ],
   "source": [
    "FS=dat['Advice'][:450]\n",
    "model.fit(feature_diff[:450],FS)\n",
    "preds =model.predict(feature_diff[451:])\n",
    "pd.crosstab(preds,dat['Advice'][451:])\n",
    "print(\"Accuracy: \")\n",
    "print(model.score(feature_diff[451:],dat['Advice'][451:]))\n",
    "print()\n",
    "print(\"classification_report :\")\n",
    "print( metrics.classification_report(y_true=dat['Advice'][451:],y_pred=preds) )"
   ]
  },
  {
   "cell_type": "code",
   "execution_count": 153,
   "metadata": {
    "collapsed": false
   },
   "outputs": [
    {
     "name": "stdout",
     "output_type": "stream",
     "text": [
      "Accuracy: \n",
      "0.776119402985\n",
      "\n",
      "classification_report :\n",
      "             precision    recall  f1-score   support\n",
      "\n",
      "          0       0.80      0.93      0.86       149\n",
      "          1       0.63      0.33      0.43        52\n",
      "\n",
      "avg / total       0.76      0.78      0.75       201\n",
      "\n"
     ]
    }
   ],
   "source": [
    "FS=dat['FS'][:450]\n",
    "model.fit(feature_diff[:450],FS)\n",
    "preds =model.predict(feature_diff[451:])\n",
    "pd.crosstab(preds,dat['FS'][451:])\n",
    "print(\"Accuracy: \")\n",
    "print(model.score(feature_diff[451:],dat['FS'][451:]))\n",
    "print()\n",
    "print(\"classification_report :\")\n",
    "print( metrics.classification_report(y_true=dat['FS'][451:],y_pred=preds) )"
   ]
  },
  {
   "cell_type": "code",
   "execution_count": 154,
   "metadata": {
    "collapsed": false
   },
   "outputs": [
    {
     "name": "stdout",
     "output_type": "stream",
     "text": [
      "Accuracy: \n",
      "0.845771144279\n",
      "\n",
      "classification_report :\n",
      "             precision    recall  f1-score   support\n",
      "\n",
      "          0       0.86      0.98      0.92       172\n",
      "          1       0.25      0.03      0.06        29\n",
      "\n",
      "avg / total       0.77      0.85      0.79       201\n",
      "\n"
     ]
    }
   ],
   "source": [
    "FS=dat['Sample'][:450]\n",
    "model.fit(feature_diff[:450],FS)\n",
    "preds =model.predict(feature_diff[451:])\n",
    "pd.crosstab(preds,dat['Sample'][451:])\n",
    "print(\"Accuracy: \")\n",
    "print(model.score(feature_diff[451:],dat['Sample'][451:]))\n",
    "print()\n",
    "print(\"classification_report :\")\n",
    "print( metrics.classification_report(y_true=dat['Sample'][451:],y_pred=preds) )"
   ]
  },
  {
   "cell_type": "code",
   "execution_count": 157,
   "metadata": {
    "collapsed": false
   },
   "outputs": [
    {
     "name": "stdout",
     "output_type": "stream",
     "text": [
      "Accuracy: \n",
      "0.582089552239\n",
      "\n",
      "classification_report :\n",
      "             precision    recall  f1-score   support\n",
      "\n",
      "          0       0.57      0.71      0.63       101\n",
      "          1       0.61      0.45      0.52       100\n",
      "\n",
      "avg / total       0.59      0.58      0.57       201\n",
      "\n"
     ]
    }
   ],
   "source": [
    "FS=dat['Exaggeration'][:450]\n",
    "model.fit(feature_diff[:450],FS)\n",
    "preds =model.predict(feature_diff[451:])\n",
    "pd.crosstab(preds,dat['Exaggeration'][451:])\n",
    "print(\"Accuracy: \")\n",
    "print(model.score(feature_diff[451:],dat['Exaggeration'][451:]))\n",
    "print()\n",
    "print(\"classification_report :\")\n",
    "print( metrics.classification_report(y_true=dat['Exaggeration'][451:],y_pred=preds) )"
   ]
  },
  {
   "cell_type": "code",
   "execution_count": 82,
   "metadata": {
    "collapsed": true
   },
   "outputs": [],
   "source": [
    "from sklearn.ensemble import BaggingClassifier\n",
    "model=BaggingClassifier()\n",
    "dat=pd.read_csv(r\"C:\\Users\\PUSHPENDRA\\Desktop\\Acads\\Autumn 2017-18\\snlp\\open data\\Exaggeration_new.csv\")"
   ]
  },
  {
   "cell_type": "code",
   "execution_count": 160,
   "metadata": {
    "collapsed": false
   },
   "outputs": [
    {
     "name": "stdout",
     "output_type": "stream",
     "text": [
      "Accuracy: \n",
      "0.766169154229\n",
      "\n",
      "classification_report :\n",
      "             precision    recall  f1-score   support\n",
      "\n",
      "          0       0.81      0.93      0.86       161\n",
      "          1       0.29      0.12      0.18        40\n",
      "\n",
      "avg / total       0.71      0.77      0.73       201\n",
      "\n"
     ]
    }
   ],
   "source": [
    "FS=dat['Advice'][:450]\n",
    "model.fit(feature[:450],FS)\n",
    "preds =model.predict(feature[451:])\n",
    "pd.crosstab(preds,dat['Advice'][451:])\n",
    "print(\"Accuracy: \")\n",
    "print(model.score(feature[451:],dat['Advice'][451:]))\n",
    "print()\n",
    "print(\"classification_report :\")\n",
    "print( metrics.classification_report(y_true=dat['Advice'][451:],y_pred=preds) )"
   ]
  },
  {
   "cell_type": "code",
   "execution_count": 167,
   "metadata": {
    "collapsed": false
   },
   "outputs": [
    {
     "name": "stdout",
     "output_type": "stream",
     "text": [
      "Accuracy: \n",
      "0.601990049751\n",
      "\n",
      "classification_report :\n",
      "             precision    recall  f1-score   support\n",
      "\n",
      "          0       0.59      0.67      0.63       101\n",
      "          1       0.62      0.53      0.57       100\n",
      "\n",
      "avg / total       0.60      0.60      0.60       201\n",
      "\n"
     ]
    }
   ],
   "source": [
    "FS=dat['Exaggeration'][:450]\n",
    "model.fit(feature[:450],FS)\n",
    "preds =model.predict(feature[451:])\n",
    "pd.crosstab(preds,dat['Exaggeration'][451:])\n",
    "print(\"Accuracy: \")\n",
    "print(model.score(feature[451:],dat['Exaggeration'][451:]))\n",
    "print()\n",
    "print(\"classification_report :\")\n",
    "print( metrics.classification_report(y_true=dat['Exaggeration'][451:],y_pred=preds) )"
   ]
  },
  {
   "cell_type": "code",
   "execution_count": 168,
   "metadata": {
    "collapsed": false
   },
   "outputs": [
    {
     "name": "stdout",
     "output_type": "stream",
     "text": [
      "Accuracy: \n",
      "0.73631840796\n",
      "\n",
      "classification_report :\n",
      "             precision    recall  f1-score   support\n",
      "\n",
      "          0       0.76      0.95      0.84       149\n",
      "          1       0.46      0.12      0.18        52\n",
      "\n",
      "avg / total       0.68      0.74      0.67       201\n",
      "\n"
     ]
    }
   ],
   "source": [
    "FS=dat['FS'][:450]\n",
    "model.fit(feature[:450],FS)\n",
    "preds =model.predict(feature[451:])\n",
    "pd.crosstab(preds,dat['FS'][451:])\n",
    "print(\"Accuracy: \")\n",
    "print(model.score(feature[451:],dat['FS'][451:]))\n",
    "print()\n",
    "print(\"classification_report :\")\n",
    "print( metrics.classification_report(y_true=dat['FS'][451:],y_pred=preds) )"
   ]
  },
  {
   "cell_type": "code",
   "execution_count": 169,
   "metadata": {
    "collapsed": false
   },
   "outputs": [
    {
     "name": "stdout",
     "output_type": "stream",
     "text": [
      "Accuracy: \n",
      "0.855721393035\n",
      "\n",
      "classification_report :\n",
      "             precision    recall  f1-score   support\n",
      "\n",
      "          0       0.86      0.99      0.92       172\n",
      "          1       0.50      0.03      0.06        29\n",
      "\n",
      "avg / total       0.81      0.86      0.80       201\n",
      "\n"
     ]
    }
   ],
   "source": [
    "FS=dat['Sample'][:450]\n",
    "model.fit(feature[:450],FS)\n",
    "preds =model.predict(feature[451:])\n",
    "pd.crosstab(preds,dat['Sample'][451:])\n",
    "print(\"Accuracy: \")\n",
    "print(model.score(feature[451:],dat['Sample'][451:]))\n",
    "print()\n",
    "print(\"classification_report :\")\n",
    "print( metrics.classification_report(y_true=dat['Sample'][451:],y_pred=preds) )"
   ]
  },
  {
   "cell_type": "code",
   "execution_count": 170,
   "metadata": {
    "collapsed": false
   },
   "outputs": [
    {
     "name": "stdout",
     "output_type": "stream",
     "text": [
      "Accuracy: \n",
      "0.726368159204\n",
      "\n",
      "classification_report :\n",
      "             precision    recall  f1-score   support\n",
      "\n",
      "          0       0.73      0.73      0.73       101\n",
      "          1       0.73      0.72      0.72       100\n",
      "\n",
      "avg / total       0.73      0.73      0.73       201\n",
      "\n"
     ]
    }
   ],
   "source": [
    "FS=dat['Exaggeration'][:450]\n",
    "model.fit(feature_all[:450],FS)\n",
    "preds =model.predict(feature_all[451:])\n",
    "pd.crosstab(preds,dat['Exaggeration'][451:])\n",
    "print(\"Accuracy: \")\n",
    "print(model.score(feature_all[451:],dat['Exaggeration'][451:]))\n",
    "print()\n",
    "print(\"classification_report :\")\n",
    "print( metrics.classification_report(y_true=dat['Exaggeration'][451:],y_pred=preds) )"
   ]
  },
  {
   "cell_type": "code",
   "execution_count": 171,
   "metadata": {
    "collapsed": false
   },
   "outputs": [
    {
     "name": "stdout",
     "output_type": "stream",
     "text": [
      "Accuracy: \n",
      "0.835820895522\n",
      "\n",
      "classification_report :\n",
      "             precision    recall  f1-score   support\n",
      "\n",
      "          0       0.85      0.96      0.90       161\n",
      "          1       0.68      0.33      0.44        40\n",
      "\n",
      "avg / total       0.82      0.84      0.81       201\n",
      "\n"
     ]
    }
   ],
   "source": [
    "FS=dat['Advice'][:450]\n",
    "model.fit(feature_all[:450],FS)\n",
    "preds =model.predict(feature_all[451:])\n",
    "pd.crosstab(preds,dat['Advice'][451:])\n",
    "print(\"Accuracy: \")\n",
    "print(model.score(feature_all[451:],dat['Advice'][451:]))\n",
    "print()\n",
    "print(\"classification_report :\")\n",
    "print( metrics.classification_report(y_true=dat['Advice'][451:],y_pred=preds) )"
   ]
  },
  {
   "cell_type": "code",
   "execution_count": 172,
   "metadata": {
    "collapsed": false
   },
   "outputs": [
    {
     "name": "stdout",
     "output_type": "stream",
     "text": [
      "Accuracy: \n",
      "0.825870646766\n",
      "\n",
      "classification_report :\n",
      "             precision    recall  f1-score   support\n",
      "\n",
      "          0       0.84      0.95      0.89       149\n",
      "          1       0.77      0.46      0.58        52\n",
      "\n",
      "avg / total       0.82      0.83      0.81       201\n",
      "\n"
     ]
    }
   ],
   "source": [
    "FS=dat['FS'][:450]\n",
    "model.fit(feature_all[:450],FS)\n",
    "preds =model.predict(feature_all[451:])\n",
    "pd.crosstab(preds,dat['FS'][451:])\n",
    "print(\"Accuracy: \")\n",
    "print(model.score(feature_all[451:],dat['FS'][451:]))\n",
    "print()\n",
    "print(\"classification_report :\")\n",
    "print( metrics.classification_report(y_true=dat['FS'][451:],y_pred=preds) )"
   ]
  },
  {
   "cell_type": "code",
   "execution_count": 173,
   "metadata": {
    "collapsed": false
   },
   "outputs": [
    {
     "name": "stdout",
     "output_type": "stream",
     "text": [
      "Accuracy: \n",
      "0.910447761194\n",
      "\n",
      "classification_report :\n",
      "             precision    recall  f1-score   support\n",
      "\n",
      "          0       0.93      0.97      0.95       172\n",
      "          1       0.76      0.55      0.64        29\n",
      "\n",
      "avg / total       0.90      0.91      0.90       201\n",
      "\n"
     ]
    }
   ],
   "source": [
    "FS=dat['Sample'][:450]\n",
    "model.fit(feature_all[:450],FS)\n",
    "preds =model.predict(feature_all[451:])\n",
    "pd.crosstab(preds,dat['Sample'][451:])\n",
    "print(\"Accuracy: \")\n",
    "print(model.score(feature_all[451:],dat['Sample'][451:]))\n",
    "print()\n",
    "print(\"classification_report :\")\n",
    "print( metrics.classification_report(y_true=dat['Sample'][451:],y_pred=preds) )"
   ]
  }
 ],
 "metadata": {
  "kernelspec": {
   "display_name": "Python 3",
   "language": "python",
   "name": "python3"
  },
  "language_info": {
   "codemirror_mode": {
    "name": "ipython",
    "version": 3
   },
   "file_extension": ".py",
   "mimetype": "text/x-python",
   "name": "python",
   "nbconvert_exporter": "python",
   "pygments_lexer": "ipython3",
   "version": "3.6.0"
  }
 },
 "nbformat": 4,
 "nbformat_minor": 2
}
